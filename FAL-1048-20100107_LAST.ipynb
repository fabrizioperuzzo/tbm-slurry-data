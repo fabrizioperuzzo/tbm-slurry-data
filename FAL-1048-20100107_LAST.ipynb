{
 "cells": [
  {
   "cell_type": "code",
   "execution_count": 1,
   "metadata": {},
   "outputs": [
    {
     "name": "stdout",
     "output_type": "stream",
     "text": [
      "C:\\ProgramData\\Anaconda3_1\\envs\\datimacchinaenv\\python.exe\n"
     ]
    }
   ],
   "source": [
    "#!/usr/bin/env conda run -n datimacchinaenv python\n",
    "import sys\n",
    "print(sys.executable)    ### C:\\ProgramData\\Anaconda3_1\\envs\\datimacchinaenv\\python.exe"
   ]
  },
  {
   "cell_type": "code",
   "execution_count": 2,
   "metadata": {
    "scrolled": true
   },
   "outputs": [],
   "source": [
    "# !{sys.executable} -m pip install Pillow\n",
    "# !{sys.executable} -m pip install seaborn\n",
    "#!conda install --yes --prefix {sys.prefix} xlrd      ##  pd.read_excel\n",
    "#!{sys.executable} -m pip install tables              ##  df.to_hdf"
   ]
  },
  {
   "cell_type": "code",
   "execution_count": 3,
   "metadata": {},
   "outputs": [
    {
     "name": "stdout",
     "output_type": "stream",
     "text": [
      "# conda environments:\n",
      "#\n",
      "base                     C:\\ProgramData\\Anaconda3_1\n",
      "Env2                     C:\\ProgramData\\Anaconda3_1\\envs\\Env2\n",
      "datimacchinaenv       *  C:\\ProgramData\\Anaconda3_1\\envs\\datimacchinaenv\n",
      "newenv1                  C:\\ProgramData\\Anaconda3_1\\envs\\newenv1\n",
      "newenv3                  C:\\ProgramData\\Anaconda3_1\\envs\\newenv3\n",
      "py27                     C:\\ProgramData\\Anaconda3_1\\envs\\py27\n",
      "pymc3venv                C:\\ProgramData\\Anaconda3_1\\envs\\pymc3venv\n",
      "v-env2                   C:\\ProgramData\\Anaconda3_1\\envs\\v-env2\n",
      "\n"
     ]
    }
   ],
   "source": [
    "!conda env list"
   ]
  },
  {
   "cell_type": "code",
   "execution_count": 4,
   "metadata": {},
   "outputs": [
    {
     "name": "stdout",
     "output_type": "stream",
     "text": [
      "Available kernels:\n",
      "  python3    C:\\ProgramData\\Anaconda3_1\\envs\\datimacchinaenv\\share\\jupyter\\kernels\\python3\n"
     ]
    }
   ],
   "source": [
    "!jupyter kernelspec list"
   ]
  },
  {
   "cell_type": "code",
   "execution_count": 5,
   "metadata": {},
   "outputs": [],
   "source": [
    "# !{sys.executable} -m pip install openpyxl\n",
    "# !{sys.executable} -m pip install Pillow\n",
    "# !{sys.executable} -m pip install seaborn\n",
    "# !conda install --yes --prefix {sys.prefix} xlrd \n",
    "# !{sys.executable} -m pip install tables              "
   ]
  },
  {
   "cell_type": "code",
   "execution_count": 6,
   "metadata": {},
   "outputs": [],
   "source": [
    "import pandas as pd\n",
    "import os\n",
    "import matplotlib.pyplot as plt\n",
    "import matplotlib.dates as mdates\n",
    "import numpy as np"
   ]
  },
  {
   "cell_type": "code",
   "execution_count": 7,
   "metadata": {},
   "outputs": [],
   "source": [
    "from pylab import *\n",
    "from mpl_toolkits.mplot3d import Axes3D\n",
    "import matplotlib.pyplot as plt"
   ]
  },
  {
   "cell_type": "code",
   "execution_count": 8,
   "metadata": {},
   "outputs": [],
   "source": [
    "from matplotlib.animation import FuncAnimation"
   ]
  },
  {
   "cell_type": "code",
   "execution_count": 9,
   "metadata": {},
   "outputs": [],
   "source": [
    "import glob\n",
    "from PIL import Image\n",
    "from images2gif import writeGif  # requires --> (datimacchinaenv) pip install images2gif\n",
    "\n",
    "#####   important before to start do the same change to the package images2gif   ###########\n",
    "\n",
    "#       manually change the two import statements in your already installed package (in __init__.py):\n",
    "\n",
    "#       -from images2gif import readGif as readGif\n",
    "#       -from images2gif import writeGif as writeGif\n",
    "#       +from .images2gif import readGif as readGif\n",
    "#       +from .images2gif import writeGif as writeGif\n",
    "\n",
    "\n",
    "\n",
    "import IPython.display as IPdisplay"
   ]
  },
  {
   "cell_type": "code",
   "execution_count": 10,
   "metadata": {},
   "outputs": [],
   "source": [
    "import shutil"
   ]
  },
  {
   "cell_type": "code",
   "execution_count": 11,
   "metadata": {},
   "outputs": [],
   "source": [
    "# per matrice correlazione\n",
    "import seaborn as sns\n",
    "# Scipy helper functions\n",
    "from scipy.stats import percentileofscore\n",
    "from scipy import stats"
   ]
  },
  {
   "cell_type": "code",
   "execution_count": 12,
   "metadata": {},
   "outputs": [],
   "source": [
    "import matplotlib.tri as mtri\n",
    "import datetime as dt"
   ]
  },
  {
   "cell_type": "code",
   "execution_count": 13,
   "metadata": {},
   "outputs": [],
   "source": [
    "import h5py"
   ]
  },
  {
   "cell_type": "code",
   "execution_count": 14,
   "metadata": {},
   "outputs": [
    {
     "data": {
      "text/plain": [
       "['GEODATA_S-1048_RAW_20200107_MERGE.xls']"
      ]
     },
     "execution_count": 14,
     "metadata": {},
     "output_type": "execute_result"
    }
   ],
   "source": [
    "path = os.getcwd()+'\\\\DATA\\\\20200107'\n",
    "\n",
    "files = []\n",
    "filespath = []\n",
    "# r=root, d=directories, f = files\n",
    "for r, d, f in os.walk(path):\n",
    "    for file in f:\n",
    "        if r'MERGE' in file:\n",
    "            files.append(file)\n",
    "            filespath.append(os.path.join(r, file))\n",
    "            \n",
    "# since there is only one file I need only the file name\n",
    "os.path.join(r, files[0])\n",
    "files"
   ]
  },
  {
   "cell_type": "markdown",
   "metadata": {},
   "source": [
    "#### SAVE AS H5 FILE"
   ]
  },
  {
   "cell_type": "code",
   "execution_count": 41,
   "metadata": {},
   "outputs": [],
   "source": [
    "#dfxls.to_hdf('GEODATA_S-1048_RAW_20200107_MERGE.h5', key='losses')"
   ]
  },
  {
   "cell_type": "markdown",
   "metadata": {},
   "source": [
    "## SELECT DB TO UPLOAD"
   ]
  },
  {
   "cell_type": "code",
   "execution_count": 44,
   "metadata": {},
   "outputs": [],
   "source": [
    "# dfxls = pd.read_excel(os.path.join(r, files[0]))"
   ]
  },
  {
   "cell_type": "code",
   "execution_count": 15,
   "metadata": {},
   "outputs": [],
   "source": [
    "dfxls = pd.read_hdf('GEODATA_S-1048_RAW_20200107_MERGE.h5', key='losses')"
   ]
  },
  {
   "cell_type": "code",
   "execution_count": 16,
   "metadata": {},
   "outputs": [
    {
     "data": {
      "text/html": [
       "<div>\n",
       "<style scoped>\n",
       "    .dataframe tbody tr th:only-of-type {\n",
       "        vertical-align: middle;\n",
       "    }\n",
       "\n",
       "    .dataframe tbody tr th {\n",
       "        vertical-align: top;\n",
       "    }\n",
       "\n",
       "    .dataframe thead th {\n",
       "        text-align: right;\n",
       "    }\n",
       "</style>\n",
       "<table border=\"1\" class=\"dataframe\">\n",
       "  <thead>\n",
       "    <tr style=\"text-align: right;\">\n",
       "      <th></th>\n",
       "      <th>Date</th>\n",
       "      <th>S-1048_ADVANCE_ADVANCE_NO [-]</th>\n",
       "      <th>Pressure excavation chamber 1 [bar]</th>\n",
       "      <th>Pressure excavation chamber 2 [bar]</th>\n",
       "      <th>Pressure excavation chamber 3 [bar]</th>\n",
       "      <th>Pressure excavation chamber 4 [bar]</th>\n",
       "      <th>Pressure excavation chamber 5 [bar]</th>\n",
       "      <th>Pressure excavation chamber 6 [bar]</th>\n",
       "      <th>Pressure excavation chamber 7 [bar]</th>\n",
       "      <th>Pressure excavation chamber 8 [bar]</th>\n",
       "      <th>...</th>\n",
       "      <th>Slurry Circuit Flow Sensor, Position 5 [m³/h]</th>\n",
       "      <th>Slurry Circuit Flow Sensor, Position 6 [m³/h]</th>\n",
       "      <th>Slurry Circuit Flow Sensor, Position 7 [m³/h]</th>\n",
       "      <th>Slurry Circuit Flow Sensor, Position 8 [m³/h]</th>\n",
       "      <th>AET Net Stroke [mm]</th>\n",
       "      <th>Stroke thrust cylinder Gr. A [mm]</th>\n",
       "      <th>Stroke thrust cylinder Gr. B [mm]</th>\n",
       "      <th>Stroke thrust cylinder Gr. C [mm]</th>\n",
       "      <th>Stroke thrust cylinder Gr. D [mm]</th>\n",
       "      <th>Stroke thrust cylinder Gr. E [mm]</th>\n",
       "    </tr>\n",
       "  </thead>\n",
       "  <tbody>\n",
       "    <tr>\n",
       "      <th>0</th>\n",
       "      <td>2020-01-07 07:00:00</td>\n",
       "      <td>4201</td>\n",
       "      <td>1.814</td>\n",
       "      <td>2.000</td>\n",
       "      <td>2.105</td>\n",
       "      <td>2.262</td>\n",
       "      <td>2.287</td>\n",
       "      <td>2.112</td>\n",
       "      <td>1.821</td>\n",
       "      <td>1.707</td>\n",
       "      <td>...</td>\n",
       "      <td>0</td>\n",
       "      <td>0</td>\n",
       "      <td>0</td>\n",
       "      <td>0.009</td>\n",
       "      <td>1606</td>\n",
       "      <td>1911</td>\n",
       "      <td>1924</td>\n",
       "      <td>1928</td>\n",
       "      <td>1917</td>\n",
       "      <td>1911</td>\n",
       "    </tr>\n",
       "    <tr>\n",
       "      <th>1</th>\n",
       "      <td>2020-01-07 07:00:30</td>\n",
       "      <td>4201</td>\n",
       "      <td>1.814</td>\n",
       "      <td>2.000</td>\n",
       "      <td>2.105</td>\n",
       "      <td>2.262</td>\n",
       "      <td>2.287</td>\n",
       "      <td>2.112</td>\n",
       "      <td>1.824</td>\n",
       "      <td>1.707</td>\n",
       "      <td>...</td>\n",
       "      <td>0</td>\n",
       "      <td>0</td>\n",
       "      <td>0</td>\n",
       "      <td>0.009</td>\n",
       "      <td>1606</td>\n",
       "      <td>1911</td>\n",
       "      <td>1924</td>\n",
       "      <td>1928</td>\n",
       "      <td>1917</td>\n",
       "      <td>1911</td>\n",
       "    </tr>\n",
       "    <tr>\n",
       "      <th>2</th>\n",
       "      <td>2020-01-07 07:01:00</td>\n",
       "      <td>4201</td>\n",
       "      <td>1.814</td>\n",
       "      <td>2.000</td>\n",
       "      <td>2.102</td>\n",
       "      <td>2.262</td>\n",
       "      <td>2.287</td>\n",
       "      <td>2.112</td>\n",
       "      <td>1.824</td>\n",
       "      <td>1.707</td>\n",
       "      <td>...</td>\n",
       "      <td>0</td>\n",
       "      <td>0</td>\n",
       "      <td>0</td>\n",
       "      <td>0.009</td>\n",
       "      <td>1606</td>\n",
       "      <td>1911</td>\n",
       "      <td>1924</td>\n",
       "      <td>1928</td>\n",
       "      <td>1917</td>\n",
       "      <td>1911</td>\n",
       "    </tr>\n",
       "    <tr>\n",
       "      <th>3</th>\n",
       "      <td>2020-01-07 07:01:30</td>\n",
       "      <td>4201</td>\n",
       "      <td>1.814</td>\n",
       "      <td>2.000</td>\n",
       "      <td>2.102</td>\n",
       "      <td>2.262</td>\n",
       "      <td>2.287</td>\n",
       "      <td>2.112</td>\n",
       "      <td>1.824</td>\n",
       "      <td>1.707</td>\n",
       "      <td>...</td>\n",
       "      <td>0</td>\n",
       "      <td>0</td>\n",
       "      <td>0</td>\n",
       "      <td>0.009</td>\n",
       "      <td>1606</td>\n",
       "      <td>1911</td>\n",
       "      <td>1924</td>\n",
       "      <td>1928</td>\n",
       "      <td>1917</td>\n",
       "      <td>1911</td>\n",
       "    </tr>\n",
       "    <tr>\n",
       "      <th>4</th>\n",
       "      <td>2020-01-07 07:02:00</td>\n",
       "      <td>4201</td>\n",
       "      <td>1.814</td>\n",
       "      <td>2.000</td>\n",
       "      <td>2.105</td>\n",
       "      <td>2.262</td>\n",
       "      <td>2.287</td>\n",
       "      <td>2.112</td>\n",
       "      <td>1.821</td>\n",
       "      <td>1.707</td>\n",
       "      <td>...</td>\n",
       "      <td>0</td>\n",
       "      <td>0</td>\n",
       "      <td>0</td>\n",
       "      <td>0.009</td>\n",
       "      <td>1606</td>\n",
       "      <td>1911</td>\n",
       "      <td>1924</td>\n",
       "      <td>1928</td>\n",
       "      <td>1917</td>\n",
       "      <td>1911</td>\n",
       "    </tr>\n",
       "    <tr>\n",
       "      <th>...</th>\n",
       "      <td>...</td>\n",
       "      <td>...</td>\n",
       "      <td>...</td>\n",
       "      <td>...</td>\n",
       "      <td>...</td>\n",
       "      <td>...</td>\n",
       "      <td>...</td>\n",
       "      <td>...</td>\n",
       "      <td>...</td>\n",
       "      <td>...</td>\n",
       "      <td>...</td>\n",
       "      <td>...</td>\n",
       "      <td>...</td>\n",
       "      <td>...</td>\n",
       "      <td>...</td>\n",
       "      <td>...</td>\n",
       "      <td>...</td>\n",
       "      <td>...</td>\n",
       "      <td>...</td>\n",
       "      <td>...</td>\n",
       "      <td>...</td>\n",
       "    </tr>\n",
       "    <tr>\n",
       "      <th>2875</th>\n",
       "      <td>2020-01-08 06:57:30</td>\n",
       "      <td>4207</td>\n",
       "      <td>1.836</td>\n",
       "      <td>2.011</td>\n",
       "      <td>2.124</td>\n",
       "      <td>2.262</td>\n",
       "      <td>2.279</td>\n",
       "      <td>2.109</td>\n",
       "      <td>1.846</td>\n",
       "      <td>1.715</td>\n",
       "      <td>...</td>\n",
       "      <td>0</td>\n",
       "      <td>0</td>\n",
       "      <td>0</td>\n",
       "      <td>0.009</td>\n",
       "      <td>1601</td>\n",
       "      <td>287</td>\n",
       "      <td>295</td>\n",
       "      <td>318</td>\n",
       "      <td>317</td>\n",
       "      <td>306</td>\n",
       "    </tr>\n",
       "    <tr>\n",
       "      <th>2876</th>\n",
       "      <td>2020-01-08 06:58:00</td>\n",
       "      <td>4207</td>\n",
       "      <td>1.836</td>\n",
       "      <td>2.011</td>\n",
       "      <td>2.124</td>\n",
       "      <td>2.262</td>\n",
       "      <td>2.282</td>\n",
       "      <td>2.109</td>\n",
       "      <td>1.846</td>\n",
       "      <td>1.715</td>\n",
       "      <td>...</td>\n",
       "      <td>0</td>\n",
       "      <td>0</td>\n",
       "      <td>0</td>\n",
       "      <td>0.009</td>\n",
       "      <td>1601</td>\n",
       "      <td>287</td>\n",
       "      <td>295</td>\n",
       "      <td>318</td>\n",
       "      <td>317</td>\n",
       "      <td>306</td>\n",
       "    </tr>\n",
       "    <tr>\n",
       "      <th>2877</th>\n",
       "      <td>2020-01-08 06:58:30</td>\n",
       "      <td>4207</td>\n",
       "      <td>1.833</td>\n",
       "      <td>2.011</td>\n",
       "      <td>2.124</td>\n",
       "      <td>2.262</td>\n",
       "      <td>2.279</td>\n",
       "      <td>2.109</td>\n",
       "      <td>1.846</td>\n",
       "      <td>1.715</td>\n",
       "      <td>...</td>\n",
       "      <td>0</td>\n",
       "      <td>0</td>\n",
       "      <td>0</td>\n",
       "      <td>0.009</td>\n",
       "      <td>1601</td>\n",
       "      <td>287</td>\n",
       "      <td>295</td>\n",
       "      <td>318</td>\n",
       "      <td>317</td>\n",
       "      <td>306</td>\n",
       "    </tr>\n",
       "    <tr>\n",
       "      <th>2878</th>\n",
       "      <td>2020-01-08 06:59:00</td>\n",
       "      <td>4207</td>\n",
       "      <td>1.833</td>\n",
       "      <td>2.011</td>\n",
       "      <td>2.124</td>\n",
       "      <td>2.262</td>\n",
       "      <td>2.279</td>\n",
       "      <td>2.109</td>\n",
       "      <td>1.846</td>\n",
       "      <td>1.715</td>\n",
       "      <td>...</td>\n",
       "      <td>0</td>\n",
       "      <td>0</td>\n",
       "      <td>0</td>\n",
       "      <td>0.009</td>\n",
       "      <td>1601</td>\n",
       "      <td>287</td>\n",
       "      <td>295</td>\n",
       "      <td>318</td>\n",
       "      <td>317</td>\n",
       "      <td>306</td>\n",
       "    </tr>\n",
       "    <tr>\n",
       "      <th>2879</th>\n",
       "      <td>2020-01-08 06:59:30</td>\n",
       "      <td>4207</td>\n",
       "      <td>1.833</td>\n",
       "      <td>2.011</td>\n",
       "      <td>2.124</td>\n",
       "      <td>2.262</td>\n",
       "      <td>2.279</td>\n",
       "      <td>2.109</td>\n",
       "      <td>1.846</td>\n",
       "      <td>1.715</td>\n",
       "      <td>...</td>\n",
       "      <td>0</td>\n",
       "      <td>0</td>\n",
       "      <td>0</td>\n",
       "      <td>0.009</td>\n",
       "      <td>1601</td>\n",
       "      <td>287</td>\n",
       "      <td>295</td>\n",
       "      <td>318</td>\n",
       "      <td>317</td>\n",
       "      <td>306</td>\n",
       "    </tr>\n",
       "  </tbody>\n",
       "</table>\n",
       "<p>2880 rows × 117 columns</p>\n",
       "</div>"
      ],
      "text/plain": [
       "                     Date  S-1048_ADVANCE_ADVANCE_NO [-]  \\\n",
       "0     2020-01-07 07:00:00                           4201   \n",
       "1     2020-01-07 07:00:30                           4201   \n",
       "2     2020-01-07 07:01:00                           4201   \n",
       "3     2020-01-07 07:01:30                           4201   \n",
       "4     2020-01-07 07:02:00                           4201   \n",
       "...                   ...                            ...   \n",
       "2875  2020-01-08 06:57:30                           4207   \n",
       "2876  2020-01-08 06:58:00                           4207   \n",
       "2877  2020-01-08 06:58:30                           4207   \n",
       "2878  2020-01-08 06:59:00                           4207   \n",
       "2879  2020-01-08 06:59:30                           4207   \n",
       "\n",
       "      Pressure excavation chamber 1 [bar]  \\\n",
       "0                                   1.814   \n",
       "1                                   1.814   \n",
       "2                                   1.814   \n",
       "3                                   1.814   \n",
       "4                                   1.814   \n",
       "...                                   ...   \n",
       "2875                                1.836   \n",
       "2876                                1.836   \n",
       "2877                                1.833   \n",
       "2878                                1.833   \n",
       "2879                                1.833   \n",
       "\n",
       "      Pressure excavation chamber 2 [bar]  \\\n",
       "0                                   2.000   \n",
       "1                                   2.000   \n",
       "2                                   2.000   \n",
       "3                                   2.000   \n",
       "4                                   2.000   \n",
       "...                                   ...   \n",
       "2875                                2.011   \n",
       "2876                                2.011   \n",
       "2877                                2.011   \n",
       "2878                                2.011   \n",
       "2879                                2.011   \n",
       "\n",
       "      Pressure excavation chamber 3 [bar]  \\\n",
       "0                                   2.105   \n",
       "1                                   2.105   \n",
       "2                                   2.102   \n",
       "3                                   2.102   \n",
       "4                                   2.105   \n",
       "...                                   ...   \n",
       "2875                                2.124   \n",
       "2876                                2.124   \n",
       "2877                                2.124   \n",
       "2878                                2.124   \n",
       "2879                                2.124   \n",
       "\n",
       "      Pressure excavation chamber 4 [bar]  \\\n",
       "0                                   2.262   \n",
       "1                                   2.262   \n",
       "2                                   2.262   \n",
       "3                                   2.262   \n",
       "4                                   2.262   \n",
       "...                                   ...   \n",
       "2875                                2.262   \n",
       "2876                                2.262   \n",
       "2877                                2.262   \n",
       "2878                                2.262   \n",
       "2879                                2.262   \n",
       "\n",
       "      Pressure excavation chamber 5 [bar]  \\\n",
       "0                                   2.287   \n",
       "1                                   2.287   \n",
       "2                                   2.287   \n",
       "3                                   2.287   \n",
       "4                                   2.287   \n",
       "...                                   ...   \n",
       "2875                                2.279   \n",
       "2876                                2.282   \n",
       "2877                                2.279   \n",
       "2878                                2.279   \n",
       "2879                                2.279   \n",
       "\n",
       "      Pressure excavation chamber 6 [bar]  \\\n",
       "0                                   2.112   \n",
       "1                                   2.112   \n",
       "2                                   2.112   \n",
       "3                                   2.112   \n",
       "4                                   2.112   \n",
       "...                                   ...   \n",
       "2875                                2.109   \n",
       "2876                                2.109   \n",
       "2877                                2.109   \n",
       "2878                                2.109   \n",
       "2879                                2.109   \n",
       "\n",
       "      Pressure excavation chamber 7 [bar]  \\\n",
       "0                                   1.821   \n",
       "1                                   1.824   \n",
       "2                                   1.824   \n",
       "3                                   1.824   \n",
       "4                                   1.821   \n",
       "...                                   ...   \n",
       "2875                                1.846   \n",
       "2876                                1.846   \n",
       "2877                                1.846   \n",
       "2878                                1.846   \n",
       "2879                                1.846   \n",
       "\n",
       "      Pressure excavation chamber 8 [bar]  ...  \\\n",
       "0                                   1.707  ...   \n",
       "1                                   1.707  ...   \n",
       "2                                   1.707  ...   \n",
       "3                                   1.707  ...   \n",
       "4                                   1.707  ...   \n",
       "...                                   ...  ...   \n",
       "2875                                1.715  ...   \n",
       "2876                                1.715  ...   \n",
       "2877                                1.715  ...   \n",
       "2878                                1.715  ...   \n",
       "2879                                1.715  ...   \n",
       "\n",
       "      Slurry Circuit Flow Sensor, Position 5 [m³/h]  \\\n",
       "0                                                 0   \n",
       "1                                                 0   \n",
       "2                                                 0   \n",
       "3                                                 0   \n",
       "4                                                 0   \n",
       "...                                             ...   \n",
       "2875                                              0   \n",
       "2876                                              0   \n",
       "2877                                              0   \n",
       "2878                                              0   \n",
       "2879                                              0   \n",
       "\n",
       "      Slurry Circuit Flow Sensor, Position 6 [m³/h]  \\\n",
       "0                                                 0   \n",
       "1                                                 0   \n",
       "2                                                 0   \n",
       "3                                                 0   \n",
       "4                                                 0   \n",
       "...                                             ...   \n",
       "2875                                              0   \n",
       "2876                                              0   \n",
       "2877                                              0   \n",
       "2878                                              0   \n",
       "2879                                              0   \n",
       "\n",
       "      Slurry Circuit Flow Sensor, Position 7 [m³/h]  \\\n",
       "0                                                 0   \n",
       "1                                                 0   \n",
       "2                                                 0   \n",
       "3                                                 0   \n",
       "4                                                 0   \n",
       "...                                             ...   \n",
       "2875                                              0   \n",
       "2876                                              0   \n",
       "2877                                              0   \n",
       "2878                                              0   \n",
       "2879                                              0   \n",
       "\n",
       "      Slurry Circuit Flow Sensor, Position 8 [m³/h]  AET Net Stroke [mm]  \\\n",
       "0                                             0.009                 1606   \n",
       "1                                             0.009                 1606   \n",
       "2                                             0.009                 1606   \n",
       "3                                             0.009                 1606   \n",
       "4                                             0.009                 1606   \n",
       "...                                             ...                  ...   \n",
       "2875                                          0.009                 1601   \n",
       "2876                                          0.009                 1601   \n",
       "2877                                          0.009                 1601   \n",
       "2878                                          0.009                 1601   \n",
       "2879                                          0.009                 1601   \n",
       "\n",
       "      Stroke thrust cylinder Gr. A [mm]  Stroke thrust cylinder Gr. B [mm]  \\\n",
       "0                                  1911                               1924   \n",
       "1                                  1911                               1924   \n",
       "2                                  1911                               1924   \n",
       "3                                  1911                               1924   \n",
       "4                                  1911                               1924   \n",
       "...                                 ...                                ...   \n",
       "2875                                287                                295   \n",
       "2876                                287                                295   \n",
       "2877                                287                                295   \n",
       "2878                                287                                295   \n",
       "2879                                287                                295   \n",
       "\n",
       "      Stroke thrust cylinder Gr. C [mm]  Stroke thrust cylinder Gr. D [mm]  \\\n",
       "0                                  1928                               1917   \n",
       "1                                  1928                               1917   \n",
       "2                                  1928                               1917   \n",
       "3                                  1928                               1917   \n",
       "4                                  1928                               1917   \n",
       "...                                 ...                                ...   \n",
       "2875                                318                                317   \n",
       "2876                                318                                317   \n",
       "2877                                318                                317   \n",
       "2878                                318                                317   \n",
       "2879                                318                                317   \n",
       "\n",
       "      Stroke thrust cylinder Gr. E [mm]  \n",
       "0                                  1911  \n",
       "1                                  1911  \n",
       "2                                  1911  \n",
       "3                                  1911  \n",
       "4                                  1911  \n",
       "...                                 ...  \n",
       "2875                                306  \n",
       "2876                                306  \n",
       "2877                                306  \n",
       "2878                                306  \n",
       "2879                                306  \n",
       "\n",
       "[2880 rows x 117 columns]"
      ]
     },
     "execution_count": 16,
     "metadata": {},
     "output_type": "execute_result"
    }
   ],
   "source": [
    "dfxls"
   ]
  },
  {
   "cell_type": "code",
   "execution_count": 116,
   "metadata": {},
   "outputs": [],
   "source": [
    "# dfxls = pd.read_hdf('ALL2.h5', key='losses')"
   ]
  },
  {
   "cell_type": "markdown",
   "metadata": {},
   "source": [
    "## CLEAN DATA AND CREATE NEW COLUMN"
   ]
  },
  {
   "cell_type": "markdown",
   "metadata": {},
   "source": [
    "#### Drop double columns ending by .1"
   ]
  },
  {
   "cell_type": "code",
   "execution_count": 117,
   "metadata": {},
   "outputs": [],
   "source": [
    "dfxls.filter(regex='[.]1$')\n",
    "dfxls = dfxls[dfxls.columns.drop(list(dfxls.filter(regex='[.]1$')))]"
   ]
  },
  {
   "cell_type": "markdown",
   "metadata": {},
   "source": [
    "###  Create new columns\n",
    "\n",
    "#### First we create a column that can be detected as date"
   ]
  },
  {
   "cell_type": "code",
   "execution_count": 118,
   "metadata": {},
   "outputs": [],
   "source": [
    "dfxls['datestamp']=pd.to_datetime(dfxls.Date)\n",
    "dfxls['timestamp']=dfxls.datestamp.apply(lambda x: int(time.mktime(x.timetuple())))"
   ]
  },
  {
   "cell_type": "code",
   "execution_count": 119,
   "metadata": {},
   "outputs": [],
   "source": [
    "dfxls.sort_values('timestamp',inplace=True)"
   ]
  },
  {
   "cell_type": "markdown",
   "metadata": {},
   "source": [
    "#### Then we find the position of relevant indicators"
   ]
  },
  {
   "cell_type": "code",
   "execution_count": 120,
   "metadata": {},
   "outputs": [],
   "source": [
    "# cerco la posizione del fill level\n",
    "\n",
    "# regex  --> (?i) means case unsensible\n",
    "\n",
    "pos_filllev=int(dfxls.columns.get_loc(dfxls.filter(regex='(?i)fill.*lev.*work.*chamb').columns.tolist()[0]))\n",
    "pos_stroke=int(dfxls.columns.get_loc(dfxls.filter(regex='(?i)aet.*stroke').columns.tolist()[0]))\n",
    "pos_p01=int(dfxls.columns.get_loc(dfxls.filter(regex='^(?=.*(?i)P0.1)(?=.*(?i)Flow)(?=.*(?i)m³/h).*$').columns.tolist()[0]))\n",
    "pos_p02=int(dfxls.columns.get_loc(dfxls.filter(regex='^(?=.*(?i)P0.2)(?=.*(?i)Flow)(?=.*(?i)m³/h).*$').columns.tolist()[0]))\n",
    "pos_p03=int(dfxls.columns.get_loc(dfxls.filter(regex='^(?=.*(?i)P0.3)(?=.*(?i)Flow)(?=.*(?i)m³/h).*$').columns.tolist()[0]))\n",
    "pos_p04=int(dfxls.columns.get_loc(dfxls.filter(regex='^(?=.*(?i)P0.4)(?=.*(?i)Flow)(?=.*(?i)m³/h).*$').columns.tolist()[0]))\n",
    "pos_p05=int(dfxls.columns.get_loc(dfxls.filter(regex='^(?=.*(?i)P0.5)(?=.*(?i)Flow)(?=.*(?i)m³/h).*$').columns.tolist()[0]))\n",
    "pos_pos02=int(dfxls.columns.get_loc(dfxls.filter(regex='^(?=.*(?i)posit)(?=.*(?i)2)(?=.*(?i)m³/h).*$').columns.tolist()[0]))\n",
    "pos_pos03=int(dfxls.columns.get_loc(dfxls.filter(regex='^(?=.*(?i)posit)(?=.*(?i)3)(?=.*(?i)m³/h).*$').columns.tolist()[0]))\n",
    "pos_advspeed=int(dfxls.columns.get_loc(dfxls.filter(regex='(?i)Advance.*speed.*').columns.tolist()[0]))\n",
    "pos_torque=int(dfxls.columns.get_loc(dfxls.filter(regex='(?i)torque.*cutting.*wheel.*').columns.tolist()[0]))\n",
    "pos_feed=int(dfxls.columns.get_loc(dfxls.filter(regex='^(?=.*(?i)flow)(?=.*(?i)feed)(?=.*(?i)m³/h).*$').columns.tolist()[0]))\n",
    "pos_slurry=int(dfxls.columns.get_loc(dfxls.filter(regex='^(?=.*(?i)slurry)(?=.*(?i)line)(?=.*(?i)m³/h).*$').columns.tolist()[0]))\n",
    "pos_num=int(dfxls.columns.get_loc(dfxls.filter(regex='^(?=.*(?i)1048)(?=.*(?i)advance)(?=.*(?i)[-]).*$').columns.tolist()[0]))\n",
    "pos_prch01=int(dfxls.columns.get_loc(dfxls.filter(regex='^(?=.*(?i)chamb)(?=.*(?i)1)(?=.*(?i)bar).*$').columns.tolist()[0]))\n",
    "pos_prch02=int(dfxls.columns.get_loc(dfxls.filter(regex='^(?=.*(?i)chamb)(?=.*(?i)2)(?=.*(?i)bar).*$').columns.tolist()[0]))\n",
    "pos_prch03=int(dfxls.columns.get_loc(dfxls.filter(regex='^(?=.*(?i)chamb)(?=.*(?i)3)(?=.*(?i)bar).*$').columns.tolist()[0]))\n",
    "pos_prch04=int(dfxls.columns.get_loc(dfxls.filter(regex='^(?=.*(?i)chamb)(?=.*(?i)4)(?=.*(?i)bar).*$').columns.tolist()[0]))\n",
    "pos_prch05=int(dfxls.columns.get_loc(dfxls.filter(regex='^(?=.*(?i)chamb)(?=.*(?i)5)(?=.*(?i)bar).*$').columns.tolist()[0]))\n",
    "pos_prch06=int(dfxls.columns.get_loc(dfxls.filter(regex='^(?=.*(?i)chamb)(?=.*(?i)6)(?=.*(?i)bar).*$').columns.tolist()[0]))\n",
    "pos_prch07=int(dfxls.columns.get_loc(dfxls.filter(regex='^(?=.*(?i)chamb)(?=.*(?i)7)(?=.*(?i)bar).*$').columns.tolist()[0]))\n",
    "pos_prch08=int(dfxls.columns.get_loc(dfxls.filter(regex='^(?=.*(?i)chamb)(?=.*(?i)8)(?=.*(?i)bar).*$').columns.tolist()[0]))\n",
    "pos_date=int(dfxls.columns.get_loc(dfxls.filter(regex='datestamp').columns.tolist()[0]))\n"
   ]
  },
  {
   "cell_type": "code",
   "execution_count": 121,
   "metadata": {},
   "outputs": [],
   "source": [
    "col_list=dfxls.columns.tolist()"
   ]
  },
  {
   "cell_type": "code",
   "execution_count": null,
   "metadata": {},
   "outputs": [],
   "source": []
  },
  {
   "cell_type": "markdown",
   "metadata": {},
   "source": [
    "## We create new columns"
   ]
  },
  {
   "cell_type": "markdown",
   "metadata": {},
   "source": [
    "#### Datestamp diff (aa-mm-gg hh-mm-ss)\n",
    "#### Datestamp diff [h]"
   ]
  },
  {
   "cell_type": "code",
   "execution_count": 122,
   "metadata": {},
   "outputs": [],
   "source": [
    "dfxls['datestamp_p'] = dfxls.datestamp.shift(1).copy()\n",
    "# Beign the first row == 0 we need to delete it\n",
    "#dfxls=dfxls.dropna().copy()"
   ]
  },
  {
   "cell_type": "code",
   "execution_count": 123,
   "metadata": {},
   "outputs": [],
   "source": [
    "dfxls['datestamp_diff']= dfxls['datestamp']-dfxls['datestamp_p']"
   ]
  },
  {
   "cell_type": "code",
   "execution_count": 124,
   "metadata": {},
   "outputs": [],
   "source": [
    "dfxls['datestamp_diff[h]'] = dfxls['datestamp_diff'].astype('timedelta64[s]').copy().fillna(0)/3600"
   ]
  },
  {
   "cell_type": "markdown",
   "metadata": {},
   "source": [
    "#### Differenziali dpressure chambers"
   ]
  },
  {
   "cell_type": "code",
   "execution_count": 125,
   "metadata": {},
   "outputs": [
    {
     "data": {
      "text/plain": [
       "array([1, 2, 3, 4, 5, 6, 7, 8])"
      ]
     },
     "execution_count": 125,
     "metadata": {},
     "output_type": "execute_result"
    }
   ],
   "source": [
    "np.arange(1,9,1)"
   ]
  },
  {
   "cell_type": "code",
   "execution_count": 126,
   "metadata": {},
   "outputs": [],
   "source": [
    "for i in np.arange(1,9,1):\n",
    "    dfxls['dpress_ch{}'.format(i)] = dfxls[col_list[pos_prch01+i-1]].diff(periods=1).copy()"
   ]
  },
  {
   "cell_type": "markdown",
   "metadata": {},
   "source": [
    "#### Creo colonna stroke - delta stroke solo positivi - volumi teorici e volumi teorici cumulati        ['dVol_Teor[m³]']"
   ]
  },
  {
   "cell_type": "code",
   "execution_count": 127,
   "metadata": {},
   "outputs": [],
   "source": [
    "dfxls['stroke_diff[mm]'] = dfxls[col_list[pos_stroke]].diff(periods=1).copy()\n",
    "dfxls['stroke_diff[mm]'].fillna(0, inplace=True)\n",
    "dfxls.loc[dfxls['stroke_diff[mm]'] <0, 'stroke_diff[mm]'] = 0"
   ]
  },
  {
   "cell_type": "code",
   "execution_count": 128,
   "metadata": {},
   "outputs": [],
   "source": [
    "dfxls['stroke_cum[mm]'] = dfxls['stroke_diff[mm]'].cumsum().shift(-1).fillna(0)"
   ]
  },
  {
   "cell_type": "code",
   "execution_count": 129,
   "metadata": {},
   "outputs": [],
   "source": [
    "dfxls['stroke_cum_seg[mm]']=0\n",
    "\n",
    "segm_list = dfxls[col_list[pos_num]].unique().tolist()\n",
    "\n",
    "for i in segm_list:\n",
    "    \n",
    "    dfxls.loc[dfxls[col_list[pos_num]]==i,'stroke_cum_seg[mm]'] = \\\n",
    "    dfxls.loc[dfxls[col_list[pos_num]]==i,'stroke_diff[mm]'].cumsum().shift(-1).fillna(0)"
   ]
  },
  {
   "cell_type": "code",
   "execution_count": 130,
   "metadata": {},
   "outputs": [],
   "source": [
    "Area_Cutter = 35.59"
   ]
  },
  {
   "cell_type": "code",
   "execution_count": 131,
   "metadata": {},
   "outputs": [],
   "source": [
    "dfxls['dVol_Teor[m³]'] = dfxls['stroke_diff[mm]']/1000*Area_Cutter"
   ]
  },
  {
   "cell_type": "code",
   "execution_count": 132,
   "metadata": {},
   "outputs": [],
   "source": [
    "dfxls['Vol_Teor_cum[m³]'] = dfxls['stroke_cum[mm]']/1000*Area_Cutter\n",
    "dfxls['Vol_Teor_seg_cum[m³]'] = dfxls['stroke_cum_seg[mm]']/1000*Area_Cutter"
   ]
  },
  {
   "cell_type": "markdown",
   "metadata": {},
   "source": [
    "#### Calcolo di volumi dal Slurry-Feedcorretto * dt           ['dVol_bal_feed_slurry[m³]']"
   ]
  },
  {
   "cell_type": "code",
   "execution_count": 133,
   "metadata": {},
   "outputs": [],
   "source": [
    "# dfxls['feed_adj[m³/h]'] = dfxls[col_list[pos_feed]]-dfxls[col_list[pos_pos02]]-dfxls[col_list[pos_pos03]]  # incasina non togliere i sensori 2 e 3\n",
    "\n",
    "# dfxls['bal_feed_slurry[m³/h]']=dfxls[col_list[pos_slurry]]-dfxls['feed_adj[m³/h]']"
   ]
  },
  {
   "cell_type": "code",
   "execution_count": 134,
   "metadata": {},
   "outputs": [],
   "source": [
    "dfxls['bal_feed_slurry[m³/h]']=dfxls[col_list[pos_slurry]]-dfxls[col_list[pos_feed]]\n",
    "\n",
    "\n",
    "\n",
    "dfxls['bal_feed_slurry[m³/h]']=dfxls[col_list[pos_slurry]]-dfxls['feed_adj[m³/h]']\n",
    "\n",
    "dfxls['dVol_bal_feed_slurry[m³]']=dfxls['bal_feed_slurry[m³/h]']*dfxls['datestamp_diff[h]']\n",
    "\n",
    "dfxls['dVol_bal_feed_slurry_cum[m³]']=dfxls['dVol_bal_feed_slurry[m³]'].cumsum().shift(-1).fillna(0)"
   ]
  },
  {
   "cell_type": "markdown",
   "metadata": {},
   "source": [
    "#### Calcolo volumi dal fill level con formula polinomiale     ['dvol_work_chamb[m³]']"
   ]
  },
  {
   "cell_type": "code",
   "execution_count": 135,
   "metadata": {},
   "outputs": [],
   "source": [
    "def calcvolume(x):\n",
    "    vol=-0.113*x**5+0.1236*x**4+0.5462*x**3-0.1059*x**2+5.6112*x+11.794\n",
    "    if x > 0 : \n",
    "        return vol\n",
    "    elif x < 0 : \n",
    "        return vol\n",
    "    else :\n",
    "        return 0"
   ]
  },
  {
   "cell_type": "code",
   "execution_count": 136,
   "metadata": {},
   "outputs": [],
   "source": [
    "dfxls['dfill_level[m]'] = dfxls[col_list[pos_filllev]].diff(periods=1).fillna(0).copy()\n",
    "\n",
    "dfxls['vol_work_chamb[m³]'] = dfxls[col_list[pos_filllev]].map(lambda x: calcvolume(x))\n",
    "\n",
    "dfxls['dvol_work_chamb[m³]'] = dfxls['vol_work_chamb[m³]'].diff(periods=1).fillna(0).copy()"
   ]
  },
  {
   "cell_type": "code",
   "execution_count": 137,
   "metadata": {},
   "outputs": [],
   "source": [
    "dfxls['dvol_work_chamb_cum[m³]'] = dfxls['dvol_work_chamb[m³]'].cumsum().shift(-1).fillna(0)"
   ]
  },
  {
   "cell_type": "markdown",
   "metadata": {},
   "source": [
    "#### Calcolo i balance istantanei e totali"
   ]
  },
  {
   "cell_type": "code",
   "execution_count": 138,
   "metadata": {},
   "outputs": [],
   "source": [
    "dfxls['dbalance_filllev_feedslurry[m³]'] = dfxls['dvol_work_chamb[m³]']+dfxls['dVol_bal_feed_slurry[m³]']"
   ]
  },
  {
   "cell_type": "markdown",
   "metadata": {},
   "source": [
    "#### Creo la colonna STATE (fulloper,stall_rotating,stall_stand)"
   ]
  },
  {
   "cell_type": "code",
   "execution_count": 139,
   "metadata": {},
   "outputs": [],
   "source": [
    "dfxls['state']=0\n",
    "f_min_torq25 = dfxls.iloc[:,pos_torque].describe()[4]\n",
    "f_min_adv25 = dfxls.iloc[:,pos_advspeed].describe()[4]\n",
    "\n",
    "dfxls.loc[(dfxls[col_list[pos_torque]]>0) & (dfxls[col_list[pos_advspeed]]>0),'state'] = 'fulloper'\n",
    "dfxls.loc[(dfxls[col_list[pos_torque]]!=0) & (dfxls[col_list[pos_advspeed]]==0),'state'] = 'stall_rotating'\n",
    "dfxls.loc[(dfxls[col_list[pos_torque]]==0) & (dfxls[col_list[pos_advspeed]]==0),'state'] = 'stall_stand'"
   ]
  },
  {
   "cell_type": "markdown",
   "metadata": {},
   "source": [
    "### CREATE col_list for fast individuation of columns"
   ]
  },
  {
   "cell_type": "code",
   "execution_count": 140,
   "metadata": {},
   "outputs": [],
   "source": [
    "col_list=dfxls.columns.tolist()"
   ]
  },
  {
   "cell_type": "code",
   "execution_count": 141,
   "metadata": {},
   "outputs": [
    {
     "data": {
      "text/plain": [
       "['datestamp',\n",
       " 'timestamp',\n",
       " 'datestamp_p',\n",
       " 'datestamp_diff',\n",
       " 'datestamp_diff[h]',\n",
       " 'dpress_ch1',\n",
       " 'dpress_ch2',\n",
       " 'dpress_ch3',\n",
       " 'dpress_ch4',\n",
       " 'dpress_ch5',\n",
       " 'dpress_ch6',\n",
       " 'dpress_ch7',\n",
       " 'dpress_ch8',\n",
       " 'stroke_diff[mm]',\n",
       " 'stroke_cum[mm]',\n",
       " 'stroke_cum_seg[mm]',\n",
       " 'dVol_Teor[m³]',\n",
       " 'Vol_Teor_cum[m³]',\n",
       " 'Vol_Teor_seg_cum[m³]',\n",
       " 'feed_adj[m³/h]',\n",
       " 'bal_feed_slurry[m³/h]',\n",
       " 'dVol_bal_feed_slurry[m³]',\n",
       " 'dVol_bal_feed_slurry_cum[m³]',\n",
       " 'dfill_level[m]',\n",
       " 'dvol_work_chamb[m³]',\n",
       " 'dvol_work_chamb_cum[m³]',\n",
       " 'dbalance_filllev_feedslurry[m³]',\n",
       " 'state']"
      ]
     },
     "execution_count": 141,
     "metadata": {},
     "output_type": "execute_result"
    }
   ],
   "source": [
    "col_list[111:]"
   ]
  },
  {
   "cell_type": "code",
   "execution_count": 142,
   "metadata": {},
   "outputs": [
    {
     "data": {
      "text/plain": [
       "'datestamp_diff'"
      ]
     },
     "execution_count": 142,
     "metadata": {},
     "output_type": "execute_result"
    }
   ],
   "source": [
    "a = 'datestamp_diff'\n",
    "a.replace(\" \",'').split(\"[\")[0]"
   ]
  },
  {
   "cell_type": "code",
   "execution_count": 143,
   "metadata": {},
   "outputs": [],
   "source": [
    "ls0 = []\n",
    "ls1 = []\n",
    "for i in col_list[111:]:\n",
    "    \n",
    "    ls0.append('pos_{}'.format(i.replace(\" \",'').split(\"[\")[0]))\n",
    "    ls1.append(dfxls.columns.get_loc(i))\n",
    "    \n",
    "pos_dict = dict(zip(ls0,ls1))   "
   ]
  },
  {
   "cell_type": "code",
   "execution_count": 144,
   "metadata": {},
   "outputs": [
    {
     "data": {
      "text/plain": [
       "{'pos_datestamp': 111,\n",
       " 'pos_timestamp': 112,\n",
       " 'pos_datestamp_p': 113,\n",
       " 'pos_datestamp_diff': 115,\n",
       " 'pos_dpress_ch1': 116,\n",
       " 'pos_dpress_ch2': 117,\n",
       " 'pos_dpress_ch3': 118,\n",
       " 'pos_dpress_ch4': 119,\n",
       " 'pos_dpress_ch5': 120,\n",
       " 'pos_dpress_ch6': 121,\n",
       " 'pos_dpress_ch7': 122,\n",
       " 'pos_dpress_ch8': 123,\n",
       " 'pos_stroke_diff': 124,\n",
       " 'pos_stroke_cum': 125,\n",
       " 'pos_stroke_cum_seg': 126,\n",
       " 'pos_dVol_Teor': 127,\n",
       " 'pos_Vol_Teor_cum': 128,\n",
       " 'pos_Vol_Teor_seg_cum': 129,\n",
       " 'pos_feed_adj': 130,\n",
       " 'pos_bal_feed_slurry': 131,\n",
       " 'pos_dVol_bal_feed_slurry': 132,\n",
       " 'pos_dVol_bal_feed_slurry_cum': 133,\n",
       " 'pos_dfill_level': 134,\n",
       " 'pos_dvol_work_chamb': 135,\n",
       " 'pos_dvol_work_chamb_cum': 136,\n",
       " 'pos_dbalance_filllev_feedslurry': 137,\n",
       " 'pos_state': 138}"
      ]
     },
     "execution_count": 144,
     "metadata": {},
     "output_type": "execute_result"
    }
   ],
   "source": [
    "pos_dict"
   ]
  },
  {
   "cell_type": "markdown",
   "metadata": {},
   "source": [
    "### CREATE  H5 FILE"
   ]
  },
  {
   "cell_type": "code",
   "execution_count": 145,
   "metadata": {},
   "outputs": [],
   "source": [
    "dfxls.to_hdf('202001_dfxls.h5', key='losses')"
   ]
  },
  {
   "cell_type": "code",
   "execution_count": 146,
   "metadata": {},
   "outputs": [],
   "source": [
    "dfxls = pd.read_hdf('202001_dfxls.h5', key='losses')"
   ]
  },
  {
   "cell_type": "code",
   "execution_count": 147,
   "metadata": {},
   "outputs": [],
   "source": [
    "# dfxls_prova = pd.read_hdf('202001_dfxls.h5', key='losses')\n",
    "\n",
    "# try:\n",
    "#     dfxls_prova.equals(dfxls)\n",
    "# except:\n",
    "#     print('are not equal some problems my occur')"
   ]
  },
  {
   "cell_type": "markdown",
   "metadata": {},
   "source": [
    "# PLOT SUPER"
   ]
  },
  {
   "cell_type": "markdown",
   "metadata": {},
   "source": [
    "### Prepare data"
   ]
  },
  {
   "cell_type": "code",
   "execution_count": 148,
   "metadata": {},
   "outputs": [
    {
     "name": "stdout",
     "output_type": "stream",
     "text": [
      "List of chamber columns is: [2, 3, 4, 5, 6, 7, 8, 9]\n",
      "List of interesting columns [0, 2, 3, 4, 5, 6, 7, 8, 9, 32]\n"
     ]
    }
   ],
   "source": [
    "# creo una lista con data, sensori delle camere, fill, \n",
    "list_chamb = []\n",
    "for i in dfxls.filter(regex='Pressure excavation chamber'):\n",
    "    list_chamb.append(dfxls.columns.get_loc(i))\n",
    "print('List of chamber columns is:',list_chamb)\n",
    "\n",
    "list_col = [0]\n",
    "list_col.extend(list_chamb)\n",
    "list_col.append(pos_filllev)\n",
    "print('List of interesting columns',list_col)"
   ]
  },
  {
   "cell_type": "code",
   "execution_count": 149,
   "metadata": {},
   "outputs": [],
   "source": [
    "# *************************************************\n",
    "\n",
    "n_sensori = 8\n",
    "list_x = []\n",
    "list_z = []\n",
    "for i in np.arange(0,n_sensori,1):\n",
    "    x = 1 * np.sin(2*np.pi/8*i)\n",
    "    list_x.append(x)\n",
    "    z = 1 * np.cos(2*np.pi/8*i)\n",
    "    list_z.append(z)"
   ]
  },
  {
   "cell_type": "markdown",
   "metadata": {},
   "source": [
    "### Get Ready to run"
   ]
  },
  {
   "cell_type": "code",
   "execution_count": 2,
   "metadata": {},
   "outputs": [
    {
     "ename": "NameError",
     "evalue": "name 'dfxls' is not defined",
     "output_type": "error",
     "traceback": [
      "\u001b[1;31m---------------------------------------------------------------------------\u001b[0m",
      "\u001b[1;31mNameError\u001b[0m                                 Traceback (most recent call last)",
      "\u001b[1;32m<ipython-input-2-b9de5e084c6a>\u001b[0m in \u001b[0;36m<module>\u001b[1;34m\u001b[0m\n\u001b[1;32m----> 1\u001b[1;33m \u001b[0mdfxlscopy\u001b[0m \u001b[1;33m=\u001b[0m \u001b[0mdfxls\u001b[0m\u001b[1;33m.\u001b[0m\u001b[0mcopy\u001b[0m\u001b[1;33m(\u001b[0m\u001b[1;33m)\u001b[0m\u001b[1;33m\u001b[0m\u001b[1;33m\u001b[0m\u001b[0m\n\u001b[0m",
      "\u001b[1;31mNameError\u001b[0m: name 'dfxls' is not defined"
     ]
    }
   ],
   "source": [
    "dfxlscopy = dfxls.copy()     "
   ]
  },
  {
   "cell_type": "code",
   "execution_count": 1,
   "metadata": {},
   "outputs": [
    {
     "ename": "NameError",
     "evalue": "name 'dfxlscopy' is not defined",
     "output_type": "error",
     "traceback": [
      "\u001b[1;31m---------------------------------------------------------------------------\u001b[0m",
      "\u001b[1;31mNameError\u001b[0m                                 Traceback (most recent call last)",
      "\u001b[1;32m<ipython-input-1-22b44e73a73e>\u001b[0m in \u001b[0;36m<module>\u001b[1;34m\u001b[0m\n\u001b[0;32m      2\u001b[0m \u001b[0mdstep\u001b[0m    \u001b[1;33m=\u001b[0m \u001b[1;36m20\u001b[0m   \u001b[1;31m#  1   detaspet uguale al db 30sec o 10sec\u001b[0m\u001b[1;33m\u001b[0m\u001b[1;33m\u001b[0m\u001b[0m\n\u001b[0;32m      3\u001b[0m \u001b[1;33m\u001b[0m\u001b[0m\n\u001b[1;32m----> 4\u001b[1;33m \u001b[0mdfxls\u001b[0m \u001b[1;33m=\u001b[0m \u001b[0mdfxlscopy\u001b[0m\u001b[1;33m.\u001b[0m\u001b[0miloc\u001b[0m\u001b[1;33m[\u001b[0m\u001b[1;33m:\u001b[0m\u001b[0mnum_dati\u001b[0m\u001b[1;33m,\u001b[0m\u001b[1;33m:\u001b[0m\u001b[1;33m]\u001b[0m\u001b[1;33m.\u001b[0m\u001b[0mreset_index\u001b[0m\u001b[1;33m(\u001b[0m\u001b[0mdrop\u001b[0m\u001b[1;33m=\u001b[0m\u001b[1;32mTrue\u001b[0m\u001b[1;33m)\u001b[0m\u001b[1;33m\u001b[0m\u001b[1;33m\u001b[0m\u001b[0m\n\u001b[0m\u001b[0;32m      5\u001b[0m \u001b[1;33m\u001b[0m\u001b[0m\n\u001b[0;32m      6\u001b[0m \u001b[1;31m# df solo per cell press e fill\u001b[0m\u001b[1;33m\u001b[0m\u001b[1;33m\u001b[0m\u001b[1;33m\u001b[0m\u001b[0m\n",
      "\u001b[1;31mNameError\u001b[0m: name 'dfxlscopy' is not defined"
     ]
    }
   ],
   "source": [
    "num_dati = 500   # -1   tutte le righe\n",
    "dstep    = 20   #  1   detaspet uguale al db 30sec o 10sec\n",
    "\n",
    "dfxls = dfxlscopy.iloc[:num_dati,:].reset_index(drop=True)\n",
    "\n",
    "# df solo per cell press e fill\n",
    "\n",
    "df = dfxls.iloc[:num_dati,list_col]\n",
    "\n",
    "n_row = df.shape[0]"
   ]
  },
  {
   "cell_type": "code",
   "execution_count": 152,
   "metadata": {},
   "outputs": [
    {
     "data": {
      "text/html": [
       "<div>\n",
       "<style scoped>\n",
       "    .dataframe tbody tr th:only-of-type {\n",
       "        vertical-align: middle;\n",
       "    }\n",
       "\n",
       "    .dataframe tbody tr th {\n",
       "        vertical-align: top;\n",
       "    }\n",
       "\n",
       "    .dataframe thead th {\n",
       "        text-align: right;\n",
       "    }\n",
       "</style>\n",
       "<table border=\"1\" class=\"dataframe\">\n",
       "  <thead>\n",
       "    <tr style=\"text-align: right;\">\n",
       "      <th></th>\n",
       "      <th>Date</th>\n",
       "      <th>S-1048_ADVANCE_ADVANCE_NO [-]</th>\n",
       "      <th>Pressure excavation chamber 1 [bar]</th>\n",
       "      <th>Pressure excavation chamber 2 [bar]</th>\n",
       "      <th>Pressure excavation chamber 3 [bar]</th>\n",
       "      <th>Pressure excavation chamber 4 [bar]</th>\n",
       "      <th>Pressure excavation chamber 5 [bar]</th>\n",
       "      <th>Pressure excavation chamber 6 [bar]</th>\n",
       "      <th>Pressure excavation chamber 7 [bar]</th>\n",
       "      <th>Pressure excavation chamber 8 [bar]</th>\n",
       "      <th>...</th>\n",
       "      <th>Vol_Teor_seg_cum[m³]</th>\n",
       "      <th>feed_adj[m³/h]</th>\n",
       "      <th>bal_feed_slurry[m³/h]</th>\n",
       "      <th>dVol_bal_feed_slurry[m³]</th>\n",
       "      <th>dVol_bal_feed_slurry_cum[m³]</th>\n",
       "      <th>dfill_level[m]</th>\n",
       "      <th>dvol_work_chamb[m³]</th>\n",
       "      <th>dvol_work_chamb_cum[m³]</th>\n",
       "      <th>dbalance_filllev_feedslurry[m³]</th>\n",
       "      <th>state</th>\n",
       "    </tr>\n",
       "  </thead>\n",
       "  <tbody>\n",
       "    <tr>\n",
       "      <th>0</th>\n",
       "      <td>2020-01-07 07:00:00</td>\n",
       "      <td>4201</td>\n",
       "      <td>1.814</td>\n",
       "      <td>2.000</td>\n",
       "      <td>2.105</td>\n",
       "      <td>2.262</td>\n",
       "      <td>2.287</td>\n",
       "      <td>2.112</td>\n",
       "      <td>1.821</td>\n",
       "      <td>1.707</td>\n",
       "      <td>...</td>\n",
       "      <td>0.0</td>\n",
       "      <td>0.000</td>\n",
       "      <td>0.000</td>\n",
       "      <td>0.0000</td>\n",
       "      <td>-0.00060</td>\n",
       "      <td>0.000</td>\n",
       "      <td>0.000000</td>\n",
       "      <td>11.782777</td>\n",
       "      <td>0.000000</td>\n",
       "      <td>stall_stand</td>\n",
       "    </tr>\n",
       "    <tr>\n",
       "      <th>1</th>\n",
       "      <td>2020-01-07 07:00:30</td>\n",
       "      <td>4201</td>\n",
       "      <td>1.814</td>\n",
       "      <td>2.000</td>\n",
       "      <td>2.105</td>\n",
       "      <td>2.262</td>\n",
       "      <td>2.287</td>\n",
       "      <td>2.112</td>\n",
       "      <td>1.824</td>\n",
       "      <td>1.707</td>\n",
       "      <td>...</td>\n",
       "      <td>0.0</td>\n",
       "      <td>0.072</td>\n",
       "      <td>-0.072</td>\n",
       "      <td>-0.0006</td>\n",
       "      <td>-0.00120</td>\n",
       "      <td>-0.002</td>\n",
       "      <td>11.782777</td>\n",
       "      <td>11.782777</td>\n",
       "      <td>11.782177</td>\n",
       "      <td>stall_stand</td>\n",
       "    </tr>\n",
       "    <tr>\n",
       "      <th>2</th>\n",
       "      <td>2020-01-07 07:01:00</td>\n",
       "      <td>4201</td>\n",
       "      <td>1.814</td>\n",
       "      <td>2.000</td>\n",
       "      <td>2.102</td>\n",
       "      <td>2.262</td>\n",
       "      <td>2.287</td>\n",
       "      <td>2.112</td>\n",
       "      <td>1.824</td>\n",
       "      <td>1.707</td>\n",
       "      <td>...</td>\n",
       "      <td>0.0</td>\n",
       "      <td>0.072</td>\n",
       "      <td>-0.072</td>\n",
       "      <td>-0.0006</td>\n",
       "      <td>-0.00120</td>\n",
       "      <td>0.000</td>\n",
       "      <td>0.000000</td>\n",
       "      <td>11.782777</td>\n",
       "      <td>-0.000600</td>\n",
       "      <td>stall_stand</td>\n",
       "    </tr>\n",
       "    <tr>\n",
       "      <th>3</th>\n",
       "      <td>2020-01-07 07:01:30</td>\n",
       "      <td>4201</td>\n",
       "      <td>1.814</td>\n",
       "      <td>2.000</td>\n",
       "      <td>2.102</td>\n",
       "      <td>2.262</td>\n",
       "      <td>2.287</td>\n",
       "      <td>2.112</td>\n",
       "      <td>1.824</td>\n",
       "      <td>1.707</td>\n",
       "      <td>...</td>\n",
       "      <td>0.0</td>\n",
       "      <td>0.000</td>\n",
       "      <td>0.000</td>\n",
       "      <td>0.0000</td>\n",
       "      <td>-0.00120</td>\n",
       "      <td>0.000</td>\n",
       "      <td>0.000000</td>\n",
       "      <td>11.782777</td>\n",
       "      <td>0.000000</td>\n",
       "      <td>stall_stand</td>\n",
       "    </tr>\n",
       "    <tr>\n",
       "      <th>4</th>\n",
       "      <td>2020-01-07 07:02:00</td>\n",
       "      <td>4201</td>\n",
       "      <td>1.814</td>\n",
       "      <td>2.000</td>\n",
       "      <td>2.105</td>\n",
       "      <td>2.262</td>\n",
       "      <td>2.287</td>\n",
       "      <td>2.112</td>\n",
       "      <td>1.821</td>\n",
       "      <td>1.707</td>\n",
       "      <td>...</td>\n",
       "      <td>0.0</td>\n",
       "      <td>0.000</td>\n",
       "      <td>0.000</td>\n",
       "      <td>0.0000</td>\n",
       "      <td>-0.00120</td>\n",
       "      <td>0.000</td>\n",
       "      <td>0.000000</td>\n",
       "      <td>11.782777</td>\n",
       "      <td>0.000000</td>\n",
       "      <td>stall_stand</td>\n",
       "    </tr>\n",
       "    <tr>\n",
       "      <th>...</th>\n",
       "      <td>...</td>\n",
       "      <td>...</td>\n",
       "      <td>...</td>\n",
       "      <td>...</td>\n",
       "      <td>...</td>\n",
       "      <td>...</td>\n",
       "      <td>...</td>\n",
       "      <td>...</td>\n",
       "      <td>...</td>\n",
       "      <td>...</td>\n",
       "      <td>...</td>\n",
       "      <td>...</td>\n",
       "      <td>...</td>\n",
       "      <td>...</td>\n",
       "      <td>...</td>\n",
       "      <td>...</td>\n",
       "      <td>...</td>\n",
       "      <td>...</td>\n",
       "      <td>...</td>\n",
       "      <td>...</td>\n",
       "      <td>...</td>\n",
       "    </tr>\n",
       "    <tr>\n",
       "      <th>2875</th>\n",
       "      <td>2020-01-08 06:57:30</td>\n",
       "      <td>4207</td>\n",
       "      <td>1.836</td>\n",
       "      <td>2.011</td>\n",
       "      <td>2.124</td>\n",
       "      <td>2.262</td>\n",
       "      <td>2.279</td>\n",
       "      <td>2.109</td>\n",
       "      <td>1.846</td>\n",
       "      <td>1.715</td>\n",
       "      <td>...</td>\n",
       "      <td>0.0</td>\n",
       "      <td>0.000</td>\n",
       "      <td>0.000</td>\n",
       "      <td>0.0000</td>\n",
       "      <td>2985.36225</td>\n",
       "      <td>0.000</td>\n",
       "      <td>0.000000</td>\n",
       "      <td>22032.861376</td>\n",
       "      <td>0.000000</td>\n",
       "      <td>stall_stand</td>\n",
       "    </tr>\n",
       "    <tr>\n",
       "      <th>2876</th>\n",
       "      <td>2020-01-08 06:58:00</td>\n",
       "      <td>4207</td>\n",
       "      <td>1.836</td>\n",
       "      <td>2.011</td>\n",
       "      <td>2.124</td>\n",
       "      <td>2.262</td>\n",
       "      <td>2.282</td>\n",
       "      <td>2.109</td>\n",
       "      <td>1.846</td>\n",
       "      <td>1.715</td>\n",
       "      <td>...</td>\n",
       "      <td>0.0</td>\n",
       "      <td>0.000</td>\n",
       "      <td>0.000</td>\n",
       "      <td>0.0000</td>\n",
       "      <td>2985.36225</td>\n",
       "      <td>-0.001</td>\n",
       "      <td>11.788389</td>\n",
       "      <td>22032.861376</td>\n",
       "      <td>11.788389</td>\n",
       "      <td>stall_stand</td>\n",
       "    </tr>\n",
       "    <tr>\n",
       "      <th>2877</th>\n",
       "      <td>2020-01-08 06:58:30</td>\n",
       "      <td>4207</td>\n",
       "      <td>1.833</td>\n",
       "      <td>2.011</td>\n",
       "      <td>2.124</td>\n",
       "      <td>2.262</td>\n",
       "      <td>2.279</td>\n",
       "      <td>2.109</td>\n",
       "      <td>1.846</td>\n",
       "      <td>1.715</td>\n",
       "      <td>...</td>\n",
       "      <td>0.0</td>\n",
       "      <td>0.000</td>\n",
       "      <td>0.000</td>\n",
       "      <td>0.0000</td>\n",
       "      <td>2985.36225</td>\n",
       "      <td>0.000</td>\n",
       "      <td>0.000000</td>\n",
       "      <td>22032.861376</td>\n",
       "      <td>0.000000</td>\n",
       "      <td>stall_stand</td>\n",
       "    </tr>\n",
       "    <tr>\n",
       "      <th>2878</th>\n",
       "      <td>2020-01-08 06:59:00</td>\n",
       "      <td>4207</td>\n",
       "      <td>1.833</td>\n",
       "      <td>2.011</td>\n",
       "      <td>2.124</td>\n",
       "      <td>2.262</td>\n",
       "      <td>2.279</td>\n",
       "      <td>2.109</td>\n",
       "      <td>1.846</td>\n",
       "      <td>1.715</td>\n",
       "      <td>...</td>\n",
       "      <td>0.0</td>\n",
       "      <td>0.000</td>\n",
       "      <td>0.000</td>\n",
       "      <td>0.0000</td>\n",
       "      <td>2985.36225</td>\n",
       "      <td>0.000</td>\n",
       "      <td>0.000000</td>\n",
       "      <td>22032.861376</td>\n",
       "      <td>0.000000</td>\n",
       "      <td>stall_stand</td>\n",
       "    </tr>\n",
       "    <tr>\n",
       "      <th>2879</th>\n",
       "      <td>2020-01-08 06:59:30</td>\n",
       "      <td>4207</td>\n",
       "      <td>1.833</td>\n",
       "      <td>2.011</td>\n",
       "      <td>2.124</td>\n",
       "      <td>2.262</td>\n",
       "      <td>2.279</td>\n",
       "      <td>2.109</td>\n",
       "      <td>1.846</td>\n",
       "      <td>1.715</td>\n",
       "      <td>...</td>\n",
       "      <td>0.0</td>\n",
       "      <td>0.000</td>\n",
       "      <td>0.000</td>\n",
       "      <td>0.0000</td>\n",
       "      <td>0.00000</td>\n",
       "      <td>0.000</td>\n",
       "      <td>0.000000</td>\n",
       "      <td>0.000000</td>\n",
       "      <td>0.000000</td>\n",
       "      <td>stall_stand</td>\n",
       "    </tr>\n",
       "  </tbody>\n",
       "</table>\n",
       "<p>2880 rows × 139 columns</p>\n",
       "</div>"
      ],
      "text/plain": [
       "                     Date  S-1048_ADVANCE_ADVANCE_NO [-]  \\\n",
       "0     2020-01-07 07:00:00                           4201   \n",
       "1     2020-01-07 07:00:30                           4201   \n",
       "2     2020-01-07 07:01:00                           4201   \n",
       "3     2020-01-07 07:01:30                           4201   \n",
       "4     2020-01-07 07:02:00                           4201   \n",
       "...                   ...                            ...   \n",
       "2875  2020-01-08 06:57:30                           4207   \n",
       "2876  2020-01-08 06:58:00                           4207   \n",
       "2877  2020-01-08 06:58:30                           4207   \n",
       "2878  2020-01-08 06:59:00                           4207   \n",
       "2879  2020-01-08 06:59:30                           4207   \n",
       "\n",
       "      Pressure excavation chamber 1 [bar]  \\\n",
       "0                                   1.814   \n",
       "1                                   1.814   \n",
       "2                                   1.814   \n",
       "3                                   1.814   \n",
       "4                                   1.814   \n",
       "...                                   ...   \n",
       "2875                                1.836   \n",
       "2876                                1.836   \n",
       "2877                                1.833   \n",
       "2878                                1.833   \n",
       "2879                                1.833   \n",
       "\n",
       "      Pressure excavation chamber 2 [bar]  \\\n",
       "0                                   2.000   \n",
       "1                                   2.000   \n",
       "2                                   2.000   \n",
       "3                                   2.000   \n",
       "4                                   2.000   \n",
       "...                                   ...   \n",
       "2875                                2.011   \n",
       "2876                                2.011   \n",
       "2877                                2.011   \n",
       "2878                                2.011   \n",
       "2879                                2.011   \n",
       "\n",
       "      Pressure excavation chamber 3 [bar]  \\\n",
       "0                                   2.105   \n",
       "1                                   2.105   \n",
       "2                                   2.102   \n",
       "3                                   2.102   \n",
       "4                                   2.105   \n",
       "...                                   ...   \n",
       "2875                                2.124   \n",
       "2876                                2.124   \n",
       "2877                                2.124   \n",
       "2878                                2.124   \n",
       "2879                                2.124   \n",
       "\n",
       "      Pressure excavation chamber 4 [bar]  \\\n",
       "0                                   2.262   \n",
       "1                                   2.262   \n",
       "2                                   2.262   \n",
       "3                                   2.262   \n",
       "4                                   2.262   \n",
       "...                                   ...   \n",
       "2875                                2.262   \n",
       "2876                                2.262   \n",
       "2877                                2.262   \n",
       "2878                                2.262   \n",
       "2879                                2.262   \n",
       "\n",
       "      Pressure excavation chamber 5 [bar]  \\\n",
       "0                                   2.287   \n",
       "1                                   2.287   \n",
       "2                                   2.287   \n",
       "3                                   2.287   \n",
       "4                                   2.287   \n",
       "...                                   ...   \n",
       "2875                                2.279   \n",
       "2876                                2.282   \n",
       "2877                                2.279   \n",
       "2878                                2.279   \n",
       "2879                                2.279   \n",
       "\n",
       "      Pressure excavation chamber 6 [bar]  \\\n",
       "0                                   2.112   \n",
       "1                                   2.112   \n",
       "2                                   2.112   \n",
       "3                                   2.112   \n",
       "4                                   2.112   \n",
       "...                                   ...   \n",
       "2875                                2.109   \n",
       "2876                                2.109   \n",
       "2877                                2.109   \n",
       "2878                                2.109   \n",
       "2879                                2.109   \n",
       "\n",
       "      Pressure excavation chamber 7 [bar]  \\\n",
       "0                                   1.821   \n",
       "1                                   1.824   \n",
       "2                                   1.824   \n",
       "3                                   1.824   \n",
       "4                                   1.821   \n",
       "...                                   ...   \n",
       "2875                                1.846   \n",
       "2876                                1.846   \n",
       "2877                                1.846   \n",
       "2878                                1.846   \n",
       "2879                                1.846   \n",
       "\n",
       "      Pressure excavation chamber 8 [bar]  ...  Vol_Teor_seg_cum[m³]  \\\n",
       "0                                   1.707  ...                   0.0   \n",
       "1                                   1.707  ...                   0.0   \n",
       "2                                   1.707  ...                   0.0   \n",
       "3                                   1.707  ...                   0.0   \n",
       "4                                   1.707  ...                   0.0   \n",
       "...                                   ...  ...                   ...   \n",
       "2875                                1.715  ...                   0.0   \n",
       "2876                                1.715  ...                   0.0   \n",
       "2877                                1.715  ...                   0.0   \n",
       "2878                                1.715  ...                   0.0   \n",
       "2879                                1.715  ...                   0.0   \n",
       "\n",
       "      feed_adj[m³/h]  bal_feed_slurry[m³/h]  dVol_bal_feed_slurry[m³]  \\\n",
       "0              0.000                  0.000                    0.0000   \n",
       "1              0.072                 -0.072                   -0.0006   \n",
       "2              0.072                 -0.072                   -0.0006   \n",
       "3              0.000                  0.000                    0.0000   \n",
       "4              0.000                  0.000                    0.0000   \n",
       "...              ...                    ...                       ...   \n",
       "2875           0.000                  0.000                    0.0000   \n",
       "2876           0.000                  0.000                    0.0000   \n",
       "2877           0.000                  0.000                    0.0000   \n",
       "2878           0.000                  0.000                    0.0000   \n",
       "2879           0.000                  0.000                    0.0000   \n",
       "\n",
       "      dVol_bal_feed_slurry_cum[m³]  dfill_level[m]  dvol_work_chamb[m³]  \\\n",
       "0                         -0.00060           0.000             0.000000   \n",
       "1                         -0.00120          -0.002            11.782777   \n",
       "2                         -0.00120           0.000             0.000000   \n",
       "3                         -0.00120           0.000             0.000000   \n",
       "4                         -0.00120           0.000             0.000000   \n",
       "...                            ...             ...                  ...   \n",
       "2875                    2985.36225           0.000             0.000000   \n",
       "2876                    2985.36225          -0.001            11.788389   \n",
       "2877                    2985.36225           0.000             0.000000   \n",
       "2878                    2985.36225           0.000             0.000000   \n",
       "2879                       0.00000           0.000             0.000000   \n",
       "\n",
       "      dvol_work_chamb_cum[m³]  dbalance_filllev_feedslurry[m³]        state  \n",
       "0                   11.782777                         0.000000  stall_stand  \n",
       "1                   11.782777                        11.782177  stall_stand  \n",
       "2                   11.782777                        -0.000600  stall_stand  \n",
       "3                   11.782777                         0.000000  stall_stand  \n",
       "4                   11.782777                         0.000000  stall_stand  \n",
       "...                       ...                              ...          ...  \n",
       "2875             22032.861376                         0.000000  stall_stand  \n",
       "2876             22032.861376                        11.788389  stall_stand  \n",
       "2877             22032.861376                         0.000000  stall_stand  \n",
       "2878             22032.861376                         0.000000  stall_stand  \n",
       "2879                 0.000000                         0.000000  stall_stand  \n",
       "\n",
       "[2880 rows x 139 columns]"
      ]
     },
     "execution_count": 152,
     "metadata": {},
     "output_type": "execute_result"
    }
   ],
   "source": [
    "dfxlscopy"
   ]
  },
  {
   "cell_type": "code",
   "execution_count": 153,
   "metadata": {},
   "outputs": [
    {
     "data": {
      "text/html": [
       "<img src=\"images/gif/01/img_0024.png\"/>"
      ],
      "text/plain": [
       "<IPython.core.display.Image object>"
      ]
     },
     "execution_count": 153,
     "metadata": {},
     "output_type": "execute_result"
    }
   ],
   "source": [
    "#  ************************************************\n",
    "\n",
    "plt.style.use('dark_background')\n",
    "\n",
    "save_folder = 'images/gif'\n",
    "gif_filename = '01'\n",
    "\n",
    "shutil.rmtree(save_folder, ignore_errors=True)\n",
    "\n",
    "working_folder = '{}/{}'.format(save_folder, gif_filename)\n",
    "\n",
    "if not os.path.exists(working_folder):\n",
    "    os.makedirs(working_folder)\n",
    "\n",
    "fontdict1={'fontsize': 18,\n",
    "          'fontweight':0.1,\n",
    "          'horizontalalignment': 'center'}\n",
    "\n",
    "fontdict2 = {'family': 'serif',\n",
    "        'color':  'white',\n",
    "        'weight': 'normal',\n",
    "        'size': 16,\n",
    "        }\n",
    "\n",
    "colorstate = {'fulloper':'limegreen','stall_rotating':'orange','stall_stand':'red'}\n",
    "textstate = {'fulloper':'OPERATION','stall_rotating':'ONLY ROTATING','stall_stand':'STOP'}\n",
    "colorfilllev = {True:'r',False:'b'}\n",
    "colorbalfs = {True:'r',False:'b'}\n",
    "\n",
    "cmap_segment = cm.get_cmap('jet')\n",
    "\n",
    "\n",
    "# Inizializzo le pressioni e lo stroke:\n",
    "\n",
    "\n",
    "changepoint = 0\n",
    "\n",
    "nseg = 0\n",
    "nseg_p = 0\n",
    "\n",
    "fillev_p = 0\n",
    "\n",
    "p_ch5_max = 0\n",
    "p_ch8_max = 0\n",
    "\n",
    "\n",
    "stroke = 0\n",
    "\n",
    "vol_teor_cum = 0\n",
    "vol_teor_cum_p = 0\n",
    "\n",
    "stroke_cum = 0\n",
    "stroke_cum_p = 0\n",
    "\n",
    "bal_fs_sum = 0\n",
    "bal_fs_sum_p = 0\n",
    "bal_fs_q = 0\n",
    "\n",
    "vol_wc_cum = 0\n",
    "vol_wc_cum_p = 0\n",
    "\n",
    "advdsp = []\n",
    "date = []\n",
    "\n",
    "nframe = 0\n",
    "\n",
    "###############################################################################################################################\n",
    "\n",
    "\n",
    "for e in np.arange(1,n_row,1):\n",
    "    \n",
    "    if e%dstep==0:    # creo immagine ogni 10 print\n",
    "        \n",
    "        try:\n",
    "            ax.clear()\n",
    "            ax0.clear()\n",
    "            ax1.clear()\n",
    "            ax2.clear()\n",
    "            ax3.clear()\n",
    "            \n",
    "            \n",
    "        except:\n",
    "            pass\n",
    "        \n",
    "        \n",
    "        fig = plt.figure(figsize=(20,20))\n",
    "        \n",
    "        \n",
    "        gs = fig.add_gridspec(5, 2)\n",
    "        \n",
    "        \n",
    "        ##################################  PRIMO GRAFICO\n",
    "\n",
    "\n",
    "        ax0 = fig.add_subplot(gs[0, :])\n",
    "        \n",
    "        \n",
    "               \n",
    "\n",
    "        ## 1 rett\n",
    "        \n",
    "        if dfxls.iloc[e,pos_num]!= nseg: \n",
    "            nseg_p = nseg\n",
    "            changepoint = 1\n",
    "            \n",
    "        if dfxls.iloc[e,pos_num] == nseg: changepoint = 0\n",
    "        \n",
    "        nseg = dfxls.iloc[e,pos_num]\n",
    "        \n",
    "        ## 2 rett\n",
    "\n",
    "        p_ch5_act = dfxls.iloc[e,pos_prch05]\n",
    "        p_ch5_max = max(p_ch5_max,dfxls.iloc[e,pos_prch05])\n",
    "        p_ch8_act = dfxls.iloc[e,pos_prch08]\n",
    "        p_ch8_max = max(p_ch8_max,dfxls.iloc[e,pos_prch08])\n",
    "        \n",
    "        \n",
    "        ### 3 rett\n",
    "        \n",
    "        feedl = dfxls.iloc[e,pos_dict['pos_feed_adj']]\n",
    "        slurry = dfxls.iloc[e,pos_slurry]\n",
    "        \n",
    "        bal_fs_q = slurry - feedl\n",
    "        \n",
    "        bal_fs = dfxls['dVol_bal_feed_slurry[m³]'][e]\n",
    "        \n",
    "        if changepoint == 1 : \n",
    "            bal_fs_sum_p = bal_fs_sum\n",
    "            bal_fs_sum = 0  \n",
    "        bal_fs_sum += bal_fs\n",
    "        \n",
    "        \n",
    "        ### 4 rect\n",
    "        \n",
    "        fillev = dfxls.iloc[e,pos_filllev]\n",
    "        if e!=0: \n",
    "            fillev_p = dfxls.iloc[e-1,pos_filllev]\n",
    "        \n",
    "        dfillev = dfxls['dfill_level[m]'][e]\n",
    "        dvolwch = dfxls['dvol_work_chamb[m³]'][e]\n",
    "        \n",
    "        if changepoint == 1 : \n",
    "            vol_wc_cum_p = vol_wc_cum\n",
    "            vol_wc_cum = 0                \n",
    "        vol_wc_cum += dvolwch\n",
    "        \n",
    "        ### 5 rect\n",
    "        \n",
    "        stroke = dfxls['stroke_diff[mm]'][e]\n",
    "        \n",
    "        if changepoint == 1 : \n",
    "            stroke_cum_p = stroke_cum\n",
    "            stroke_cum = 0 \n",
    "        stroke_cum += stroke\n",
    "        \n",
    "        dvolteor = dfxls['dVol_Teor[m³]'][e]\n",
    "        \n",
    "        if changepoint == 1 : \n",
    "            vol_teor_cum_p = vol_teor_cum\n",
    "            vol_teor_cum = 0\n",
    "        vol_teor_cum += dvolteor\n",
    "        \n",
    "        \n",
    "        ###  6 rett \n",
    "        \n",
    "        balancegrout = vol_wc_cum + bal_fs_sum\n",
    "        balancetot = balancegrout - vol_teor_cum\n",
    "        \n",
    "        balancegrout_p = vol_wc_cum_p + bal_fs_sum_p\n",
    "        balancetot_p = balancegrout_p - vol_teor_cum_p       \n",
    "        \n",
    "            \n",
    "        rectangles = {'Info1' : mpl.patches.Rectangle((0,1), 4, 2, color=cmap_segment(dfxls.iloc[e,pos_num]%10)),\n",
    "              'Info2'  : mpl.patches.Rectangle((0,4), 4, 6, color=colorstate[dfxls.state[e]]),\n",
    "              'Info3'   : mpl.patches.Rectangle((5,1), 4, 2, color='grey'),\n",
    "              'Info4'  : mpl.patches.Rectangle((5,4), 4, 6, color='grey'),\n",
    "              'Info5' : mpl.patches.Rectangle((10,1), 4, 2, color=colorbalfs[bal_fs<0]),\n",
    "              'Info6'  : mpl.patches.Rectangle((10,4), 4, 6, color=colorbalfs[bal_fs_q<0]),\n",
    "              'Info7'   : mpl.patches.Rectangle((15,1), 4, 2, color=colorbalfs[vol_wc_cum<0]),\n",
    "              'Info8'  : mpl.patches.Rectangle((15,4), 4, 6, color=colorbalfs[bal_fs<0]),\n",
    "              'Info9'   : mpl.patches.Rectangle((20,1), 4, 4, color=colorstate[dfxls.state[e]]),\n",
    "              'Info10'  : mpl.patches.Rectangle((20,6), 4, 4, color=colorstate[dfxls.state[e]]),\n",
    "              'Info11'   : mpl.patches.Rectangle((25,1), 4, 4, color=colorbalfs[balancetot<0]),\n",
    "              'Info12'  : mpl.patches.Rectangle((25,6), 4, 4, color=colorbalfs[balancetot_p<0])}\n",
    "        \n",
    "        \n",
    "        dict1 = {'Info1': 'Segment {}'.format(nseg),\n",
    "                 'Info2': '{}'.format(dfxls.state[e]),\n",
    "                 'Info3': 'P ch8:{} bar\\nP ch5:{} bar'.format(p_ch8_act,p_ch5_act),\n",
    "                 'Info4': 'Max P ch8:\\n{} bar\\nMax P ch5:\\n{} bar'.format(p_ch8_max,p_ch5_max),\n",
    "                 'Info5': 'Volcum:{:.2f}[m³]'.format(bal_fs_sum),\n",
    "                 'Info6': 'Feed:\\n{:.2f}[m³/h]\\nSlurry\\n{:.2f}[m³/h]\\nDiff:{:.1f}[m³/h]\\nDiff:{:.1f}[m³]'.format(feedl,slurry,bal_fs_q,bal_fs),\n",
    "                 'Info7': 'Volcum:{:.2f}[m³]'.format(vol_wc_cum),\n",
    "                 'Info8': 'Fill level:\\n{:.2f}[m]\\nFill lev pre\\n{:.2f}[m]\\nDiff:{:.1f}[m]\\nDiff:{:.1f}[m³]'.format(fillev,fillev_p,dfillev,dvolwch),\n",
    "                 'Info9': 'Stroke:{:.2f}[mm]\\n Volcum:{:.2f}[m³]'.format(stroke_cum, vol_teor_cum),\n",
    "                 'Info10': 'dStroke:{:.2f}[mm]\\n dVol:{:.2f}[m³]'.format(stroke , dvolteor), \n",
    "                 'Info11': 'Bal grout\\n:{:.2f}[m³]\\n BAL TOT\\n:{:.2f}[m³]'.format(balancegrout, balancetot),\n",
    "                 'Info12': 'Prev segm:{}[-]\\n BAL TOT PREV:\\n{:.2f}[m³]'.format(nseg_p, balancetot_p),\n",
    "                }\n",
    "\n",
    "\n",
    "\n",
    "\n",
    "\n",
    "        for r in rectangles:\n",
    "            ax0.add_artist(rectangles[r])\n",
    "            rx, ry = rectangles[r].get_xy()\n",
    "            cx = rx + rectangles[r].get_width()/2.0\n",
    "            cy = ry + rectangles[r].get_height()/2.0\n",
    "\n",
    "            ax0.annotate(dict1[r], (cx, cy), color='w', weight='bold', \n",
    "                        fontsize=14, ha='center', va='center')\n",
    "\n",
    "        ax0.set_xlim((0, 30))\n",
    "        ax0.set_ylim((0, 11))\n",
    "        # ax0.set_aspect('equal')\n",
    "\n",
    "        ax0.axis('off')\n",
    "        \n",
    "        \n",
    "        ##################################  PRIMO GRAFICO ****************************************\n",
    "        \n",
    "        ax = fig.add_subplot(gs[1:3, 0], projection='3d')\n",
    "        ax1 = fig.add_subplot(gs[1:3, 1], projection='3d')\n",
    "        \n",
    "\n",
    "\n",
    "        ax.set_xlabel(\"x\")\n",
    "        ax.set_ylabel(\"y\") \n",
    "        ax.set_zlabel(\"z\")\n",
    "\n",
    "        ax.view_init(45, -45) # rotazione della vista 3d\n",
    "\n",
    "        ax.set_xlim3d([-1,1])\n",
    "        ax.set_ylim3d([3,0]) # same as saying to invert it \n",
    "        ax.set_zlim3d([-1,1]) \n",
    "        \n",
    "        # Strech the graph\n",
    "        ax.get_proj = lambda: np.dot(Axes3D.get_proj(ax), np.diag([1.0, 1.1, 1.0, 1]))\n",
    "\n",
    "        #######      *********\n",
    "\n",
    "\n",
    "        ax.set_xlabel('x'),ax.set_ylabel('Pressure [bar]'),ax.set_zlabel('y')\n",
    "\n",
    "        n_row = df.shape[0]\n",
    "\n",
    "        for i in np.arange(0,n_sensori,1):\n",
    "\n",
    "            x_ = list_x[i]\n",
    "            z_ = list_z[i]\n",
    "            y_ = df.iloc[e,i+1]\n",
    "             \n",
    "\n",
    "            # Plotto una barra per volta\n",
    "            ax.bar3d(x_, y_, z_, dx=0.2, dz=0.2, dy=(0-y_),\n",
    "                    color='deepskyblue')\n",
    "            \n",
    "        x1_ = 0\n",
    "        z1_ = 0\n",
    "        y1_ = dfxls.iloc[e, pos_p02]/100\n",
    "            \n",
    "        ax.bar3d(x1_, y1_, z1_, dx=0.2, dz=0.2, dy=(0-y1_), color='red')    \n",
    "            \n",
    "            \n",
    "\n",
    "        # Plotto la barra rossa FILL LEVEL    ********************************************************\n",
    "        \n",
    "        z1_ = dfxls.iloc[e,pos_filllev]\n",
    "        \n",
    "        ax1.bar3d(-1, 0, z1_, dx=2, dy=0.5, dz=(-2-z1_),\n",
    "                    color = colorfilllev[dfxls.iloc[e,pos_filllev]<-1.8])  \n",
    "        \n",
    "\n",
    "\n",
    "        x1_ = 0.5\n",
    "        z1_ = 3\n",
    "        y1_ = dfxls.iloc[e, pos_p01]/100\n",
    "        ax1.bar3d(x1_, y1_, z1_, dx=0.2, dz=0.2, dy=(0-y1_), color='red')       \n",
    "        \n",
    "        x1_ = -0.5\n",
    "        z1_ = 3\n",
    "        y1_ = dfxls.iloc[e, pos_p05]/100\n",
    "        ax1.bar3d(x1_, y1_, z1_, dx=0.2, dz=0.2, dy=(0-y1_), color='red')  \n",
    "        \n",
    "        ax1.set_xlim3d(-1,1)\n",
    "        ax1.set_ylim3d(2,0) # same as saying to invert it \n",
    "        ax1.set_zlim3d(-2,3) \n",
    "        \n",
    "        \n",
    "        \n",
    "        ax.text2D(0.05, 0.99, str(df.iloc[e,0]), transform=ax.transAxes, fontdict = fontdict2)\n",
    "\n",
    "        ax.text2D(0, -0.3, str('Pressure chamber[bar]\\nP0.2[m³/h/100]'), transform=ax.transAxes, fontdict = fontdict2)\n",
    "        \n",
    "        \n",
    "        \n",
    "        ax1.text2D(1.5, -0.3, str('Fill Level[m]\\nP0.1,P0.5[m³/h/100]'), transform=ax.transAxes, fontdict = fontdict2)       \n",
    "        \n",
    "        \n",
    "        \n",
    "        ##################################  ULTIMO GRAFICO ##################################################\n",
    "        \n",
    "        \n",
    "        ax3 = fig.add_subplot(gs[4, :])\n",
    "        \n",
    "            \n",
    "        advdsp.append(dfxls['stroke_cum_seg[mm]'][e])\n",
    "        date.append(dfxls['datestamp'][e])\n",
    "        \n",
    "        y = np.array(advdsp, dtype='int')\n",
    "        x = np.array(date, dtype='datetime64')\n",
    "        \n",
    "        ax3.plot(x,y, label='stroke_cum_seg[mm]')\n",
    "        \n",
    "        ax3.legend()\n",
    "        \n",
    "        plt.gca().xaxis.set_major_formatter(mdates.DateFormatter('%m-%d %H:%M'))\n",
    "        #  plt.gca().xaxis.set_major_locator(mdates.DayLocator())\n",
    "        \n",
    "        plt.gcf().autofmt_xdate()\n",
    "\n",
    "        ax3.xlim = (dfxls.datestamp.min(),dfxls.datestamp.max())\n",
    "        ax3.ylim = (dfxls['stroke_cum_seg[mm]'].min(),dfxls['stroke_cum_seg[mm]'].max())\n",
    "\n",
    "\n",
    "        ##################################  SALVA IMMAGINE ##################################################\n",
    "        \n",
    "        nframe +=1\n",
    "        \n",
    "        nomepng = '{}/{}/img_{:04d}.png'.format(save_folder, gif_filename, nframe)\n",
    "        plt.savefig(nomepng)  \n",
    "    \n",
    "        # don't display the static plot...\n",
    "        plt.close()\n",
    "\n",
    "        \n",
    "IPdisplay.Image(url=nomepng)        "
   ]
  },
  {
   "cell_type": "code",
   "execution_count": 188,
   "metadata": {},
   "outputs": [],
   "source": [
    "dfxlscopy.iloc[:,-15:].to_excel(\"output.xlsx\")"
   ]
  },
  {
   "cell_type": "code",
   "execution_count": 204,
   "metadata": {},
   "outputs": [
    {
     "data": {
      "text/plain": [
       "S-1048_ADVANCE_ADVANCE_NO [-]\n",
       "4201    AxesSubplot(0.125,0.125;0.775x0.755)\n",
       "4202    AxesSubplot(0.125,0.125;0.775x0.755)\n",
       "4203    AxesSubplot(0.125,0.125;0.775x0.755)\n",
       "4204    AxesSubplot(0.125,0.125;0.775x0.755)\n",
       "4205    AxesSubplot(0.125,0.125;0.775x0.755)\n",
       "4206    AxesSubplot(0.125,0.125;0.775x0.755)\n",
       "Name: AET Net Stroke [mm], dtype: object"
      ]
     },
     "execution_count": 204,
     "metadata": {},
     "output_type": "execute_result"
    },
    {
     "data": {
      "image/png": "[encoded data removed]",
      "text/plain": [
       "<Figure size 1080x288 with 1 Axes>"
      ]
     },
     "metadata": {},
     "output_type": "display_data"
    }
   ],
   "source": [
    "plt.figure(figsize=(15,4))\n",
    "dfxlscopy[dfxlscopy.state=='fulloper'].groupby(col_list[pos_num])['AET Net Stroke [mm]'].plot()"
   ]
  },
  {
   "cell_type": "code",
   "execution_count": 201,
   "metadata": {},
   "outputs": [
    {
     "data": {
      "text/plain": [
       "S-1048_ADVANCE_ADVANCE_NO [-]\n",
       "4201    AxesSubplot(0.125,0.125;0.775x0.755)\n",
       "4202    AxesSubplot(0.125,0.125;0.775x0.755)\n",
       "4203    AxesSubplot(0.125,0.125;0.775x0.755)\n",
       "4204    AxesSubplot(0.125,0.125;0.775x0.755)\n",
       "4205    AxesSubplot(0.125,0.125;0.775x0.755)\n",
       "4206    AxesSubplot(0.125,0.125;0.775x0.755)\n",
       "Name: Advance speed [mm/min], dtype: object"
      ]
     },
     "execution_count": 201,
     "metadata": {},
     "output_type": "execute_result"
    },
    {
     "data": {
      "image/png": "[encoded data removed]",
      "text/plain": [
       "<Figure size 1080x288 with 1 Axes>"
      ]
     },
     "metadata": {},
     "output_type": "display_data"
    }
   ],
   "source": [
    "plt.figure(figsize=(15,4))\n",
    "# dfxlscopy[dfxlscopy.state=='fulloper'].groupby(col_list[pos_num])['AET Net Stroke [mm]'].plot()\n",
    "# dfxlscopy.groupby(col_list[pos_num])['AET Net Stroke [mm]'].plot()\n",
    "# dfxlscopy['AET Net Stroke [mm]'].plot()\n",
    "dfxlscopy[dfxlscopy.state=='fulloper'].groupby(col_list[pos_num])['Advance speed [mm/min]'].plot()"
   ]
  },
  {
   "cell_type": "code",
   "execution_count": 179,
   "metadata": {},
   "outputs": [
    {
     "data": {
      "text/plain": [
       "<matplotlib.axes._subplots.AxesSubplot at 0x25a04e8e2b0>"
      ]
     },
     "execution_count": 179,
     "metadata": {},
     "output_type": "execute_result"
    },
    {
     "data": {
      "image/png": "[encoded data removed]",
      "text/plain": [
       "<Figure size 1080x576 with 1 Axes>"
      ]
     },
     "metadata": {},
     "output_type": "display_data"
    }
   ],
   "source": [
    "plt.figure(figsize=(15,8))\n",
    "dfxlscopy[dfxlscopy.state=='fulloper'].groupby(col_list[pos_num]).agg([np.sum,np.mean,np.max,np.min])['dpress_ch1']['sum'].plot()"
   ]
  },
  {
   "cell_type": "code",
   "execution_count": 192,
   "metadata": {},
   "outputs": [
    {
     "data": {
      "text/html": [
       "<div>\n",
       "<style scoped>\n",
       "    .dataframe tbody tr th:only-of-type {\n",
       "        vertical-align: middle;\n",
       "    }\n",
       "\n",
       "    .dataframe tbody tr th {\n",
       "        vertical-align: top;\n",
       "    }\n",
       "\n",
       "    .dataframe thead th {\n",
       "        text-align: right;\n",
       "    }\n",
       "</style>\n",
       "<table border=\"1\" class=\"dataframe\">\n",
       "  <thead>\n",
       "    <tr style=\"text-align: right;\">\n",
       "      <th></th>\n",
       "      <th>sum</th>\n",
       "      <th>mean</th>\n",
       "      <th>amax</th>\n",
       "      <th>amin</th>\n",
       "    </tr>\n",
       "    <tr>\n",
       "      <th>S-1048_ADVANCE_ADVANCE_NO [-]</th>\n",
       "      <th></th>\n",
       "      <th></th>\n",
       "      <th></th>\n",
       "      <th></th>\n",
       "    </tr>\n",
       "  </thead>\n",
       "  <tbody>\n",
       "    <tr>\n",
       "      <th>4201</th>\n",
       "      <td>1398.0</td>\n",
       "      <td>25.888889</td>\n",
       "      <td>30.0</td>\n",
       "      <td>0.0</td>\n",
       "    </tr>\n",
       "    <tr>\n",
       "      <th>4202</th>\n",
       "      <td>1739.0</td>\n",
       "      <td>24.842857</td>\n",
       "      <td>30.0</td>\n",
       "      <td>0.0</td>\n",
       "    </tr>\n",
       "    <tr>\n",
       "      <th>4203</th>\n",
       "      <td>1560.0</td>\n",
       "      <td>23.283582</td>\n",
       "      <td>27.0</td>\n",
       "      <td>0.0</td>\n",
       "    </tr>\n",
       "    <tr>\n",
       "      <th>4204</th>\n",
       "      <td>1357.0</td>\n",
       "      <td>23.000000</td>\n",
       "      <td>27.0</td>\n",
       "      <td>0.0</td>\n",
       "    </tr>\n",
       "    <tr>\n",
       "      <th>4205</th>\n",
       "      <td>1766.0</td>\n",
       "      <td>23.236842</td>\n",
       "      <td>26.0</td>\n",
       "      <td>0.0</td>\n",
       "    </tr>\n",
       "    <tr>\n",
       "      <th>4206</th>\n",
       "      <td>1573.0</td>\n",
       "      <td>23.477612</td>\n",
       "      <td>27.0</td>\n",
       "      <td>0.0</td>\n",
       "    </tr>\n",
       "  </tbody>\n",
       "</table>\n",
       "</div>"
      ],
      "text/plain": [
       "                                  sum       mean  amax  amin\n",
       "S-1048_ADVANCE_ADVANCE_NO [-]                               \n",
       "4201                           1398.0  25.888889  30.0   0.0\n",
       "4202                           1739.0  24.842857  30.0   0.0\n",
       "4203                           1560.0  23.283582  27.0   0.0\n",
       "4204                           1357.0  23.000000  27.0   0.0\n",
       "4205                           1766.0  23.236842  26.0   0.0\n",
       "4206                           1573.0  23.477612  27.0   0.0"
      ]
     },
     "execution_count": 192,
     "metadata": {},
     "output_type": "execute_result"
    }
   ],
   "source": [
    "dfxlscopy[dfxlscopy.state=='fulloper'].groupby(col_list[pos_num]).agg([np.sum,np.mean,np.max,np.min])['stroke_diff[mm]']"
   ]
  },
  {
   "cell_type": "code",
   "execution_count": null,
   "metadata": {},
   "outputs": [],
   "source": [
    "dfxlscopy[dfxlscopy.state=='fulloper'].groupby(col_list[pos_num]).agg([np.sum,np.mean,np.max,np.min])['stroke_diff[mm]']"
   ]
  },
  {
   "cell_type": "code",
   "execution_count": 180,
   "metadata": {},
   "outputs": [
    {
     "data": {
      "text/plain": [
       "['Date',\n",
       " 'S-1048_ADVANCE_ADVANCE_NO [-]',\n",
       " 'Pressure excavation chamber 1 [bar]',\n",
       " 'Pressure excavation chamber 2 [bar]',\n",
       " 'Pressure excavation chamber 3 [bar]',\n",
       " 'Pressure excavation chamber 4 [bar]',\n",
       " 'Pressure excavation chamber 5 [bar]',\n",
       " 'Pressure excavation chamber 6 [bar]',\n",
       " 'Pressure excavation chamber 7 [bar]',\n",
       " 'Pressure excavation chamber 8 [bar]',\n",
       " 'Line 1 grout injection pressure [bar]',\n",
       " 'Line 1 grout injection flow [l/min]',\n",
       " 'Line 1 grout injection amount [l]',\n",
       " 'Line 2 grout injection pressure [bar]',\n",
       " 'Line 2 grout injection flow [l/min]',\n",
       " 'Line 2 grout injection amount [l]',\n",
       " 'Line 3 grout injection pressure [bar]',\n",
       " 'Line 3 grout injection flow [l/min]',\n",
       " 'Line 3 grout injection amount [l]',\n",
       " 'Line 4 grout injection pressure [bar]',\n",
       " 'Line 4 grout injection flow [l/min]',\n",
       " 'Line 4 grout injection amount [l]',\n",
       " 'Grout injection quantity calculated in m3 [m³]',\n",
       " 'Grout injection total quantity in m3 [m³]',\n",
       " 'Total amount of component A [l]',\n",
       " 'Total amount of component B [l]',\n",
       " 'Total advance force [kN]',\n",
       " 'Advance speed [mm/min]',\n",
       " 'Penetration [mm/rot]',\n",
       " 'Torque cutting wheel [MNm]',\n",
       " 'Contact force shield articulation [kN]',\n",
       " 'Specific energy MJ/m3 [MJ/m³]',\n",
       " 'Fill level working chamber [m]',\n",
       " 'Excavated bentonite [m³]',\n",
       " 'Air Flow in Normal m3/min [m³/min]',\n",
       " 'AET Mass [t]',\n",
       " 'AET Volume [m³]',\n",
       " 'FS0011 Pressure transducer screw conveyor pump 1 high pressure [bar]',\n",
       " 'FS0012 Pressure transducer screw conveyor pump 1 feed pressure [bar]',\n",
       " 'Screw Conveyor Front Pressure [bar]',\n",
       " 'Screw Conveyor Rear Pressure [bar]',\n",
       " 'Screw gate front open [Bit]',\n",
       " 'Screw gate front closed [Bit]',\n",
       " 'Screw gate 1 rear open [Bit]',\n",
       " 'Screw gate 1 rear closed [Bit]',\n",
       " 'Speed screw conveyor from gear sensor [rpm]',\n",
       " 'Torque screw conveyor calculated [-]',\n",
       " 'Slurry circuit P04 density [t/m³]',\n",
       " 'Density feed line [t/m³]',\n",
       " 'Density slurry line [t/m³]',\n",
       " 'Flow feed line [m³/h]',\n",
       " 'Flow slurry line [m³/h]',\n",
       " 'P0.1 feed pump operation [Bit]',\n",
       " 'P0.1 delivery pressure [bar]',\n",
       " 'P0.1 suction pressure [bar]',\n",
       " 'P0.1 Flow [m³/h]',\n",
       " 'P0.2 feed pump operation [Bit]',\n",
       " 'P0.2 delivery pressure [bar]',\n",
       " 'P0.2 suction pressure [bar]',\n",
       " 'P0.2 Flow [m³/h]',\n",
       " 'P0.3 feed pump operation [Bit]',\n",
       " 'P0.3 delivery pressure [bar]',\n",
       " 'P0.3 suction pressure [bar]',\n",
       " 'P0.3 Flow [m³/h]',\n",
       " 'P0.4 feed pump operation [Bit]',\n",
       " 'P0.4 delivery pressure [bar]',\n",
       " 'P0.4 suction pressure [bar]',\n",
       " 'P0.4 Flow [m³/h]',\n",
       " 'P1.1 feed pump operation [Bit]',\n",
       " 'P1.1 delivery pressure [bar]',\n",
       " 'P1.1 suction pressure [bar]',\n",
       " 'P1.2 feed pump operation [Bit]',\n",
       " 'P1.2 delivery pressure [bar]',\n",
       " 'P1.2 suction pressure [bar]',\n",
       " 'P2.1 feed pump operation [Bit]',\n",
       " 'P2.1 delivery pressure [bar]',\n",
       " 'P2.1 suction pressure [bar]',\n",
       " 'P2.2 feed pump operation [Bit]',\n",
       " 'P2.2 delivery pressure [bar]',\n",
       " 'P2.2 suction pressure [bar]',\n",
       " 'P2.3 feed pump operation [Bit]',\n",
       " 'P2.3 delivery pressure [bar]',\n",
       " 'P2.3 suction pressure [bar]',\n",
       " 'P2.4 feed pump operation [Bit]',\n",
       " 'P2.4 delivery pressure [bar]',\n",
       " 'P2.4 suction pressure [bar]',\n",
       " 'P2.5 feed pump operation [Bit]',\n",
       " 'P2.5 delivery pressure [bar]',\n",
       " 'P2.5 suction pressure [bar]',\n",
       " 'P2.6 feed pump operation [Bit]',\n",
       " 'P2.6 delivery pressure [bar]',\n",
       " 'P2.6 suction pressure [bar]',\n",
       " 'P2.7 feed pump operation [Bit]',\n",
       " 'P2.7 delivery pressure [bar]',\n",
       " 'P2.7 suction pressure [bar]',\n",
       " 'P3.8 delivery pressure [bar]',\n",
       " 'P3.8 pump operation [Bit]',\n",
       " 'P0.5 flow [m³/h]',\n",
       " 'Slurry Circuit Flow Sensor, Position 2 [m³/h]',\n",
       " 'Slurry Circuit Flow Sensor, Position 3 [m³/h]',\n",
       " 'Slurry Circuit Flow Sensor, Position 4 [m³/h]',\n",
       " 'Slurry Circuit Flow Sensor, Position 5 [m³/h]',\n",
       " 'Slurry Circuit Flow Sensor, Position 6 [m³/h]',\n",
       " 'Slurry Circuit Flow Sensor, Position 7 [m³/h]',\n",
       " 'Slurry Circuit Flow Sensor, Position 8 [m³/h]',\n",
       " 'AET Net Stroke [mm]',\n",
       " 'Stroke thrust cylinder Gr. A [mm]',\n",
       " 'Stroke thrust cylinder Gr. B [mm]',\n",
       " 'Stroke thrust cylinder Gr. C [mm]',\n",
       " 'Stroke thrust cylinder Gr. D [mm]',\n",
       " 'Stroke thrust cylinder Gr. E [mm]',\n",
       " 'datestamp',\n",
       " 'timestamp',\n",
       " 'datestamp_p',\n",
       " 'datestamp_diff',\n",
       " 'datestamp_diff[h]',\n",
       " 'dpress_ch1',\n",
       " 'dpress_ch2',\n",
       " 'dpress_ch3',\n",
       " 'dpress_ch4',\n",
       " 'dpress_ch5',\n",
       " 'dpress_ch6',\n",
       " 'dpress_ch7',\n",
       " 'dpress_ch8',\n",
       " 'stroke_diff[mm]',\n",
       " 'stroke_cum[mm]',\n",
       " 'stroke_cum_seg[mm]',\n",
       " 'dVol_Teor[m³]',\n",
       " 'Vol_Teor_cum[m³]',\n",
       " 'Vol_Teor_seg_cum[m³]',\n",
       " 'feed_adj[m³/h]',\n",
       " 'bal_feed_slurry[m³/h]',\n",
       " 'dVol_bal_feed_slurry[m³]',\n",
       " 'dVol_bal_feed_slurry_cum[m³]',\n",
       " 'dfill_level[m]',\n",
       " 'dvol_work_chamb[m³]',\n",
       " 'dvol_work_chamb_cum[m³]',\n",
       " 'dbalance_filllev_feedslurry[m³]',\n",
       " 'state']"
      ]
     },
     "execution_count": 180,
     "metadata": {},
     "output_type": "execute_result"
    }
   ],
   "source": [
    "dfxlscopy.columns.tolist()"
   ]
  },
  {
   "cell_type": "code",
   "execution_count": null,
   "metadata": {},
   "outputs": [],
   "source": []
  },
  {
   "cell_type": "code",
   "execution_count": null,
   "metadata": {},
   "outputs": [],
   "source": []
  },
  {
   "cell_type": "code",
   "execution_count": 157,
   "metadata": {},
   "outputs": [],
   "source": [
    "# load all the static images into a list then save as an animated gif\n",
    "\n",
    "gif_filepath = '{}/{}.gif'.format(save_folder, gif_filename)\n",
    "\n",
    "\n",
    "images = []\n",
    "images = [Image.open(image) for image in glob.glob('{}/*.png'.format(working_folder))]\n",
    "gif = images[0]\n",
    "gif.info['duration'] = 400 #milliseconds per frame\n",
    "gif.info['loop'] = 0 #how many times to loop (0=infinite)\n",
    "append_images=[]\n",
    "gif.save(fp=gif_filepath, format='gif', save_all=True, append_images=images[1:])"
   ]
  },
  {
   "cell_type": "code",
   "execution_count": 158,
   "metadata": {},
   "outputs": [
    {
     "ename": "ModuleNotFoundError",
     "evalue": "No module named 'cv2'",
     "output_type": "error",
     "traceback": [
      "\u001b[1;31m---------------------------------------------------------------------------\u001b[0m",
      "\u001b[1;31mModuleNotFoundError\u001b[0m                       Traceback (most recent call last)",
      "\u001b[1;32m<ipython-input-158-9962e6d99846>\u001b[0m in \u001b[0;36m<module>\u001b[1;34m\u001b[0m\n\u001b[1;32m----> 1\u001b[1;33m \u001b[1;32mimport\u001b[0m \u001b[0mcv2\u001b[0m\u001b[1;33m\u001b[0m\u001b[1;33m\u001b[0m\u001b[0m\n\u001b[0m\u001b[0;32m      2\u001b[0m \u001b[1;32mimport\u001b[0m \u001b[0mos\u001b[0m\u001b[1;33m\u001b[0m\u001b[1;33m\u001b[0m\u001b[0m\n\u001b[0;32m      3\u001b[0m \u001b[1;33m\u001b[0m\u001b[0m\n\u001b[0;32m      4\u001b[0m \u001b[0mos\u001b[0m\u001b[1;33m.\u001b[0m\u001b[0mchdir\u001b[0m\u001b[1;33m(\u001b[0m\u001b[1;34m'C:\\\\Users\\\\fpe\\\\JUPYTER\\\\datimacchina'\u001b[0m\u001b[1;33m)\u001b[0m\u001b[1;33m\u001b[0m\u001b[1;33m\u001b[0m\u001b[0m\n\u001b[0;32m      5\u001b[0m \u001b[0msave_folder\u001b[0m \u001b[1;33m=\u001b[0m \u001b[1;34m'images/gif'\u001b[0m\u001b[1;33m\u001b[0m\u001b[1;33m\u001b[0m\u001b[0m\n",
      "\u001b[1;31mModuleNotFoundError\u001b[0m: No module named 'cv2'"
     ]
    }
   ],
   "source": [
    "import cv2\n",
    "import os\n",
    "\n",
    "os.chdir('C:\\\\Users\\\\fpe\\\\JUPYTER\\\\datimacchina')\n",
    "save_folder = 'images/gif'\n",
    "gif_filename = '01'\n",
    "\n",
    "image_folder = '{}/{}'.format(save_folder, gif_filename)  # 'images/gif/01'\n",
    "video_name = 'video.avi'\n",
    "\n",
    "images = [img for img in os.listdir(image_folder) if img.endswith(\".png\")]\n",
    "frame = cv2.imread(os.path.join(image_folder, images[0]))\n",
    "height, width, layers = frame.shape\n",
    "\n",
    "video = cv2.VideoWriter(video_name, 0, fps=4, frameSize=(width,height))\n",
    "\n",
    "for image in images:\n",
    "    video.write(cv2.imread(os.path.join(image_folder, image)))\n",
    "\n",
    "cv2.destroyAllWindows()\n",
    "video.release()"
   ]
  },
  {
   "cell_type": "code",
   "execution_count": null,
   "metadata": {},
   "outputs": [],
   "source": [
    "gif_filepath = '{}/{}.gif?{}'.format(save_folder, gif_filename,randint(1, 100))   # ?1  serve per permettere l'update\n",
    "IPdisplay.Image(url=gif_filepath)"
   ]
  },
  {
   "cell_type": "code",
   "execution_count": null,
   "metadata": {},
   "outputs": [],
   "source": [
    "os.getcwd()"
   ]
  },
  {
   "cell_type": "code",
   "execution_count": null,
   "metadata": {},
   "outputs": [],
   "source": [
    "max(5,6)"
   ]
  },
  {
   "cell_type": "code",
   "execution_count": null,
   "metadata": {},
   "outputs": [],
   "source": []
  },
  {
   "cell_type": "code",
   "execution_count": null,
   "metadata": {},
   "outputs": [],
   "source": []
  },
  {
   "cell_type": "code",
   "execution_count": null,
   "metadata": {},
   "outputs": [],
   "source": []
  },
  {
   "cell_type": "code",
   "execution_count": null,
   "metadata": {},
   "outputs": [],
   "source": []
  },
  {
   "cell_type": "code",
   "execution_count": null,
   "metadata": {},
   "outputs": [],
   "source": []
  },
  {
   "cell_type": "code",
   "execution_count": null,
   "metadata": {},
   "outputs": [],
   "source": [
    "np.arange(0,n_sensori,1)"
   ]
  },
  {
   "cell_type": "code",
   "execution_count": null,
   "metadata": {},
   "outputs": [],
   "source": [
    "# fig = plt.figure(figsize=(20,10))\n",
    "# ax = fig.add_subplot(111)\n",
    "\n",
    "y_=[]\n",
    "\n",
    "e = 100\n",
    "\n",
    "for i in np.arange(0,n_sensori,1):  # array([0, 1, 2, 3, 4, 5, 6, 7])\n",
    "    \n",
    "    y_.append(float(df.iloc[e,i+1]))\n",
    "   \n",
    "xc=[]\n",
    "zc=[]\n",
    "\n",
    "for i in np.linspace(0,359,360):\n",
    "    \n",
    "    xc.append(0.5*np.sin(np.deg2rad(i)))\n",
    "    zc.append(0.5*np.cos(np.deg2rad(i)))\n",
    "    \n",
    "    xc.append(1.5*np.sin(np.deg2rad(i)))\n",
    "    zc.append(1.5*np.cos(np.deg2rad(i)))\n",
    "    \n",
    "    \n",
    "\n",
    "x_ = list_x.copy()\n",
    "z_ = list_z.copy()\n",
    "\n",
    "x_.extend((np.ones(21)*2).tolist())\n",
    "z_.extend(np.linspace(-2,2,21).tolist())\n",
    "\n",
    "x_.extend((np.ones(21)*-2).tolist())\n",
    "z_.extend(np.linspace(-2,2,21).tolist())\n",
    "\n",
    "x_.extend(np.linspace(-1.9,1.9,19).tolist())\n",
    "z_.extend((np.ones(19)*2).tolist())\n",
    "\n",
    "x_.extend(np.linspace(-1.9,1.9,19).tolist())\n",
    "z_.extend((np.ones(19)*-2).tolist())\n",
    "\n",
    "x_.extend(xc)\n",
    "z_.extend(zc)\n",
    "\n",
    "y_.extend(np.zeros(80+720).tolist())\n",
    "\n"
   ]
  },
  {
   "cell_type": "code",
   "execution_count": null,
   "metadata": {},
   "outputs": [],
   "source": []
  },
  {
   "cell_type": "code",
   "execution_count": null,
   "metadata": {},
   "outputs": [],
   "source": [
    "len(X)"
   ]
  },
  {
   "cell_type": "code",
   "execution_count": null,
   "metadata": {},
   "outputs": [],
   "source": [
    "X,Z = np.meshgrid(x_, z_, sparse=True)"
   ]
  },
  {
   "cell_type": "code",
   "execution_count": null,
   "metadata": {},
   "outputs": [],
   "source": []
  },
  {
   "cell_type": "code",
   "execution_count": null,
   "metadata": {},
   "outputs": [],
   "source": [
    "from scipy.interpolate import griddata\n",
    "Ti = griddata((x_, z_), y_, (X, Z), method='cubic')"
   ]
  },
  {
   "cell_type": "code",
   "execution_count": null,
   "metadata": {},
   "outputs": [],
   "source": [
    "fig = plt.figure(figsize=(20,10))\n",
    "ax = fig.add_subplot(111)\n",
    "ax.contourf(X, Y, Ti)"
   ]
  },
  {
   "cell_type": "code",
   "execution_count": null,
   "metadata": {},
   "outputs": [],
   "source": [
    "import matplotlib.tri as mtri\n",
    "triang = mtri.Triangulation(x_, z_)"
   ]
  },
  {
   "cell_type": "code",
   "execution_count": null,
   "metadata": {},
   "outputs": [],
   "source": [
    "fig = plt.figure()\n",
    "ax = fig.add_subplot(1,1,1)\n",
    "\n",
    "ax.triplot(triang, c=\"#D3D3D3\", marker='.', markerfacecolor=\"#DC143C\", markeredgecolor=\"black\", markersize=10)\n",
    "\n",
    "ax.set_xlabel('X')\n",
    "ax.set_ylabel('Y')\n",
    "plt.show()"
   ]
  },
  {
   "cell_type": "code",
   "execution_count": null,
   "metadata": {},
   "outputs": [],
   "source": [
    "triang.y"
   ]
  },
  {
   "cell_type": "code",
   "execution_count": null,
   "metadata": {},
   "outputs": [],
   "source": [
    "fig = plt.figure(figsize=(18,12))\n",
    "ax = fig.add_subplot(1,1,1, projection='3d')\n",
    "\n",
    "ax.plot_trisurf(triang.y, triang.x, y_, cmap='Blues')\n",
    "\n",
    "ax.view_init(elev=50, azim=45)\n",
    "\n",
    "ax.set_xlabel('X')\n",
    "ax.set_ylabel('Y')\n",
    "ax.set_zlabel('Z')\n",
    "plt.show()"
   ]
  },
  {
   "cell_type": "code",
   "execution_count": null,
   "metadata": {},
   "outputs": [],
   "source": [
    "fig = plt.figure(figsize=(20,10))\n",
    "ax = fig.add_subplot(111)\n",
    "ax.contourf(triang.y, triang.x, np.array(y_), cmap='Blues')"
   ]
  },
  {
   "cell_type": "code",
   "execution_count": null,
   "metadata": {},
   "outputs": [],
   "source": []
  },
  {
   "cell_type": "code",
   "execution_count": null,
   "metadata": {},
   "outputs": [],
   "source": []
  },
  {
   "cell_type": "code",
   "execution_count": null,
   "metadata": {},
   "outputs": [],
   "source": []
  },
  {
   "cell_type": "code",
   "execution_count": null,
   "metadata": {},
   "outputs": [],
   "source": []
  },
  {
   "cell_type": "code",
   "execution_count": null,
   "metadata": {},
   "outputs": [],
   "source": []
  },
  {
   "cell_type": "code",
   "execution_count": null,
   "metadata": {},
   "outputs": [],
   "source": []
  },
  {
   "cell_type": "code",
   "execution_count": null,
   "metadata": {},
   "outputs": [],
   "source": []
  },
  {
   "cell_type": "code",
   "execution_count": null,
   "metadata": {},
   "outputs": [],
   "source": []
  },
  {
   "cell_type": "code",
   "execution_count": null,
   "metadata": {},
   "outputs": [],
   "source": []
  },
  {
   "cell_type": "code",
   "execution_count": null,
   "metadata": {},
   "outputs": [],
   "source": [
    "dfxls.columns.tolist()"
   ]
  },
  {
   "cell_type": "code",
   "execution_count": null,
   "metadata": {},
   "outputs": [],
   "source": [
    "#dfg = dfxls.iloc[:,[2,4,6,9,10,11,19,20,22,26,27,30,32,33,34,37,50,51]]\n",
    "dfg = dfxls.iloc[:,[2,4,6,9,10,11,19,20,22,26,27,30,32]]\n",
    "dfg.columns"
   ]
  },
  {
   "cell_type": "code",
   "execution_count": null,
   "metadata": {},
   "outputs": [],
   "source": [
    "# Calculate correlation coefficient\n",
    "def corrfunc(x, y, **kws):\n",
    "    r, _ = stats.pearsonr(x, y)\n",
    "    ax = plt.gca()\n",
    "    ax.annotate(\"r = {:.2f}\".format(r),\n",
    "                xy=(.1, .6), xycoords=ax.transAxes,\n",
    "               size = 20)\n",
    "    \n",
    "plt.style.use('seaborn-pastel')   \n",
    "sns.set_style(\"white\")\n",
    "    \n",
    "cmap = sns.cubehelix_palette(light=1, dark = 0.1,\n",
    "                             hue = 0.5, as_cmap=True)\n",
    "\n",
    "sns.set_context(font_scale=2)\n",
    "\n",
    "fig = plt.figure(figsize=(30,30))\n",
    "sns.set(rc={'figure.figsize':(30,30)})\n",
    "\n",
    "\n",
    "# Pair grid set up\n",
    "g = sns.PairGrid(dfg)\n",
    "\n",
    "# Scatter plot on the upper triangle\n",
    "g.map_upper(plt.scatter, s=10, color = 'b')\n",
    "\n",
    "# Distribution on the diagonal\n",
    "g.map_diag(sns.distplot, kde=False, color = 'red')\n",
    "\n",
    "# Density Plot and Correlation coefficients on the lower triangle\n",
    "g.map_lower(sns.kdeplot, cmap = cmap)\n",
    "g.map_lower(corrfunc);\n",
    "\n",
    "plt.savefig('{}/{}/img_{}.png'.format(save_folder, gif_filename, 'corr_matrix'))"
   ]
  },
  {
   "cell_type": "code",
   "execution_count": null,
   "metadata": {},
   "outputs": [],
   "source": []
  },
  {
   "cell_type": "markdown",
   "metadata": {},
   "source": [
    "## Creo una funzione per plottare in automatico il multigrafico di correlazione"
   ]
  },
  {
   "cell_type": "code",
   "execution_count": null,
   "metadata": {},
   "outputs": [],
   "source": [
    "def corrfunc(x, y, **kws):\n",
    "    r, _ = stats.pearsonr(x, y)\n",
    "    ax = plt.gca()\n",
    "    ax.annotate(\"r = {:.2f}\".format(r),\n",
    "                xy=(.1, .6), xycoords=ax.transAxes,\n",
    "               size = 20)\n",
    "\n",
    "def corrgraph(dfg, nomefile):\n",
    "    # Function to create graph correlation matrix\n",
    "\n",
    "    plt.style.use('seaborn-pastel')   \n",
    "    sns.set_style(\"white\")\n",
    "\n",
    "    cmap = sns.cubehelix_palette(light=1, dark = 0.1,\n",
    "                                 hue = 0.5, as_cmap=True)\n",
    "\n",
    "    sns.set_context(font_scale=2)\n",
    "\n",
    "    fig = plt.figure(figsize=(30,30))\n",
    "    sns.set(rc={'figure.figsize':(30,30)})\n",
    "\n",
    "\n",
    "    # Pair grid set up\n",
    "    g = sns.PairGrid(dfg)\n",
    "\n",
    "    # Scatter plot on the upper triangle\n",
    "    g.map_upper(plt.scatter, s=10, color = 'b')\n",
    "\n",
    "    # Distribution on the diagonal\n",
    "    g.map_diag(sns.distplot, kde=False, color = 'red')\n",
    "\n",
    "    # Density Plot and Correlation coefficients on the lower triangle\n",
    "    g.map_lower(sns.kdeplot, cmap = cmap)\n",
    "    g.map_lower(corrfunc);\n",
    "\n",
    "    plt.savefig('{}/{}/img_{}.png'.format(save_folder, gif_filename, nomefile))"
   ]
  },
  {
   "cell_type": "code",
   "execution_count": null,
   "metadata": {},
   "outputs": [],
   "source": []
  },
  {
   "cell_type": "code",
   "execution_count": null,
   "metadata": {},
   "outputs": [],
   "source": []
  },
  {
   "cell_type": "markdown",
   "metadata": {},
   "source": [
    "### Plotto il multigrafico per i dati delle pressure chamber e il Fill level"
   ]
  },
  {
   "cell_type": "code",
   "execution_count": null,
   "metadata": {},
   "outputs": [],
   "source": [
    "dfg=dfxls.filter(regex='(Pressure excavation chamber|Fill level)')\n",
    "\n",
    "col_ls = dfg.columns.tolist()\n",
    "col_ls = list(map(lambda x: str.replace(x,\"Pressure excavation chamber \",\"Pr_Ex_Ch_\"),col_ls))\n",
    "col_ls = list(map(lambda x: str.replace(x,\"Fill level working chamber\",\"Fill_Lev_WCh\"),col_ls))\n",
    "dfg.columns = col_ls"
   ]
  },
  {
   "cell_type": "code",
   "execution_count": null,
   "metadata": {},
   "outputs": [],
   "source": [
    "corrgraph(dfg, 'corr_2')"
   ]
  },
  {
   "cell_type": "code",
   "execution_count": null,
   "metadata": {},
   "outputs": [],
   "source": [
    "f, ax = plt.subplots(figsize=(10,8))\n",
    "corr = dfg.corr()\n",
    "sns.heatmap(corr,\n",
    "           xticklabels=corr.columns.values,\n",
    "           yticklabels=corr.columns.values)"
   ]
  },
  {
   "cell_type": "code",
   "execution_count": null,
   "metadata": {},
   "outputs": [],
   "source": []
  },
  {
   "cell_type": "code",
   "execution_count": null,
   "metadata": {},
   "outputs": [],
   "source": []
  },
  {
   "cell_type": "code",
   "execution_count": null,
   "metadata": {},
   "outputs": [],
   "source": []
  },
  {
   "cell_type": "code",
   "execution_count": null,
   "metadata": {},
   "outputs": [],
   "source": []
  },
  {
   "cell_type": "code",
   "execution_count": null,
   "metadata": {},
   "outputs": [],
   "source": [
    "#  Seleziono colonne utili\n",
    "\n",
    "dfg=dfxls.filter(regex='(Pressure excavation chamber 5|Pressure excavation chamber 8|Fill level|grout injection pressure|\\\n",
    "grout injection amount|grout injection flow|Air Flow in Normal)')\n",
    "\n",
    "# Semplifico il nome delle colonne\n",
    "col_ls = dfg.columns.tolist()\n",
    "col_ls = list(map(lambda x: str.replace(x,\"Pressure excavation chamber \",\"Pr_Ex_Ch_\"),col_ls))\n",
    "col_ls = list(map(lambda x: str.replace(x,\"Fill level working chamber\",\"Fill_Lev_WCh\"),col_ls))\n",
    "col_ls = list(map(lambda x: str.replace(x,\"Air Flow in Normal m3/min\",\"Air_Flow_in\"),col_ls))\n",
    "col_ls = list(map(lambda x: str.replace(x,\" grout injection \",\"_Gr_in_\"),col_ls))\n",
    "col_ls = list(map(lambda x: str.replace(x,\"pressure\",\"Pr\"),col_ls))\n",
    "col_ls = list(map(lambda x: str.replace(x,\"Line \",\"L_\"),col_ls))\n",
    "dfg.columns = col_ls\n",
    "\n",
    "# Verifico i risultati dell'operazione\n",
    "col_ls"
   ]
  },
  {
   "cell_type": "code",
   "execution_count": null,
   "metadata": {},
   "outputs": [],
   "source": [
    "corrgraph(dfg, 'corr_2')"
   ]
  },
  {
   "cell_type": "code",
   "execution_count": null,
   "metadata": {},
   "outputs": [],
   "source": [
    "#  Seleziono colonne utili\n",
    "\n",
    "dfg=dfxls.filter(regex='(Pressure excavation chamber 5|Pressure excavation chamber 8|Fill level|grout injection pressure|\\\n",
    "Line 1 grout injection amount|Line 1 grout injection flow)')\n",
    "\n",
    "# Semplifico il nome delle colonne\n",
    "col_ls = dfg.columns.tolist()\n",
    "col_ls = list(map(lambda x: str.replace(x,\"Pressure excavation chamber \",\"Pr_Ex_Ch_\"),col_ls))\n",
    "col_ls = list(map(lambda x: str.replace(x,\"Fill level working chamber\",\"Fill_Lev_WCh\"),col_ls))\n",
    "col_ls = list(map(lambda x: str.replace(x,\"Air Flow in Normal m3/min\",\"Air_Flow_in\"),col_ls))\n",
    "col_ls = list(map(lambda x: str.replace(x,\"Line 1 grout injection \",\"L1_Gr_in_\"),col_ls))\n",
    "col_ls = list(map(lambda x: str.replace(x,\"pressure\",\"Pr\"),col_ls))\n",
    "col_ls = list(map(lambda x: str.replace(x,\"Line \",\"L_\"),col_ls))\n",
    "dfg.columns = col_ls\n",
    "\n",
    "# Verifico i risultati dell'operazione\n",
    "col_ls"
   ]
  },
  {
   "cell_type": "code",
   "execution_count": null,
   "metadata": {},
   "outputs": [],
   "source": [
    "corrgraph(dfg, 'corr_2')"
   ]
  },
  {
   "cell_type": "code",
   "execution_count": null,
   "metadata": {},
   "outputs": [],
   "source": []
  },
  {
   "cell_type": "code",
   "execution_count": null,
   "metadata": {},
   "outputs": [],
   "source": [
    "import scipy.stats as st\n",
    "import statsmodels as sm\n",
    "import matplotlib as mpl\n",
    "import matplotlib.pyplot as plt\n",
    "\n",
    "matplotlib.rcParams['figure.figsize'] = (16.0, 12.0)\n",
    "#matplotlib.style.use('ggplot')\n",
    "\n",
    "# Create models from data\n",
    "def best_fit_distribution(data, bins=10, ax=None):\n",
    "    \"\"\"Model data by finding best fit distribution to data\"\"\"\n",
    "    # Get histogram of original data\n",
    "    y, x = np.histogram(data, bins=bins, density=True)\n",
    "    x = (x + np.roll(x, -1))[:-1] / 2.0\n",
    "\n",
    "    # Distributions to check\n",
    "    DISTRIBUTIONS = [        \n",
    "        st.alpha,st.anglit,st.arcsine,st.beta,st.betaprime,st.bradford,st.burr,st.cauchy,st.chi,st.chi2,st.cosine,\n",
    "        st.dgamma,st.dweibull,st.erlang,st.expon,st.exponnorm,st.exponweib,st.exponpow,st.f,st.fatiguelife,st.fisk,\n",
    "        st.foldcauchy,st.foldnorm,st.frechet_r,st.frechet_l,st.genlogistic,st.genpareto,st.gennorm,st.genexpon,\n",
    "        st.genextreme,st.gausshyper,st.gamma,st.gengamma,st.genhalflogistic,st.gilbrat,st.gompertz,st.gumbel_r,\n",
    "        st.gumbel_l,st.halfcauchy,st.halflogistic,st.halfnorm,st.halfgennorm,st.hypsecant,st.invgamma,st.invgauss,\n",
    "        st.invweibull,st.johnsonsb,st.johnsonsu,st.ksone,st.kstwobign,st.laplace,st.levy,st.levy_l,st.levy_stable,\n",
    "        st.logistic,st.loggamma,st.loglaplace,st.lognorm,st.lomax,st.maxwell,st.mielke,st.nakagami,st.ncx2,st.ncf,\n",
    "        st.nct,st.norm,st.pareto,st.pearson3,st.powerlaw,st.powerlognorm,st.powernorm,st.rdist,st.reciprocal,\n",
    "        st.rayleigh,st.rice,st.recipinvgauss,st.semicircular,st.t,st.triang,st.truncexpon,st.truncnorm,st.tukeylambda,\n",
    "        st.uniform,st.vonmises,st.vonmises_line,st.wald,st.weibull_min,st.weibull_max,st.wrapcauchy]\n",
    "\n",
    "\n",
    "    # Best holders\n",
    "    best_distribution = st.norm\n",
    "    best_params = (0.0, 1.0)\n",
    "    best_sse = np.inf\n",
    "\n",
    "    # Estimate distribution parameters from data\n",
    "    for distribution in DISTRIBUTIONS:\n",
    "\n",
    "        # Try to fit the distribution\n",
    "        try:\n",
    "            # Ignore warnings from data that can't be fit\n",
    "            with warnings.catch_warnings():\n",
    "                warnings.filterwarnings('ignore')\n",
    "\n",
    "                # fit dist to data\n",
    "                params = distribution.fit(data)\n",
    "\n",
    "                # Separate parts of parameters\n",
    "                arg = params[:-2]\n",
    "                loc = params[-2]\n",
    "                scale = params[-1]\n",
    "\n",
    "                # Calculate fitted PDF and error with fit in distribution\n",
    "                pdf = distribution.pdf(x, loc=loc, scale=scale, *arg)\n",
    "                sse = np.sum(np.power(y - pdf, 2.0))\n",
    "\n",
    "                # if axis pass in add to plot\n",
    "                try:\n",
    "                    if ax:\n",
    "                        pd.Series(pdf, x).plot(ax=ax)\n",
    "                    end\n",
    "                except Exception:\n",
    "                    pass\n",
    "\n",
    "                # identify if this distribution is better\n",
    "                if best_sse > sse > 0:\n",
    "                    best_distribution = distribution\n",
    "                    best_params = params\n",
    "                    best_sse = sse\n",
    "\n",
    "        except Exception:\n",
    "            pass\n",
    "\n",
    "    return (best_distribution.name, best_params)\n",
    "\n",
    "def make_pdf(dist, params, size=10000):\n",
    "    \"\"\"Generate distributions's Probability Distribution Function \"\"\"\n",
    "\n",
    "    # Separate parts of parameters\n",
    "    arg = params[:-2]\n",
    "    loc = params[-2]\n",
    "    scale = params[-1]\n",
    "\n",
    "    # Get sane start and end points of distribution\n",
    "    start = dist.ppf(0.01, *arg, loc=loc, scale=scale) if arg else dist.ppf(0.01, loc=loc, scale=scale)\n",
    "    end = dist.ppf(0.99, *arg, loc=loc, scale=scale) if arg else dist.ppf(0.99, loc=loc, scale=scale)\n",
    "\n",
    "    # Build PDF and turn into pandas Series\n",
    "    x = np.linspace(start, end, size)\n",
    "    y = dist.pdf(x, loc=loc, scale=scale, *arg)\n",
    "    pdf = pd.Series(y, x)\n",
    "\n",
    "    return pdf"
   ]
  },
  {
   "cell_type": "code",
   "execution_count": null,
   "metadata": {},
   "outputs": [],
   "source": []
  },
  {
   "cell_type": "code",
   "execution_count": null,
   "metadata": {},
   "outputs": [],
   "source": [
    "###     CREATE LAST DF "
   ]
  },
  {
   "cell_type": "code",
   "execution_count": null,
   "metadata": {},
   "outputs": [],
   "source": [
    "#  Seleziono colonne utili\n",
    "\n",
    "dfg=dfxls.filter(regex='(Pressure excavation chamber 5|Pressure excavation chamber 8|Fill level|grout injection pressure|\\\n",
    "Line 1 grout injection amount|Line 1 grout injection flow)')\n",
    "\n",
    "# Semplifico il nome delle colonne\n",
    "col_ls = dfg.columns.tolist()\n",
    "col_ls = list(map(lambda x: str.replace(x,\"Pressure excavation chamber \",\"Pr_Ex_Ch_\"),col_ls))\n",
    "col_ls = list(map(lambda x: str.replace(x,\"Fill level working chamber\",\"Fill_Lev_WCh\"),col_ls))\n",
    "col_ls = list(map(lambda x: str.replace(x,\"Air Flow in Normal m3/min\",\"Air_Flow_in\"),col_ls))\n",
    "col_ls = list(map(lambda x: str.replace(x,\"Line 1 grout injection \",\"L1_Gr_in_\"),col_ls))\n",
    "col_ls = list(map(lambda x: str.replace(x,\"pressure\",\"Pr\"),col_ls))\n",
    "col_ls = list(map(lambda x: str.replace(x,\"Line \",\"L_\"),col_ls))\n",
    "dfg.columns = col_ls\n",
    "\n",
    "# Verifico i risultati dell'operazione\n",
    "print (col_ls)\n"
   ]
  },
  {
   "cell_type": "code",
   "execution_count": null,
   "metadata": {},
   "outputs": [],
   "source": [
    "# Load data from statsmodels datasets plot best fit distribution\n",
    "\n",
    "#data = pd.Series(sm.datasets.elnino.load_pandas().data.set_index('YEAR').values.ravel())\n",
    "\n",
    "dfg_1 = dfg.copy() # .copy() avoid regressive modifications\n",
    "\n",
    "n_cols = dfg_1.shape[1]\n",
    "\n",
    "for e in np.arange(0,n_cols,1):\n",
    "\n",
    "    data = dfg_1.iloc[:,e].dropna().reset_index().copy()\n",
    "    data =pd.Series(data.values.ravel())\n",
    "\n",
    "\n",
    "    # Plot for comparison\n",
    "    plt.figure(figsize=(12,8))\n",
    "    ax = data.plot(kind='hist', bins=10, normed=True, alpha=0.5)\n",
    "    # Save plot limits\n",
    "    dataYLim = ax.get_ylim()\n",
    "\n",
    "    # Find best fit distribution\n",
    "    best_fit_name, best_fit_params = best_fit_distribution(data, 200, ax)\n",
    "    best_dist = getattr(st, best_fit_name)\n",
    "\n",
    "    # Update plots\n",
    "    ax.set_ylim(dataYLim)\n",
    "    ax.set_title(dfg_1.columns[e] + u'\\n All Fitted Distributions')\n",
    "    ax.set_xlabel('')\n",
    "    ax.set_ylabel('Frequency')\n",
    "\n",
    "    # Make PDF with best params \n",
    "    pdf = make_pdf(best_dist, best_fit_params)\n",
    "\n",
    "    # Display\n",
    "    plt.figure(figsize=(12,8))\n",
    "    ax = pdf.plot(lw=2, label='PDF', legend=True)\n",
    "    data.plot(kind='hist', bins=10, normed=True, alpha=0.5, label='Data', legend=True, ax=ax)\n",
    "\n",
    "    param_names = (best_dist.shapes + ', loc, scale').split(', ') if best_dist.shapes else ['loc', 'scale']\n",
    "    param_str = ', '.join(['{}={:0.2f}'.format(k,v) for k,v in zip(param_names, best_fit_params)])\n",
    "    dist_str = '{}({})'.format(best_fit_name, param_str)\n",
    "\n",
    "    ax.set_title(dfg_1.columns[e] + u'\\n' + dist_str)\n",
    "    ax.set_xlabel('')\n",
    "    ax.set_ylabel('Frequency')"
   ]
  },
  {
   "cell_type": "code",
   "execution_count": null,
   "metadata": {},
   "outputs": [],
   "source": [
    "# Plotto il grafico multiplo di correlazione\n",
    "\n",
    "corrgraph(dfg, 'corr_3')"
   ]
  },
  {
   "cell_type": "code",
   "execution_count": null,
   "metadata": {},
   "outputs": [],
   "source": [
    "#  Seleziono colonne utili\n",
    "\n",
    "dfg=dfxls.filter(regex='(Pressure excavation chamber 5|Pressure excavation chamber 8|Fill level|grout injection pressure|\\\n",
    "Line 1 grout injection amount|Line 1 grout injection flow)')\n",
    "\n",
    "# Semplifico il nome delle colonne\n",
    "col_ls = dfg.columns.tolist()\n",
    "col_ls = list(map(lambda x: str.replace(x,\"Pressure excavation chamber \",\"Pr_Ex_Ch_\"),col_ls))\n",
    "col_ls = list(map(lambda x: str.replace(x,\"Fill level working chamber\",\"Fill_Lev_WCh\"),col_ls))\n",
    "col_ls = list(map(lambda x: str.replace(x,\"Air Flow in Normal m3/min\",\"Air_Flow_in\"),col_ls))\n",
    "col_ls = list(map(lambda x: str.replace(x,\"Line 1 grout injection \",\"L1_Gr_in_\"),col_ls))\n",
    "col_ls = list(map(lambda x: str.replace(x,\"pressure\",\"Pr\"),col_ls))\n",
    "col_ls = list(map(lambda x: str.replace(x,\"Line \",\"L_\"),col_ls))\n",
    "dfg.columns = col_ls\n",
    "\n",
    "# Verifico i risultati dell'operazione\n",
    "print (col_ls)"
   ]
  },
  {
   "cell_type": "markdown",
   "metadata": {},
   "source": [
    "###      SALVA IL DATABASE"
   ]
  },
  {
   "cell_type": "code",
   "execution_count": null,
   "metadata": {},
   "outputs": [],
   "source": [
    "import h5py\n",
    "dfxls.to_hdf('20200107.h5', key='losses')\n",
    "dfxls.to_hdf('20200107.h5', key='losses')\n",
    "dfxls_hdf = pd.read_hdf('20200107.h5', key='losses')"
   ]
  },
  {
   "cell_type": "markdown",
   "metadata": {},
   "source": [
    "###          TROVA LE DISTRIBUZIONI DELLA Working Chamber 5"
   ]
  },
  {
   "cell_type": "code",
   "execution_count": null,
   "metadata": {},
   "outputs": [],
   "source": [
    "from sklearn import mixture"
   ]
  },
  {
   "cell_type": "code",
   "execution_count": null,
   "metadata": {},
   "outputs": [],
   "source": [
    "dfg=dfxls.filter(regex='(Pressure excavation chamber 5)')\n",
    "X=np.array(dfg.iloc[:,0]).reshape(-1, 1)"
   ]
  },
  {
   "cell_type": "code",
   "execution_count": null,
   "metadata": {},
   "outputs": [],
   "source": []
  },
  {
   "cell_type": "code",
   "execution_count": null,
   "metadata": {},
   "outputs": [],
   "source": []
  },
  {
   "cell_type": "code",
   "execution_count": null,
   "metadata": {},
   "outputs": [],
   "source": [
    "n_comp = 3\n",
    "g = mixture.GaussianMixture(n_components=n_comp,covariance_type='full')\n",
    "g.fit(X)\n",
    "weights = g.weights_\n",
    "means = g.means_\n",
    "covars = g.covariances_\n",
    "#  Plotta le distribuzioni\n",
    "fig = plt.figure(figsize=(20,10))\n",
    "plt.hist(X, bins=100, histtype='bar', density=True, ec='red', alpha=0.5)\n",
    "\n",
    "f_axis = X.copy().ravel()\n",
    "f_axis.sort()\n",
    "\n",
    "for i in np.arange(0,n_comp,1):\n",
    "    plt.plot(f_axis,weights[i]*stats.norm.pdf(f_axis,means[i],np.sqrt(covars[i])).ravel(), c='red')\n",
    "\n",
    "plt.rcParams['agg.path.chunksize'] = 10000\n",
    "\n",
    "plt.grid()\n",
    "plt.show()"
   ]
  },
  {
   "cell_type": "code",
   "execution_count": null,
   "metadata": {},
   "outputs": [],
   "source": []
  },
  {
   "cell_type": "code",
   "execution_count": null,
   "metadata": {},
   "outputs": [],
   "source": [
    "labels = g.predict(X)\n",
    "Y=np.array(dfg.index)\n",
    "fig = plt.figure(figsize=(20,10))\n",
    "plt.scatter(Y,X[:, 0], c=labels, s=10, cmap='viridis')\n",
    "plt.legend(loc='upper left', frameon=False)"
   ]
  },
  {
   "cell_type": "code",
   "execution_count": null,
   "metadata": {},
   "outputs": [],
   "source": [
    "#  Seleziono colonne utili\n",
    "\n",
    "dfg=dfxls.filter(regex='(Pressure excavation chamber 5|Pressure excavation chamber 8|Fill level|grout injection pressure|\\\n",
    "Line 1 grout injection amount|Line 1 grout injection flow)')\n",
    "\n",
    "# Semplifico il nome delle colonne\n",
    "col_ls = dfg.columns.tolist()\n",
    "col_ls = list(map(lambda x: str.replace(x,\"Pressure excavation chamber \",\"Pr_Ex_Ch_\"),col_ls))\n",
    "col_ls = list(map(lambda x: str.replace(x,\"Fill level working chamber\",\"Fill_Lev_WCh\"),col_ls))\n",
    "col_ls = list(map(lambda x: str.replace(x,\"Air Flow in Normal m3/min\",\"Air_Flow_in\"),col_ls))\n",
    "col_ls = list(map(lambda x: str.replace(x,\"Line 1 grout injection \",\"L1_Gr_in_\"),col_ls))\n",
    "col_ls = list(map(lambda x: str.replace(x,\"pressure\",\"Pr\"),col_ls))\n",
    "col_ls = list(map(lambda x: str.replace(x,\"Line \",\"L_\"),col_ls))\n",
    "dfg.columns = col_ls\n",
    "\n",
    "# Verifico i risultati dell'operazione\n",
    "print (col_ls)\n",
    "\n",
    "dfg['classi']=labels\n",
    "dfg=dfg[dfg.classi==1]"
   ]
  },
  {
   "cell_type": "code",
   "execution_count": null,
   "metadata": {},
   "outputs": [],
   "source": [
    "# Plotto il grafico multiplo di correlazione\n",
    "\n",
    "corrgraph(dfg, 'corr_class')"
   ]
  },
  {
   "cell_type": "code",
   "execution_count": null,
   "metadata": {},
   "outputs": [],
   "source": []
  },
  {
   "cell_type": "code",
   "execution_count": null,
   "metadata": {},
   "outputs": [],
   "source": [
    "dfg=dfxls.filter(regex='(Pressure excavation chamber|Fill level)')\n",
    "\n",
    "col_ls = dfg.columns.tolist()\n",
    "col_ls = list(map(lambda x: str.replace(x,\"Pressure excavation chamber \",\"Pr_Ex_Ch_\"),col_ls))\n",
    "col_ls = list(map(lambda x: str.replace(x,\"Fill level working chamber\",\"Fill_Lev_WCh\"),col_ls))\n",
    "dfg.columns = col_ls\n",
    "dfg['classi']=labels\n",
    "dfg=dfg[dfg.classi==1]"
   ]
  },
  {
   "cell_type": "code",
   "execution_count": null,
   "metadata": {},
   "outputs": [],
   "source": [
    "# Plotto il grafico multiplo di correlazione\n",
    "\n",
    "corrgraph(dfg, 'corr_class')"
   ]
  },
  {
   "cell_type": "code",
   "execution_count": null,
   "metadata": {},
   "outputs": [],
   "source": []
  },
  {
   "cell_type": "code",
   "execution_count": null,
   "metadata": {},
   "outputs": [],
   "source": []
  },
  {
   "cell_type": "markdown",
   "metadata": {},
   "source": [
    "### TROVA LE DISTRIBUZIONI DELLA Working Chamber 4"
   ]
  },
  {
   "cell_type": "code",
   "execution_count": null,
   "metadata": {},
   "outputs": [],
   "source": []
  },
  {
   "cell_type": "code",
   "execution_count": null,
   "metadata": {},
   "outputs": [],
   "source": [
    "dfg=dfxls.filter(regex='(Pressure excavation chamber 4)')\n",
    "X=np.array(dfg.iloc[:,0]).reshape(-1, 1)"
   ]
  },
  {
   "cell_type": "code",
   "execution_count": null,
   "metadata": {},
   "outputs": [],
   "source": [
    "n_comp = 3\n",
    "g = mixture.GaussianMixture(n_components=n_comp,covariance_type='full')\n",
    "g.fit(X)\n",
    "weights = g.weights_\n",
    "means = g.means_\n",
    "covars = g.covariances_\n",
    "#  Plotta le distribuzioni\n",
    "fig = plt.figure(figsize=(20,10))\n",
    "plt.hist(X, bins=100, histtype='bar', density=True, ec='red', alpha=0.5)\n",
    "\n",
    "f_axis = X.copy().ravel()\n",
    "f_axis.sort()\n",
    "\n",
    "for i in np.arange(0,n_comp,1):\n",
    "    plt.plot(f_axis,weights[i]*stats.norm.pdf(f_axis,means[i],np.sqrt(covars[i])).ravel(), c='red')\n",
    "\n",
    "plt.rcParams['agg.path.chunksize'] = 10000\n",
    "\n",
    "plt.grid()\n",
    "plt.show()"
   ]
  },
  {
   "cell_type": "code",
   "execution_count": null,
   "metadata": {},
   "outputs": [],
   "source": [
    "means, covars"
   ]
  },
  {
   "cell_type": "code",
   "execution_count": null,
   "metadata": {},
   "outputs": [],
   "source": [
    "labels = g.predict(X)\n",
    "Y=np.array(dfg.index)\n",
    "fig = plt.figure(figsize=(20,10))\n",
    "plt.scatter(Y,X[:, 0], c=labels, s=10, cmap='viridis')\n",
    "plt.legend(loc='upper left', frameon=False)"
   ]
  },
  {
   "cell_type": "code",
   "execution_count": null,
   "metadata": {},
   "outputs": [],
   "source": [
    "dfg=dfxls.filter(regex='(Pressure excavation chamber|Fill level)')\n",
    "\n",
    "col_ls = dfg.columns.tolist()\n",
    "col_ls = list(map(lambda x: str.replace(x,\"Pressure excavation chamber \",\"Pr_Ex_Ch_\"),col_ls))\n",
    "col_ls = list(map(lambda x: str.replace(x,\"Fill level working chamber\",\"Fill_Lev_WCh\"),col_ls))\n",
    "dfg.columns = col_ls\n",
    "dfg['classi']=labels\n",
    "dfg=dfg[dfg.classi==0]"
   ]
  },
  {
   "cell_type": "markdown",
   "metadata": {},
   "source": [
    "## Filtro: \n",
    "- Advance speed [mm/min] = 0\n",
    "- Torque cutting wheel [MNm] = 0"
   ]
  },
  {
   "cell_type": "code",
   "execution_count": null,
   "metadata": {},
   "outputs": [],
   "source": [
    "dfxls.describe()['Advance speed [mm/min]']"
   ]
  },
  {
   "cell_type": "code",
   "execution_count": null,
   "metadata": {},
   "outputs": [],
   "source": [
    "dfxls.describe()['Torque cutting wheel [MNm]']"
   ]
  },
  {
   "cell_type": "code",
   "execution_count": null,
   "metadata": {},
   "outputs": [],
   "source": [
    "\n",
    "dfg=dfxls[(dfxls['Torque cutting wheel [MNm]']==0) & (dfxls['Advance speed [mm/min]']==0)].filter(regex='(Pressure excavation chamber|Fill level)')\n",
    "col_ls = dfg.columns.tolist()\n",
    "col_ls = list(map(lambda x: str.replace(x,\"Pressure excavation chamber \",\"Pr_Ex_Ch_\"),col_ls))\n",
    "col_ls = list(map(lambda x: str.replace(x,\"Fill level working chamber\",\"Fill_Lev_WCh\"),col_ls))\n",
    "dfg.columns = col_ls"
   ]
  },
  {
   "cell_type": "code",
   "execution_count": null,
   "metadata": {},
   "outputs": [],
   "source": [
    "# Plotto il grafico multiplo di correlazione\n",
    "\n",
    "corrgraph(dfg.loc[:, dfg.columns != 'classi'], 'corr_class')"
   ]
  },
  {
   "cell_type": "markdown",
   "metadata": {},
   "source": [
    "## Filtro:\n",
    "- Advance speed [mm/min] = 0\n",
    "- Torque cutting wheel [MNm] # 0"
   ]
  },
  {
   "cell_type": "code",
   "execution_count": null,
   "metadata": {},
   "outputs": [],
   "source": [
    "dfg=dfxls[(dfxls['Torque cutting wheel [MNm]']!=0) & (dfxls['Advance speed [mm/min]']==0)].filter(regex='(Pressure excavation chamber|Fill level)')\n",
    "col_ls = dfg.columns.tolist()\n",
    "col_ls = list(map(lambda x: str.replace(x,\"Pressure excavation chamber \",\"Pr_Ex_Ch_\"),col_ls))\n",
    "col_ls = list(map(lambda x: str.replace(x,\"Fill level working chamber\",\"Fill_Lev_WCh\"),col_ls))\n",
    "dfg.columns = col_ls"
   ]
  },
  {
   "cell_type": "code",
   "execution_count": null,
   "metadata": {},
   "outputs": [],
   "source": []
  },
  {
   "cell_type": "code",
   "execution_count": null,
   "metadata": {},
   "outputs": [],
   "source": [
    "# Plotto il grafico multiplo di correlazione\n",
    "\n",
    "corrgraph(dfg.loc[:, dfg.columns != 'classi'], 'corr_class')"
   ]
  },
  {
   "cell_type": "markdown",
   "metadata": {},
   "source": [
    "## Filtro:\n",
    "- Advance speed [mm/min] # 0\n",
    "- Torque cutting wheel [MNm] # 0"
   ]
  },
  {
   "cell_type": "code",
   "execution_count": null,
   "metadata": {},
   "outputs": [],
   "source": []
  },
  {
   "cell_type": "code",
   "execution_count": null,
   "metadata": {},
   "outputs": [],
   "source": []
  },
  {
   "cell_type": "code",
   "execution_count": null,
   "metadata": {},
   "outputs": [],
   "source": [
    "dfg=dfxls[(dfxls['Torque cutting wheel [MNm]']!=0) & (dfxls['Advance speed [mm/min]']!=0)].filter(regex='(Pressure excavation chamber|Fill level)')\n",
    "col_ls = dfg.columns.tolist()\n",
    "col_ls = list(map(lambda x: str.replace(x,\"Pressure excavation chamber \",\"Pr_Ex_Ch_\"),col_ls))\n",
    "col_ls = list(map(lambda x: str.replace(x,\"Fill level working chamber\",\"Fill_Lev_WCh\"),col_ls))\n",
    "dfg.columns = col_ls"
   ]
  },
  {
   "cell_type": "code",
   "execution_count": null,
   "metadata": {},
   "outputs": [],
   "source": [
    "# Plotto il grafico multiplo di correlazione\n",
    "\n",
    "corrgraph(dfg.loc[:, dfg.columns != 'classi'], 'corr_class')"
   ]
  },
  {
   "cell_type": "code",
   "execution_count": null,
   "metadata": {},
   "outputs": [],
   "source": []
  },
  {
   "cell_type": "markdown",
   "metadata": {},
   "source": [
    "## Plot only inside 95 and  5% confidence intervals"
   ]
  },
  {
   "cell_type": "code",
   "execution_count": null,
   "metadata": {},
   "outputs": [],
   "source": [
    "dfg=dfxls[(dfxls['Torque cutting wheel [MNm]']!=0) & (dfxls['Advance speed [mm/min]']!=0)]\n",
    "dfg.describe()['Torque cutting wheel [MNm]']"
   ]
  },
  {
   "cell_type": "code",
   "execution_count": null,
   "metadata": {},
   "outputs": [],
   "source": [
    "dfg=dfxls[(dfxls['Torque cutting wheel [MNm]']!=0) & (dfxls['Advance speed [mm/min]']!=0)]\n",
    "dfg.describe()['Advance speed [mm/min]']"
   ]
  },
  {
   "cell_type": "markdown",
   "metadata": {},
   "source": [
    "### Calcolo gli intervallli di confidenza"
   ]
  },
  {
   "cell_type": "code",
   "execution_count": null,
   "metadata": {},
   "outputs": [],
   "source": [
    "from scipy import stats\n",
    "import scipy.stats\n",
    "\n",
    "dfg=dfxls[(dfxls['Torque cutting wheel [MNm]']!=0) & (dfxls['Advance speed [mm/min]']!=0)]\n",
    "\n",
    "mean = dfg.mean()\n",
    "std = dfg.std()\n",
    "\n",
    "n= dfg.shape[0]\n",
    "f_inf = std / np.sqrt(n) * stats.t.ppf(1-0.25/2, n - 1)\n",
    "f_sup = std / np.sqrt(n) * stats.t.ppf(1-0.25/2, n - 1)\n",
    "\n",
    "def mean_confidence_interval(data, confidence=0.95):\n",
    "    a = 1.0 * np.array(data)\n",
    "    n = len(a)\n",
    "    m, se = np.mean(a), scipy.stats.sem(a)\n",
    "    h = se * scipy.stats.t.ppf((1 + confidence) / 2., n-1)\n",
    "    return m, m-h, m+h\n",
    "\n",
    "f_inf_torq=mean_confidence_interval(dfg['Torque cutting wheel [MNm]'],0.9)[1]\n",
    "f_sup_torq=mean_confidence_interval(dfg['Torque cutting wheel [MNm]'],0.9)[2]\n",
    "f_inf_adv=mean_confidence_interval(dfg['Advance speed [mm/min]'],0.9)[1]\n",
    "f_sup_adv=mean_confidence_interval(dfg['Advance speed [mm/min]'],0.9)[2]\n",
    "\n",
    "f_min_torq = dfg['Torque cutting wheel [MNm]'].min()\n",
    "f_min_adv = dfg['Advance speed [mm/min]'].min()\n",
    "\n",
    "f_min_torq25 = dfg.describe()['Torque cutting wheel [MNm]'][4]\n",
    "f_min_adv25 = dfg.describe()['Advance speed [mm/min]'][4]\n",
    "\n",
    "dfg.describe()['Advance speed [mm/min]']\n",
    "print('dfg shape {}'.format(dfg.shape))\n",
    "print('Torque cutting wheel [MNm]: {}'.format(f_inf_torq))\n",
    "print('Torque cutting wheel [MNm]: {}'.format(f_sup_torq))\n",
    "print('Advance speed [mm/min]: {}'.format(f_inf_adv))\n",
    "print('Advance speed [mm/min]: {}'.format(f_sup_adv))\n",
    "\n",
    "print('Torque cutting wheel [MNm] min: {}'.format(f_min_torq))\n",
    "print('Advance speed [mm/min] min: {}'.format(f_min_adv))\n",
    "\n",
    "print('Torque cutting wheel [MNm] min25: {}'.format(f_min_torq25))\n",
    "print('Advance speed [mm/min] min25: {}'.format(f_min_adv25))\n",
    "\n",
    "\n"
   ]
  },
  {
   "cell_type": "code",
   "execution_count": null,
   "metadata": {},
   "outputs": [],
   "source": []
  },
  {
   "cell_type": "code",
   "execution_count": null,
   "metadata": {},
   "outputs": [],
   "source": [
    "dfg=dfxls[(dfxls['Torque cutting wheel [MNm]']>f_min_torq25) &\n",
    "          (dfxls['Advance speed [mm/min]']>f_min_adv25)].filter(regex='(Pressure excavation chamber|Fill level)')\n",
    "col_ls = dfg.columns.tolist()\n",
    "col_ls = list(map(lambda x: str.replace(x,\"Pressure excavation chamber \",\"Pr_Ex_Ch_\"),col_ls))\n",
    "col_ls = list(map(lambda x: str.replace(x,\"Fill level working chamber\",\"Fill_Lev_WCh\"),col_ls))\n",
    "dfg.columns = col_ls\n",
    "\n",
    "print('dfg shape {}'.format(dfg.shape))\n",
    "\n",
    "\n",
    "\n"
   ]
  },
  {
   "cell_type": "code",
   "execution_count": null,
   "metadata": {},
   "outputs": [],
   "source": [
    "# Plotto il grafico multiplo di correlazione\n",
    "\n",
    "corrgraph(dfg.loc[:, dfg.columns != 'classi'], 'corr_class')"
   ]
  },
  {
   "cell_type": "code",
   "execution_count": null,
   "metadata": {},
   "outputs": [],
   "source": [
    "dfxls['classi']=labels"
   ]
  },
  {
   "cell_type": "code",
   "execution_count": null,
   "metadata": {},
   "outputs": [],
   "source": [
    "plt.style.use('dark_background')\n",
    "\n",
    "# dfg1 = dfxls[dfxls['S-1048_ADVANCE_ADVANCE_NO [-]']==4203]\n",
    "\n",
    "dfg1 = dfxls.copy()\n",
    "\n",
    "Y0 = dfg1.filter(regex='P0.1.*[m³/h]',axis=1)/dfg1.filter(regex='P0.1.*[m³/h]',axis=1).max()\n",
    "X0 = dfg1['datestamp']\n",
    "\n",
    "Y6 = dfg1.filter(regex='P0.2.*[m³/h]',axis=1)/dfg1.filter(regex='P0.2.*[m³/h]',axis=1).max()\n",
    "X6 = dfg1['datestamp']\n",
    "\n",
    "\n",
    "Y = dfg1[dfg1.classi==0].filter(regex='Fill.*level',axis=1)\n",
    "X = dfg1[dfg1.classi==0]['datestamp']\n",
    "\n",
    "Y1 = dfg1[dfg1.classi==1].filter(regex='Fill.*level',axis=1)\n",
    "X1 = dfg1[dfg1.classi==1]['datestamp']\n",
    "\n",
    "Y2 = dfg1[dfg1.classi==2].filter(regex='Fill.*level',axis=1)\n",
    "X2 = dfg1[dfg1.classi==2]['datestamp']\n",
    "\n",
    "Y3 = dfg1[dfg1.state=='fulloper'].filter(regex='Fill.*level',axis=1)\n",
    "X3 = dfg1[dfg1.state=='fulloper']['datestamp']\n",
    "\n",
    "Y4 = dfg1[dfg1.state=='stall_rotating'].filter(regex='Fill.*level',axis=1)\n",
    "X4 = dfg1[dfg1.state=='stall_rotating']['datestamp']\n",
    "\n",
    "Y5 = dfg1[dfg1.state=='stall_stand'].filter(regex='Fill.*level',axis=1)\n",
    "X5 = dfg1[dfg1.state=='stall_stand']['datestamp']\n",
    "\n",
    "## PLOT\n",
    "\n",
    "fig = plt.figure(figsize=(20,10))\n",
    "ax = fig.add_subplot(111)\n",
    "\n",
    "\n",
    "ax.plot(X0,Y0,c='grey',label='P.01')\n",
    "ax.plot(X6,Y6,c='lightblue',label='P0.2')\n",
    "\n",
    "# ax.scatter(X,Y, label='Gauss0',s=20)\n",
    "# ax.scatter(X1,Y1, label='Gauss1')\n",
    "# ax.scatter(X2,Y2, label='Gauss2')\n",
    "ax.scatter(X3,Y3,c='g',label='fulloper')\n",
    "ax.scatter(X4,Y4,c='y',label='stall_rotating')\n",
    "ax.scatter(X5,Y5,c='r',label='stall_stand')\n",
    "\n",
    "plt.xlim('2020-01-07 07:00:00','2020-01-08 07:00:00')\n",
    "plt.ylim(0,1.2)\n",
    "\n",
    "\n",
    "plt.legend(loc='upper left', frameon=False)"
   ]
  },
  {
   "cell_type": "code",
   "execution_count": null,
   "metadata": {},
   "outputs": [],
   "source": [
    "dfg1.datestamp.min()"
   ]
  },
  {
   "cell_type": "code",
   "execution_count": null,
   "metadata": {},
   "outputs": [],
   "source": [
    "X = dfxls[dfxls.classi==0].filter(regex='Press.*4',axis=1)\n",
    "Y = dfxls[dfxls.classi==0]['timestamp']"
   ]
  },
  {
   "cell_type": "code",
   "execution_count": null,
   "metadata": {},
   "outputs": [],
   "source": [
    "dfxls['S-1048_ADVANCE_ADVANCE_NO [-]'].describe()"
   ]
  },
  {
   "cell_type": "code",
   "execution_count": null,
   "metadata": {},
   "outputs": [],
   "source": [
    "plt.style.use('dark_background')\n",
    "\n",
    "dfg1 = dfxls[dfxls['S-1048_ADVANCE_ADVANCE_NO [-]']==4202]\n",
    "\n",
    "Y = dfg1[dfg1.classi==0].filter(regex='Fill.*level',axis=1)\n",
    "X = dfg1[dfg1.classi==0]['Advance speed [mm/min]']\n",
    "\n",
    "Y1 = dfg1[dfg1.classi==1].filter(regex='Fill.*level',axis=1)\n",
    "X1 = dfg1[dfg1.classi==1]['Advance speed [mm/min]']\n",
    "\n",
    "Y2 = dfg1[dfg1.classi==2].filter(regex='Fill.*level',axis=1)\n",
    "X2 = dfg1[dfg1.classi==2]['Advance speed [mm/min]']\n",
    "\n",
    "Y3 = dfg1[dfg1.state=='fulloper'].filter(regex='Fill.*level',axis=1)\n",
    "X3 = dfg1[dfg1.state=='fulloper']['Advance speed [mm/min]']\n",
    "\n",
    "Y4 = dfg1[dfg1.state=='stall_rotating'].filter(regex='Fill.*level',axis=1)\n",
    "X4 = dfg1[dfg1.state=='stall_rotating']['Advance speed [mm/min]']\n",
    "\n",
    "Y5 = dfg1[dfg1.state=='stall_stand'].filter(regex='Fill.*level',axis=1)\n",
    "X5 = dfg1[dfg1.state=='stall_stand']['Advance speed [mm/min]']\n",
    "\n",
    "fig = plt.figure(figsize=(20,10))\n",
    "ax = fig.add_subplot(111)\n",
    "\n",
    "\n",
    "# ax.scatter(X,Y, label='Gauss0',s=20)\n",
    "# ax.scatter(X1,Y1, label='Gauss1')\n",
    "# ax.scatter(X2,Y2, label='Gauss2')\n",
    "ax.scatter(X3,Y3,c='g',label='fulloper')\n",
    "ax.scatter(X4,Y4,c='y',label='stall_rotating')\n",
    "ax.scatter(X5,Y5,c='r',label='stall_stand')\n",
    "\n",
    "\n",
    "\n",
    "plt.legend(loc='upper left', frameon=False)"
   ]
  },
  {
   "cell_type": "code",
   "execution_count": null,
   "metadata": {},
   "outputs": [],
   "source": [
    "dfxls.columns.tolist()"
   ]
  },
  {
   "cell_type": "code",
   "execution_count": null,
   "metadata": {},
   "outputs": [],
   "source": [
    "dfg1.filter(regex=\"date\")"
   ]
  },
  {
   "cell_type": "code",
   "execution_count": null,
   "metadata": {},
   "outputs": [],
   "source": []
  },
  {
   "cell_type": "code",
   "execution_count": null,
   "metadata": {},
   "outputs": [],
   "source": []
  },
  {
   "cell_type": "markdown",
   "metadata": {},
   "source": [
    "## DATA MANIPULATION\n"
   ]
  },
  {
   "cell_type": "code",
   "execution_count": 205,
   "metadata": {},
   "outputs": [],
   "source": [
    "dfxls = pd.read_hdf('ALL2.h5', key='losses')"
   ]
  },
  {
   "cell_type": "code",
   "execution_count": 216,
   "metadata": {},
   "outputs": [
    {
     "data": {
      "text/plain": [
       "['AETMass[t]',\n",
       " 'AETVolume[m³]',\n",
       " 'Advancespeed[mm/min]',\n",
       " 'AirFlowinNormalm3/min[m³/min]',\n",
       " 'Contactforceshieldarticulation[kN]',\n",
       " 'Date',\n",
       " 'Densityfeedline[t/m³]',\n",
       " 'Densityslurryline[t/m³]',\n",
       " 'Excavatedbentonite[m³]',\n",
       " 'FS0011_Pres_transducerscrewconvpump1high_pres_[bar]',\n",
       " 'FS0012_Pres_transducerscrewconvpump1feed_pres_[bar]',\n",
       " 'Filllevelworkingchamber[m]',\n",
       " 'Flowfeedline[m³/h]',\n",
       " 'Flowslurryline[m³/h]',\n",
       " 'Groutinjectionquantitycalculatedinm3[m³]',\n",
       " 'Groutinjectiontotalquantityinm3[m³]',\n",
       " 'Line1groutinjectionamount[l]',\n",
       " 'Line1groutinjectionflow[l/min]',\n",
       " 'Line1groutinjection_pres_[bar]',\n",
       " 'Line2groutinjectionamount[l]',\n",
       " 'Line2groutinjectionflow[l/min]',\n",
       " 'Line2groutinjection_pres_[bar]',\n",
       " 'Line3groutinjectionamount[l]',\n",
       " 'Line3groutinjectionflow[l/min]',\n",
       " 'Line3groutinjection_pres_[bar]',\n",
       " 'Line4groutinjectionamount[l]',\n",
       " 'Line4groutinjectionflow[l/min]',\n",
       " 'Line4groutinjection_pres_[bar]',\n",
       " 'P0.1Flow[m³/h]',\n",
       " 'P0.1delivery_pres_[bar]',\n",
       " 'P0.1feedpumpoperation[Bit]',\n",
       " 'P0.1suction_pres_[bar]',\n",
       " 'P0.2Flow[m³/h]',\n",
       " 'P0.2delivery_pres_[bar]',\n",
       " 'P0.2feedpumpoperation[Bit]',\n",
       " 'P0.2suction_pres_[bar]',\n",
       " 'P0.3Flow[m³/h]',\n",
       " 'P0.3delivery_pres_[bar]',\n",
       " 'P0.3feedpumpoperation[Bit]',\n",
       " 'P0.3suction_pres_[bar]',\n",
       " 'P0.4Flow[m³/h]',\n",
       " 'P0.4delivery_pres_[bar]',\n",
       " 'P0.4feedpumpoperation[Bit]',\n",
       " 'P0.4suction_pres_[bar]',\n",
       " 'P1.1delivery_pres_[bar]',\n",
       " 'P1.1feedpumpoperation[Bit]',\n",
       " 'P1.1suction_pres_[bar]',\n",
       " 'P1.2delivery_pres_[bar]',\n",
       " 'P1.2feedpumpoperation[Bit]',\n",
       " 'P1.2suction_pres_[bar]',\n",
       " 'P2.1delivery_pres_[bar]',\n",
       " 'P2.1feedpumpoperation[Bit]',\n",
       " 'P2.1suction_pres_[bar]',\n",
       " 'P2.2delivery_pres_[bar]',\n",
       " 'P2.2feedpumpoperation[Bit]',\n",
       " 'P2.2suction_pres_[bar]',\n",
       " 'P2.3delivery_pres_[bar]',\n",
       " 'P2.3feedpumpoperation[Bit]',\n",
       " 'P2.3suction_pres_[bar]',\n",
       " 'P2.4delivery_pres_[bar]',\n",
       " 'P2.4feedpumpoperation[Bit]',\n",
       " 'P2.4suction_pres_[bar]',\n",
       " 'P2.5delivery_pres_[bar]',\n",
       " 'P2.5feedpumpoperation[Bit]',\n",
       " 'P2.5suction_pres_[bar]',\n",
       " 'P2.6delivery_pres_[bar]',\n",
       " 'P2.6feedpumpoperation[Bit]',\n",
       " 'P2.6suction_pres_[bar]',\n",
       " 'P2.7delivery_pres_[bar]',\n",
       " 'P2.7feedpumpoperation[Bit]',\n",
       " 'P2.7suction_pres_[bar]',\n",
       " 'P3.8delivery_pres_[bar]',\n",
       " 'P3.8pumpoperation[Bit]',\n",
       " 'Penetration[mm/rot]',\n",
       " '_Pres_excavationchamber1[bar]',\n",
       " '_Pres_excavationchamber2[bar]',\n",
       " '_Pres_excavationchamber3[bar]',\n",
       " '_Pres_excavationchamber4[bar]',\n",
       " '_Pres_excavationchamber5[bar]',\n",
       " '_Pres_excavationchamber6[bar]',\n",
       " '_Pres_excavationchamber7[bar]',\n",
       " '_Pres_excavationchamber8[bar]',\n",
       " 'S-1048_ADVANCE_ADVANCE_NO[-]',\n",
       " 'ScrewConveyorFront_Pres_[bar]',\n",
       " 'ScrewConveyorRear_Pres_[bar]',\n",
       " 'Screwgate1rearclosed[Bit]',\n",
       " 'Screwgate1rearopen[Bit]',\n",
       " 'Screwgatefrontclosed[Bit]',\n",
       " 'Screwgatefrontopen[Bit]',\n",
       " 'SlurrycircuitP04density[t/m³]',\n",
       " 'SpecificenergyMJ/m3[MJ/m³]',\n",
       " 'Speedscrewconvfromgearsensor[rpm]',\n",
       " 'Torquecuttingwheel[MNm]',\n",
       " 'Torquescrewconvcalculated[-]',\n",
       " 'Totaladvanceforce[kN]',\n",
       " 'TotalamountofcomponentA[l]',\n",
       " 'TotalamountofcomponentB[l]',\n",
       " 'datestamp',\n",
       " 'timestamp']"
      ]
     },
     "execution_count": 216,
     "metadata": {},
     "output_type": "execute_result"
    }
   ],
   "source": [
    "dfxls.columns.tolist()"
   ]
  },
  {
   "cell_type": "markdown",
   "metadata": {},
   "source": [
    "## CLEAN DATA AND CREATE NEW COLUMN"
   ]
  },
  {
   "cell_type": "markdown",
   "metadata": {},
   "source": [
    "#### Drop double columns ending by .1"
   ]
  },
  {
   "cell_type": "code",
   "execution_count": 220,
   "metadata": {},
   "outputs": [],
   "source": [
    "x = dfxls['S-1048_ADVANCE_ADVANCE_NO[-]']"
   ]
  },
  {
   "cell_type": "code",
   "execution_count": 223,
   "metadata": {},
   "outputs": [],
   "source": [
    "y = dfxls['_Pres_excavationchamber8[bar]'].diff(periods=1).dropna()"
   ]
  },
  {
   "cell_type": "code",
   "execution_count": 230,
   "metadata": {},
   "outputs": [],
   "source": [
    "x = dfxls.loc[y.index,'S-1048_ADVANCE_ADVANCE_NO[-]']"
   ]
  },
  {
   "cell_type": "code",
   "execution_count": 233,
   "metadata": {},
   "outputs": [],
   "source": [
    "x = x.sort_values()"
   ]
  },
  {
   "cell_type": "code",
   "execution_count": 234,
   "metadata": {},
   "outputs": [],
   "source": [
    "y = dfxls.loc[x.index,'_Pres_excavationchamber8[bar]']"
   ]
  },
  {
   "cell_type": "code",
   "execution_count": 236,
   "metadata": {},
   "outputs": [
    {
     "ename": "KeyError",
     "evalue": "\"None of [Float64Index([0.265, 0.335, 0.343, 0.325, 0.359, 0.337,  0.34, 0.325, 0.355,\\n              0.355,\\n              ...\\n              1.978, 1.981, 1.985, 1.985, 1.985, 1.985, 1.988, 1.985, 1.985,\\n              1.901],\\n             dtype='float64', length=1411726)] are in the [columns]\"",
     "output_type": "error",
     "traceback": [
      "\u001b[1;31m---------------------------------------------------------------------------\u001b[0m",
      "\u001b[1;31mKeyError\u001b[0m                                  Traceback (most recent call last)",
      "\u001b[1;32m<ipython-input-236-cfaa32a682a0>\u001b[0m in \u001b[0;36m<module>\u001b[1;34m\u001b[0m\n\u001b[1;32m----> 1\u001b[1;33m \u001b[0my\u001b[0m \u001b[1;33m=\u001b[0m \u001b[0mdfxls\u001b[0m\u001b[1;33m.\u001b[0m\u001b[0mloc\u001b[0m\u001b[1;33m[\u001b[0m\u001b[0mx\u001b[0m\u001b[1;33m.\u001b[0m\u001b[0mindex\u001b[0m\u001b[1;33m,\u001b[0m\u001b[0my\u001b[0m\u001b[1;33m]\u001b[0m\u001b[1;33m\u001b[0m\u001b[1;33m\u001b[0m\u001b[0m\n\u001b[0m",
      "\u001b[1;32mC:\\ProgramData\\Anaconda3_1\\envs\\datimacchinaenv\\lib\\site-packages\\pandas\\core\\indexing.py\u001b[0m in \u001b[0;36m__getitem__\u001b[1;34m(self, key)\u001b[0m\n\u001b[0;32m   1758\u001b[0m                 \u001b[1;32mexcept\u001b[0m \u001b[1;33m(\u001b[0m\u001b[0mKeyError\u001b[0m\u001b[1;33m,\u001b[0m \u001b[0mIndexError\u001b[0m\u001b[1;33m,\u001b[0m \u001b[0mAttributeError\u001b[0m\u001b[1;33m)\u001b[0m\u001b[1;33m:\u001b[0m\u001b[1;33m\u001b[0m\u001b[1;33m\u001b[0m\u001b[0m\n\u001b[0;32m   1759\u001b[0m                     \u001b[1;32mpass\u001b[0m\u001b[1;33m\u001b[0m\u001b[1;33m\u001b[0m\u001b[0m\n\u001b[1;32m-> 1760\u001b[1;33m             \u001b[1;32mreturn\u001b[0m \u001b[0mself\u001b[0m\u001b[1;33m.\u001b[0m\u001b[0m_getitem_tuple\u001b[0m\u001b[1;33m(\u001b[0m\u001b[0mkey\u001b[0m\u001b[1;33m)\u001b[0m\u001b[1;33m\u001b[0m\u001b[1;33m\u001b[0m\u001b[0m\n\u001b[0m\u001b[0;32m   1761\u001b[0m         \u001b[1;32melse\u001b[0m\u001b[1;33m:\u001b[0m\u001b[1;33m\u001b[0m\u001b[1;33m\u001b[0m\u001b[0m\n\u001b[0;32m   1762\u001b[0m             \u001b[1;31m# we by definition only have the 0th axis\u001b[0m\u001b[1;33m\u001b[0m\u001b[1;33m\u001b[0m\u001b[1;33m\u001b[0m\u001b[0m\n",
      "\u001b[1;32mC:\\ProgramData\\Anaconda3_1\\envs\\datimacchinaenv\\lib\\site-packages\\pandas\\core\\indexing.py\u001b[0m in \u001b[0;36m_getitem_tuple\u001b[1;34m(self, tup)\u001b[0m\n\u001b[0;32m   1277\u001b[0m         \u001b[1;31m# ugly hack for GH #836\u001b[0m\u001b[1;33m\u001b[0m\u001b[1;33m\u001b[0m\u001b[1;33m\u001b[0m\u001b[0m\n\u001b[0;32m   1278\u001b[0m         \u001b[1;32mif\u001b[0m \u001b[0mself\u001b[0m\u001b[1;33m.\u001b[0m\u001b[0m_multi_take_opportunity\u001b[0m\u001b[1;33m(\u001b[0m\u001b[0mtup\u001b[0m\u001b[1;33m)\u001b[0m\u001b[1;33m:\u001b[0m\u001b[1;33m\u001b[0m\u001b[1;33m\u001b[0m\u001b[0m\n\u001b[1;32m-> 1279\u001b[1;33m             \u001b[1;32mreturn\u001b[0m \u001b[0mself\u001b[0m\u001b[1;33m.\u001b[0m\u001b[0m_multi_take\u001b[0m\u001b[1;33m(\u001b[0m\u001b[0mtup\u001b[0m\u001b[1;33m)\u001b[0m\u001b[1;33m\u001b[0m\u001b[1;33m\u001b[0m\u001b[0m\n\u001b[0m\u001b[0;32m   1280\u001b[0m \u001b[1;33m\u001b[0m\u001b[0m\n\u001b[0;32m   1281\u001b[0m         \u001b[1;31m# no shortcut needed\u001b[0m\u001b[1;33m\u001b[0m\u001b[1;33m\u001b[0m\u001b[1;33m\u001b[0m\u001b[0m\n",
      "\u001b[1;32mC:\\ProgramData\\Anaconda3_1\\envs\\datimacchinaenv\\lib\\site-packages\\pandas\\core\\indexing.py\u001b[0m in \u001b[0;36m_multi_take\u001b[1;34m(self, tup)\u001b[0m\n\u001b[0;32m   1336\u001b[0m         d = {\n\u001b[0;32m   1337\u001b[0m             \u001b[0maxis\u001b[0m\u001b[1;33m:\u001b[0m \u001b[0mself\u001b[0m\u001b[1;33m.\u001b[0m\u001b[0m_get_listlike_indexer\u001b[0m\u001b[1;33m(\u001b[0m\u001b[0mkey\u001b[0m\u001b[1;33m,\u001b[0m \u001b[0maxis\u001b[0m\u001b[1;33m)\u001b[0m\u001b[1;33m\u001b[0m\u001b[1;33m\u001b[0m\u001b[0m\n\u001b[1;32m-> 1338\u001b[1;33m             \u001b[1;32mfor\u001b[0m \u001b[1;33m(\u001b[0m\u001b[0mkey\u001b[0m\u001b[1;33m,\u001b[0m \u001b[0maxis\u001b[0m\u001b[1;33m)\u001b[0m \u001b[1;32min\u001b[0m \u001b[0mzip\u001b[0m\u001b[1;33m(\u001b[0m\u001b[0mtup\u001b[0m\u001b[1;33m,\u001b[0m \u001b[0mo\u001b[0m\u001b[1;33m.\u001b[0m\u001b[0m_AXIS_ORDERS\u001b[0m\u001b[1;33m)\u001b[0m\u001b[1;33m\u001b[0m\u001b[1;33m\u001b[0m\u001b[0m\n\u001b[0m\u001b[0;32m   1339\u001b[0m         }\n\u001b[0;32m   1340\u001b[0m         \u001b[1;32mreturn\u001b[0m \u001b[0mo\u001b[0m\u001b[1;33m.\u001b[0m\u001b[0m_reindex_with_indexers\u001b[0m\u001b[1;33m(\u001b[0m\u001b[0md\u001b[0m\u001b[1;33m,\u001b[0m \u001b[0mcopy\u001b[0m\u001b[1;33m=\u001b[0m\u001b[1;32mTrue\u001b[0m\u001b[1;33m,\u001b[0m \u001b[0mallow_dups\u001b[0m\u001b[1;33m=\u001b[0m\u001b[1;32mTrue\u001b[0m\u001b[1;33m)\u001b[0m\u001b[1;33m\u001b[0m\u001b[1;33m\u001b[0m\u001b[0m\n",
      "\u001b[1;32mC:\\ProgramData\\Anaconda3_1\\envs\\datimacchinaenv\\lib\\site-packages\\pandas\\core\\indexing.py\u001b[0m in \u001b[0;36m<dictcomp>\u001b[1;34m(.0)\u001b[0m\n\u001b[0;32m   1336\u001b[0m         d = {\n\u001b[0;32m   1337\u001b[0m             \u001b[0maxis\u001b[0m\u001b[1;33m:\u001b[0m \u001b[0mself\u001b[0m\u001b[1;33m.\u001b[0m\u001b[0m_get_listlike_indexer\u001b[0m\u001b[1;33m(\u001b[0m\u001b[0mkey\u001b[0m\u001b[1;33m,\u001b[0m \u001b[0maxis\u001b[0m\u001b[1;33m)\u001b[0m\u001b[1;33m\u001b[0m\u001b[1;33m\u001b[0m\u001b[0m\n\u001b[1;32m-> 1338\u001b[1;33m             \u001b[1;32mfor\u001b[0m \u001b[1;33m(\u001b[0m\u001b[0mkey\u001b[0m\u001b[1;33m,\u001b[0m \u001b[0maxis\u001b[0m\u001b[1;33m)\u001b[0m \u001b[1;32min\u001b[0m \u001b[0mzip\u001b[0m\u001b[1;33m(\u001b[0m\u001b[0mtup\u001b[0m\u001b[1;33m,\u001b[0m \u001b[0mo\u001b[0m\u001b[1;33m.\u001b[0m\u001b[0m_AXIS_ORDERS\u001b[0m\u001b[1;33m)\u001b[0m\u001b[1;33m\u001b[0m\u001b[1;33m\u001b[0m\u001b[0m\n\u001b[0m\u001b[0;32m   1339\u001b[0m         }\n\u001b[0;32m   1340\u001b[0m         \u001b[1;32mreturn\u001b[0m \u001b[0mo\u001b[0m\u001b[1;33m.\u001b[0m\u001b[0m_reindex_with_indexers\u001b[0m\u001b[1;33m(\u001b[0m\u001b[0md\u001b[0m\u001b[1;33m,\u001b[0m \u001b[0mcopy\u001b[0m\u001b[1;33m=\u001b[0m\u001b[1;32mTrue\u001b[0m\u001b[1;33m,\u001b[0m \u001b[0mallow_dups\u001b[0m\u001b[1;33m=\u001b[0m\u001b[1;32mTrue\u001b[0m\u001b[1;33m)\u001b[0m\u001b[1;33m\u001b[0m\u001b[1;33m\u001b[0m\u001b[0m\n",
      "\u001b[1;32mC:\\ProgramData\\Anaconda3_1\\envs\\datimacchinaenv\\lib\\site-packages\\pandas\\core\\indexing.py\u001b[0m in \u001b[0;36m_get_listlike_indexer\u001b[1;34m(self, key, axis, raise_missing)\u001b[0m\n\u001b[0;32m   1549\u001b[0m \u001b[1;33m\u001b[0m\u001b[0m\n\u001b[0;32m   1550\u001b[0m         self._validate_read_indexer(\n\u001b[1;32m-> 1551\u001b[1;33m             \u001b[0mkeyarr\u001b[0m\u001b[1;33m,\u001b[0m \u001b[0mindexer\u001b[0m\u001b[1;33m,\u001b[0m \u001b[0mo\u001b[0m\u001b[1;33m.\u001b[0m\u001b[0m_get_axis_number\u001b[0m\u001b[1;33m(\u001b[0m\u001b[0maxis\u001b[0m\u001b[1;33m)\u001b[0m\u001b[1;33m,\u001b[0m \u001b[0mraise_missing\u001b[0m\u001b[1;33m=\u001b[0m\u001b[0mraise_missing\u001b[0m\u001b[1;33m\u001b[0m\u001b[1;33m\u001b[0m\u001b[0m\n\u001b[0m\u001b[0;32m   1552\u001b[0m         )\n\u001b[0;32m   1553\u001b[0m         \u001b[1;32mreturn\u001b[0m \u001b[0mkeyarr\u001b[0m\u001b[1;33m,\u001b[0m \u001b[0mindexer\u001b[0m\u001b[1;33m\u001b[0m\u001b[1;33m\u001b[0m\u001b[0m\n",
      "\u001b[1;32mC:\\ProgramData\\Anaconda3_1\\envs\\datimacchinaenv\\lib\\site-packages\\pandas\\core\\indexing.py\u001b[0m in \u001b[0;36m_validate_read_indexer\u001b[1;34m(self, key, indexer, axis, raise_missing)\u001b[0m\n\u001b[0;32m   1636\u001b[0m             \u001b[1;32mif\u001b[0m \u001b[0mmissing\u001b[0m \u001b[1;33m==\u001b[0m \u001b[0mlen\u001b[0m\u001b[1;33m(\u001b[0m\u001b[0mindexer\u001b[0m\u001b[1;33m)\u001b[0m\u001b[1;33m:\u001b[0m\u001b[1;33m\u001b[0m\u001b[1;33m\u001b[0m\u001b[0m\n\u001b[0;32m   1637\u001b[0m                 \u001b[0maxis_name\u001b[0m \u001b[1;33m=\u001b[0m \u001b[0mself\u001b[0m\u001b[1;33m.\u001b[0m\u001b[0mobj\u001b[0m\u001b[1;33m.\u001b[0m\u001b[0m_get_axis_name\u001b[0m\u001b[1;33m(\u001b[0m\u001b[0maxis\u001b[0m\u001b[1;33m)\u001b[0m\u001b[1;33m\u001b[0m\u001b[1;33m\u001b[0m\u001b[0m\n\u001b[1;32m-> 1638\u001b[1;33m                 \u001b[1;32mraise\u001b[0m \u001b[0mKeyError\u001b[0m\u001b[1;33m(\u001b[0m\u001b[1;34mf\"None of [{key}] are in the [{axis_name}]\"\u001b[0m\u001b[1;33m)\u001b[0m\u001b[1;33m\u001b[0m\u001b[1;33m\u001b[0m\u001b[0m\n\u001b[0m\u001b[0;32m   1639\u001b[0m \u001b[1;33m\u001b[0m\u001b[0m\n\u001b[0;32m   1640\u001b[0m             \u001b[1;31m# We (temporarily) allow for some missing keys with .loc, except in\u001b[0m\u001b[1;33m\u001b[0m\u001b[1;33m\u001b[0m\u001b[1;33m\u001b[0m\u001b[0m\n",
      "\u001b[1;31mKeyError\u001b[0m: \"None of [Float64Index([0.265, 0.335, 0.343, 0.325, 0.359, 0.337,  0.34, 0.325, 0.355,\\n              0.355,\\n              ...\\n              1.978, 1.981, 1.985, 1.985, 1.985, 1.985, 1.988, 1.985, 1.985,\\n              1.901],\\n             dtype='float64', length=1411726)] are in the [columns]\""
     ]
    }
   ],
   "source": [
    "y2 = dfxls.loc[x.index,y]"
   ]
  },
  {
   "cell_type": "code",
   "execution_count": 235,
   "metadata": {},
   "outputs": [
    {
     "data": {
      "text/plain": [
       "[<matplotlib.lines.Line2D at 0x25a0b2973c8>]"
      ]
     },
     "execution_count": 235,
     "metadata": {},
     "output_type": "execute_result"
    },
    {
     "data": {
      "image/png": "[encoded data removed]",
      "text/plain": [
       "<Figure size 432x288 with 1 Axes>"
      ]
     },
     "metadata": {},
     "output_type": "display_data"
    }
   ],
   "source": [
    "plt.plot(x,y)"
   ]
  },
  {
   "cell_type": "code",
   "execution_count": 208,
   "metadata": {},
   "outputs": [],
   "source": [
    "dfxls.filter(regex='[.]1$')\n",
    "dfxls = dfxls[dfxls.columns.drop(list(dfxls.filter(regex='[.]1$')))]"
   ]
  },
  {
   "cell_type": "markdown",
   "metadata": {},
   "source": [
    "###  Create new columns\n",
    "\n",
    "#### First we create a column that can be detected as date"
   ]
  },
  {
   "cell_type": "code",
   "execution_count": 209,
   "metadata": {},
   "outputs": [],
   "source": [
    "dfxls['datestamp']=pd.to_datetime(dfxls.Date)\n",
    "dfxls['timestamp']=dfxls.datestamp.apply(lambda x: int(time.mktime(x.timetuple())))"
   ]
  },
  {
   "cell_type": "code",
   "execution_count": 210,
   "metadata": {},
   "outputs": [],
   "source": [
    "dfxls.sort_values('timestamp',inplace=True)"
   ]
  },
  {
   "cell_type": "markdown",
   "metadata": {},
   "source": [
    "#### Then we find the position of relevant indicators"
   ]
  },
  {
   "cell_type": "code",
   "execution_count": 211,
   "metadata": {},
   "outputs": [
    {
     "ename": "IndexError",
     "evalue": "list index out of range",
     "output_type": "error",
     "traceback": [
      "\u001b[1;31m---------------------------------------------------------------------------\u001b[0m",
      "\u001b[1;31mIndexError\u001b[0m                                Traceback (most recent call last)",
      "\u001b[1;32m<ipython-input-211-8d3ee453d568>\u001b[0m in \u001b[0;36m<module>\u001b[1;34m\u001b[0m\n\u001b[0;32m      2\u001b[0m \u001b[1;33m\u001b[0m\u001b[0m\n\u001b[0;32m      3\u001b[0m \u001b[0mpos_filllev\u001b[0m\u001b[1;33m=\u001b[0m\u001b[0mint\u001b[0m\u001b[1;33m(\u001b[0m\u001b[0mdfxls\u001b[0m\u001b[1;33m.\u001b[0m\u001b[0mcolumns\u001b[0m\u001b[1;33m.\u001b[0m\u001b[0mget_loc\u001b[0m\u001b[1;33m(\u001b[0m\u001b[0mdfxls\u001b[0m\u001b[1;33m.\u001b[0m\u001b[0mfilter\u001b[0m\u001b[1;33m(\u001b[0m\u001b[0mregex\u001b[0m\u001b[1;33m=\u001b[0m\u001b[1;34m'(?i)fill.*lev.*work.*chamb'\u001b[0m\u001b[1;33m)\u001b[0m\u001b[1;33m.\u001b[0m\u001b[0mcolumns\u001b[0m\u001b[1;33m.\u001b[0m\u001b[0mtolist\u001b[0m\u001b[1;33m(\u001b[0m\u001b[1;33m)\u001b[0m\u001b[1;33m[\u001b[0m\u001b[1;36m0\u001b[0m\u001b[1;33m]\u001b[0m\u001b[1;33m)\u001b[0m\u001b[1;33m)\u001b[0m\u001b[1;33m\u001b[0m\u001b[1;33m\u001b[0m\u001b[0m\n\u001b[1;32m----> 4\u001b[1;33m \u001b[0mpos_stroke\u001b[0m\u001b[1;33m=\u001b[0m\u001b[0mint\u001b[0m\u001b[1;33m(\u001b[0m\u001b[0mdfxls\u001b[0m\u001b[1;33m.\u001b[0m\u001b[0mcolumns\u001b[0m\u001b[1;33m.\u001b[0m\u001b[0mget_loc\u001b[0m\u001b[1;33m(\u001b[0m\u001b[0mdfxls\u001b[0m\u001b[1;33m.\u001b[0m\u001b[0mfilter\u001b[0m\u001b[1;33m(\u001b[0m\u001b[0mregex\u001b[0m\u001b[1;33m=\u001b[0m\u001b[1;34m'(?i)aet.*stroke'\u001b[0m\u001b[1;33m)\u001b[0m\u001b[1;33m.\u001b[0m\u001b[0mcolumns\u001b[0m\u001b[1;33m.\u001b[0m\u001b[0mtolist\u001b[0m\u001b[1;33m(\u001b[0m\u001b[1;33m)\u001b[0m\u001b[1;33m[\u001b[0m\u001b[1;36m0\u001b[0m\u001b[1;33m]\u001b[0m\u001b[1;33m)\u001b[0m\u001b[1;33m)\u001b[0m\u001b[1;33m\u001b[0m\u001b[1;33m\u001b[0m\u001b[0m\n\u001b[0m\u001b[0;32m      5\u001b[0m \u001b[0mpos_p01\u001b[0m\u001b[1;33m=\u001b[0m\u001b[0mint\u001b[0m\u001b[1;33m(\u001b[0m\u001b[0mdfxls\u001b[0m\u001b[1;33m.\u001b[0m\u001b[0mcolumns\u001b[0m\u001b[1;33m.\u001b[0m\u001b[0mget_loc\u001b[0m\u001b[1;33m(\u001b[0m\u001b[0mdfxls\u001b[0m\u001b[1;33m.\u001b[0m\u001b[0mfilter\u001b[0m\u001b[1;33m(\u001b[0m\u001b[0mregex\u001b[0m\u001b[1;33m=\u001b[0m\u001b[1;34m'^(?=.*(?i)P0.1)(?=.*(?i)Flow)(?=.*(?i)m³/h).*$'\u001b[0m\u001b[1;33m)\u001b[0m\u001b[1;33m.\u001b[0m\u001b[0mcolumns\u001b[0m\u001b[1;33m.\u001b[0m\u001b[0mtolist\u001b[0m\u001b[1;33m(\u001b[0m\u001b[1;33m)\u001b[0m\u001b[1;33m[\u001b[0m\u001b[1;36m0\u001b[0m\u001b[1;33m]\u001b[0m\u001b[1;33m)\u001b[0m\u001b[1;33m)\u001b[0m\u001b[1;33m\u001b[0m\u001b[1;33m\u001b[0m\u001b[0m\n\u001b[0;32m      6\u001b[0m \u001b[0mpos_p02\u001b[0m\u001b[1;33m=\u001b[0m\u001b[0mint\u001b[0m\u001b[1;33m(\u001b[0m\u001b[0mdfxls\u001b[0m\u001b[1;33m.\u001b[0m\u001b[0mcolumns\u001b[0m\u001b[1;33m.\u001b[0m\u001b[0mget_loc\u001b[0m\u001b[1;33m(\u001b[0m\u001b[0mdfxls\u001b[0m\u001b[1;33m.\u001b[0m\u001b[0mfilter\u001b[0m\u001b[1;33m(\u001b[0m\u001b[0mregex\u001b[0m\u001b[1;33m=\u001b[0m\u001b[1;34m'^(?=.*(?i)P0.2)(?=.*(?i)Flow)(?=.*(?i)m³/h).*$'\u001b[0m\u001b[1;33m)\u001b[0m\u001b[1;33m.\u001b[0m\u001b[0mcolumns\u001b[0m\u001b[1;33m.\u001b[0m\u001b[0mtolist\u001b[0m\u001b[1;33m(\u001b[0m\u001b[1;33m)\u001b[0m\u001b[1;33m[\u001b[0m\u001b[1;36m0\u001b[0m\u001b[1;33m]\u001b[0m\u001b[1;33m)\u001b[0m\u001b[1;33m)\u001b[0m\u001b[1;33m\u001b[0m\u001b[1;33m\u001b[0m\u001b[0m\n",
      "\u001b[1;31mIndexError\u001b[0m: list index out of range"
     ]
    }
   ],
   "source": [
    "# cerco la posizione del fill level\n",
    "\n",
    "pos_filllev=int(dfxls.columns.get_loc(dfxls.filter(regex='(?i)fill.*lev.*work.*chamb').columns.tolist()[0]))\n",
    "pos_stroke=int(dfxls.columns.get_loc(dfxls.filter(regex='(?i)aet.*stroke').columns.tolist()[0]))\n",
    "pos_p01=int(dfxls.columns.get_loc(dfxls.filter(regex='^(?=.*(?i)P0.1)(?=.*(?i)Flow)(?=.*(?i)m³/h).*$').columns.tolist()[0]))\n",
    "pos_p02=int(dfxls.columns.get_loc(dfxls.filter(regex='^(?=.*(?i)P0.2)(?=.*(?i)Flow)(?=.*(?i)m³/h).*$').columns.tolist()[0]))\n",
    "pos_p03=int(dfxls.columns.get_loc(dfxls.filter(regex='^(?=.*(?i)P0.3)(?=.*(?i)Flow)(?=.*(?i)m³/h).*$').columns.tolist()[0]))\n",
    "pos_p04=int(dfxls.columns.get_loc(dfxls.filter(regex='^(?=.*(?i)P0.4)(?=.*(?i)Flow)(?=.*(?i)m³/h).*$').columns.tolist()[0]))\n",
    "pos_p05=int(dfxls.columns.get_loc(dfxls.filter(regex='^(?=.*(?i)P0.5)(?=.*(?i)Flow)(?=.*(?i)m³/h).*$').columns.tolist()[0]))\n",
    "pos_pos02=int(dfxls.columns.get_loc(dfxls.filter(regex='^(?=.*(?i)posit)(?=.*(?i)2)(?=.*(?i)m³/h).*$').columns.tolist()[0]))\n",
    "pos_pos03=int(dfxls.columns.get_loc(dfxls.filter(regex='^(?=.*(?i)posit)(?=.*(?i)3)(?=.*(?i)m³/h).*$').columns.tolist()[0]))\n",
    "pos_advspeed=int(dfxls.columns.get_loc(dfxls.filter(regex='(?i)Advance.*speed.*').columns.tolist()[0]))\n",
    "pos_torque=int(dfxls.columns.get_loc(dfxls.filter(regex='(?i)torque.*cutting.*wheel.*').columns.tolist()[0]))\n",
    "pos_feed=int(dfxls.columns.get_loc(dfxls.filter(regex='^(?=.*(?i)flow)(?=.*(?i)feed)(?=.*(?i)m³/h).*$').columns.tolist()[0]))\n",
    "pos_slurry=int(dfxls.columns.get_loc(dfxls.filter(regex='^(?=.*(?i)slurry)(?=.*(?i)line)(?=.*(?i)m³/h).*$').columns.tolist()[0]))\n",
    "pos_num=int(dfxls.columns.get_loc(dfxls.filter(regex='^(?=.*(?i)1048)(?=.*(?i)advance)(?=.*(?i)[-]).*$').columns.tolist()[0]))\n",
    "pos_prch01=int(dfxls.columns.get_loc(dfxls.filter(regex='^(?=.*(?i)chamb)(?=.*(?i)1)(?=.*(?i)bar).*$').columns.tolist()[0]))\n",
    "pos_prch02=int(dfxls.columns.get_loc(dfxls.filter(regex='^(?=.*(?i)chamb)(?=.*(?i)2)(?=.*(?i)bar).*$').columns.tolist()[0]))\n",
    "pos_prch03=int(dfxls.columns.get_loc(dfxls.filter(regex='^(?=.*(?i)chamb)(?=.*(?i)3)(?=.*(?i)bar).*$').columns.tolist()[0]))\n",
    "pos_prch04=int(dfxls.columns.get_loc(dfxls.filter(regex='^(?=.*(?i)chamb)(?=.*(?i)4)(?=.*(?i)bar).*$').columns.tolist()[0]))\n",
    "pos_prch05=int(dfxls.columns.get_loc(dfxls.filter(regex='^(?=.*(?i)chamb)(?=.*(?i)5)(?=.*(?i)bar).*$').columns.tolist()[0]))\n",
    "pos_prch06=int(dfxls.columns.get_loc(dfxls.filter(regex='^(?=.*(?i)chamb)(?=.*(?i)6)(?=.*(?i)bar).*$').columns.tolist()[0]))\n",
    "pos_prch07=int(dfxls.columns.get_loc(dfxls.filter(regex='^(?=.*(?i)chamb)(?=.*(?i)7)(?=.*(?i)bar).*$').columns.tolist()[0]))\n",
    "pos_prch08=int(dfxls.columns.get_loc(dfxls.filter(regex='^(?=.*(?i)chamb)(?=.*(?i)8)(?=.*(?i)bar).*$').columns.tolist()[0]))\n",
    "pos_date=int(dfxls.columns.get_loc(dfxls.filter(regex='datestamp').columns.tolist()[0]))\n"
   ]
  },
  {
   "cell_type": "code",
   "execution_count": 121,
   "metadata": {},
   "outputs": [],
   "source": [
    "col_list=dfxls.columns.tolist()"
   ]
  },
  {
   "cell_type": "code",
   "execution_count": null,
   "metadata": {},
   "outputs": [],
   "source": []
  },
  {
   "cell_type": "markdown",
   "metadata": {},
   "source": [
    "## We create new columns"
   ]
  },
  {
   "cell_type": "markdown",
   "metadata": {},
   "source": [
    "#### Datestamp diff (aa-mm-gg hh-mm-ss)\n",
    "#### Datestamp diff [h]"
   ]
  },
  {
   "cell_type": "code",
   "execution_count": 122,
   "metadata": {},
   "outputs": [],
   "source": [
    "dfxls['datestamp_p'] = dfxls.datestamp.shift(1).copy()\n",
    "# Beign the first row == 0 we need to delete it\n",
    "#dfxls=dfxls.dropna().copy()"
   ]
  },
  {
   "cell_type": "code",
   "execution_count": 123,
   "metadata": {},
   "outputs": [],
   "source": [
    "dfxls['datestamp_diff']= dfxls['datestamp']-dfxls['datestamp_p']"
   ]
  },
  {
   "cell_type": "code",
   "execution_count": 124,
   "metadata": {},
   "outputs": [],
   "source": [
    "dfxls['datestamp_diff[h]'] = dfxls['datestamp_diff'].astype('timedelta64[s]').copy().fillna(0)/3600"
   ]
  },
  {
   "cell_type": "markdown",
   "metadata": {},
   "source": [
    "#### Differenziali dpressure chambers"
   ]
  },
  {
   "cell_type": "code",
   "execution_count": 125,
   "metadata": {},
   "outputs": [
    {
     "data": {
      "text/plain": [
       "array([1, 2, 3, 4, 5, 6, 7, 8])"
      ]
     },
     "execution_count": 125,
     "metadata": {},
     "output_type": "execute_result"
    }
   ],
   "source": [
    "np.arange(1,9,1)"
   ]
  },
  {
   "cell_type": "code",
   "execution_count": 126,
   "metadata": {},
   "outputs": [],
   "source": [
    "for i in np.arange(1,9,1):\n",
    "    dfxls['dpress_ch{}'.format(i)] = dfxls[col_list[pos_prch01+i-1]].diff(periods=1).copy()"
   ]
  },
  {
   "cell_type": "markdown",
   "metadata": {},
   "source": [
    "#### Creo colonna stroke - delta stroke solo positivi - volumi teorici e volumi teorici cumulati        ['dVol_Teor[m³]']"
   ]
  },
  {
   "cell_type": "code",
   "execution_count": 127,
   "metadata": {},
   "outputs": [],
   "source": [
    "dfxls['stroke_diff[mm]'] = dfxls[col_list[pos_stroke]].diff(periods=1).copy()\n",
    "dfxls['stroke_diff[mm]'].fillna(0, inplace=True)\n",
    "dfxls.loc[dfxls['stroke_diff[mm]'] <0, 'stroke_diff[mm]'] = 0"
   ]
  },
  {
   "cell_type": "code",
   "execution_count": 128,
   "metadata": {},
   "outputs": [],
   "source": [
    "dfxls['stroke_cum[mm]'] = dfxls['stroke_diff[mm]'].cumsum().shift(-1).fillna(0)"
   ]
  },
  {
   "cell_type": "code",
   "execution_count": 129,
   "metadata": {},
   "outputs": [],
   "source": [
    "dfxls['stroke_cum_seg[mm]']=0\n",
    "\n",
    "segm_list = dfxls[col_list[pos_num]].unique().tolist()\n",
    "\n",
    "for i in segm_list:\n",
    "    \n",
    "    dfxls.loc[dfxls[col_list[pos_num]]==i,'stroke_cum_seg[mm]'] = \\\n",
    "    dfxls.loc[dfxls[col_list[pos_num]]==i,'stroke_diff[mm]'].cumsum().shift(-1).fillna(0)"
   ]
  },
  {
   "cell_type": "code",
   "execution_count": 130,
   "metadata": {},
   "outputs": [],
   "source": [
    "Area_Cutter = 35.59"
   ]
  },
  {
   "cell_type": "code",
   "execution_count": 131,
   "metadata": {},
   "outputs": [],
   "source": [
    "dfxls['dVol_Teor[m³]'] = dfxls['stroke_diff[mm]']/1000*Area_Cutter"
   ]
  },
  {
   "cell_type": "code",
   "execution_count": 132,
   "metadata": {},
   "outputs": [],
   "source": [
    "dfxls['Vol_Teor_cum[m³]'] = dfxls['stroke_cum[mm]']/1000*Area_Cutter\n",
    "dfxls['Vol_Teor_seg_cum[m³]'] = dfxls['stroke_cum_seg[mm]']/1000*Area_Cutter"
   ]
  },
  {
   "cell_type": "markdown",
   "metadata": {},
   "source": [
    "#### Calcolo di volumi dal Slurry-Feedcorretto * dt           ['dVol_bal_feed_slurry[m³]']"
   ]
  },
  {
   "cell_type": "code",
   "execution_count": 133,
   "metadata": {},
   "outputs": [],
   "source": [
    "dfxls['feed_adj[m³/h]'] = dfxls[col_list[pos_feed]]-dfxls[col_list[pos_pos02]]-dfxls[col_list[pos_pos03]]"
   ]
  },
  {
   "cell_type": "code",
   "execution_count": 134,
   "metadata": {},
   "outputs": [],
   "source": [
    "dfxls['bal_feed_slurry[m³/h]']=dfxls[col_list[pos_slurry]]-dfxls['feed_adj[m³/h]']\n",
    "\n",
    "dfxls['dVol_bal_feed_slurry[m³]']=dfxls['bal_feed_slurry[m³/h]']*dfxls['datestamp_diff[h]']\n",
    "\n",
    "dfxls['dVol_bal_feed_slurry_cum[m³]']=dfxls['dVol_bal_feed_slurry[m³]'].cumsum().shift(-1).fillna(0)"
   ]
  },
  {
   "cell_type": "markdown",
   "metadata": {},
   "source": [
    "#### Calcolo volumi dal fill level con formula polinomiale     ['dvol_work_chamb[m³]']"
   ]
  },
  {
   "cell_type": "code",
   "execution_count": 135,
   "metadata": {},
   "outputs": [],
   "source": [
    "def calcvolume(x):\n",
    "    vol=-0.113*x**5+0.1236*x**4+0.5462*x**3-0.1059*x**2+5.6112*x+11.794\n",
    "    if x > 0 : \n",
    "        return vol\n",
    "    elif x < 0 : \n",
    "        return vol\n",
    "    else :\n",
    "        return 0"
   ]
  },
  {
   "cell_type": "code",
   "execution_count": 136,
   "metadata": {},
   "outputs": [],
   "source": [
    "dfxls['dfill_level[m]'] = dfxls[col_list[pos_filllev]].diff(periods=1).fillna(0).copy()\n",
    "\n",
    "dfxls['vol_work_chamb[m³]'] = dfxls[col_list[pos_filllev]].map(lambda x: calcvolume(x))\n",
    "\n",
    "dfxls['dvol_work_chamb[m³]'] = dfxls['vol_work_chamb[m³]'].diff(periods=1).fillna(0).copy()"
   ]
  },
  {
   "cell_type": "code",
   "execution_count": 137,
   "metadata": {},
   "outputs": [],
   "source": [
    "dfxls['dvol_work_chamb_cum[m³]'] = dfxls['dvol_work_chamb[m³]'].cumsum().shift(-1).fillna(0)"
   ]
  },
  {
   "cell_type": "markdown",
   "metadata": {},
   "source": [
    "#### Calcolo i balance istantanei e totali"
   ]
  },
  {
   "cell_type": "code",
   "execution_count": 138,
   "metadata": {},
   "outputs": [],
   "source": [
    "dfxls['dbalance_filllev_feedslurry[m³]'] = dfxls['dvol_work_chamb[m³]']+dfxls['dVol_bal_feed_slurry[m³]']"
   ]
  },
  {
   "cell_type": "markdown",
   "metadata": {},
   "source": [
    "#### Creo la colonna STATE (fulloper,stall_rotating,stall_stand)"
   ]
  },
  {
   "cell_type": "code",
   "execution_count": 139,
   "metadata": {},
   "outputs": [],
   "source": [
    "dfxls['state']=0\n",
    "f_min_torq25 = dfxls.iloc[:,pos_torque].describe()[4]\n",
    "f_min_adv25 = dfxls.iloc[:,pos_advspeed].describe()[4]\n",
    "\n",
    "dfxls.loc[(dfxls[col_list[pos_torque]]>0) & (dfxls[col_list[pos_advspeed]]>0),'state'] = 'fulloper'\n",
    "dfxls.loc[(dfxls[col_list[pos_torque]]!=0) & (dfxls[col_list[pos_advspeed]]==0),'state'] = 'stall_rotating'\n",
    "dfxls.loc[(dfxls[col_list[pos_torque]]==0) & (dfxls[col_list[pos_advspeed]]==0),'state'] = 'stall_stand'"
   ]
  },
  {
   "cell_type": "markdown",
   "metadata": {},
   "source": [
    "### CREATE col_list for fast individuation of columns"
   ]
  },
  {
   "cell_type": "code",
   "execution_count": null,
   "metadata": {},
   "outputs": [],
   "source": [
    "dfxls.filter(regex='[.]1$')\n",
    "dfxls = dfxls[dfxls.columns.drop(list(dfxls.filter(regex='[.]1$')))]\n",
    "\n",
    "\n",
    "\n",
    "\n",
    "\n",
    "\n",
    "\n"
   ]
  }
 ],
 "metadata": {
  "kernelspec": {
   "display_name": "Python 3",
   "language": "python",
   "name": "python3"
  },
  "language_info": {
   "codemirror_mode": {
    "name": "ipython",
    "version": 3
   },
   "file_extension": ".py",
   "mimetype": "text/x-python",
   "name": "python",
   "nbconvert_exporter": "python",
   "pygments_lexer": "ipython3",
   "version": "3.7.1"
  }
 },
 "nbformat": 4,
 "nbformat_minor": 2
}
