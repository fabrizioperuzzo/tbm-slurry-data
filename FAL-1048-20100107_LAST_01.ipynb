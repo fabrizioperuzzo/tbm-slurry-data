{
 "cells": [
  {
   "cell_type": "code",
   "execution_count": 7,
   "metadata": {},
   "outputs": [
    {
     "name": "stdout",
     "output_type": "stream",
     "text": [
      "C:\\ProgramData\\Anaconda3_1\\envs\\datimacchinaenv\\python.exe\n"
     ]
    },
    {
     "data": {
      "text/html": [
       "<style>.container { width:80% !important; }</style>"
      ],
      "text/plain": [
       "<IPython.core.display.HTML object>"
      ]
     },
     "metadata": {},
     "output_type": "display_data"
    },
    {
     "name": "stdout",
     "output_type": "stream",
     "text": [
      "Available kernels:\n",
      "  python3    C:\\ProgramData\\Anaconda3_1\\envs\\datimacchinaenv\\share\\jupyter\\kernels\\python3\n"
     ]
    }
   ],
   "source": [
    "#!/usr/bin/env conda run -n datimacchinaenv python\n",
    "import sys\n",
    "print(sys.executable)    ### C:\\ProgramData\\Anaconda3_1\\envs\\datimacchinaenv\\python.exe\n",
    "\n",
    "from IPython.core.display import display, HTML\n",
    "display(HTML(\"<style>.container { width:80% !important; }</style>\"))\n",
    "!jupyter kernelspec list"
   ]
  },
  {
   "cell_type": "code",
   "execution_count": 464,
   "metadata": {},
   "outputs": [
    {
     "name": "stdout",
     "output_type": "stream",
     "text": [
      "Collecting xlwt\n",
      "  Downloading xlwt-1.3.0-py2.py3-none-any.whl (99 kB)\n",
      "Installing collected packages: xlwt\n",
      "Successfully installed xlwt-1.3.0\n"
     ]
    }
   ],
   "source": []
  },
  {
   "cell_type": "code",
   "execution_count": 466,
   "metadata": {},
   "outputs": [],
   "source": [
    "# !{sys.executable} -m pip install xlwt\n",
    "# !{sys.executable} -m pip install openpyxl\n",
    "# !{sys.executable} -m pip install Pillow\n",
    "# !{sys.executable} -m pip install seaborn\n",
    "# !conda install --yes --prefix {sys.prefix} xlrd \n",
    "# !{sys.executable} -m pip install tables     \n",
    "# !{sys.executable} -m pip install simpledbf\n",
    "import sys\n",
    "import pandas as pd\n",
    "import os\n",
    "import matplotlib.pyplot as plt\n",
    "import matplotlib.dates as mdates\n",
    "import numpy as np\n",
    "from pylab import *\n",
    "from mpl_toolkits.mplot3d import Axes3D\n",
    "import matplotlib.pyplot as plt\n",
    "import IPython.display as IPdisplay\n",
    "import shutil\n",
    "# per matrice correlazione\n",
    "import seaborn as sns\n",
    "# Scipy helper functions\n",
    "from scipy.stats import percentileofscore\n",
    "from scipy import stats\n",
    "import matplotlib.tri as mtri\n",
    "import datetime as dt\n",
    "import h5py\n",
    "import warnings\n",
    "warnings.filterwarnings('ignore')\n",
    "from matplotlib.pyplot import figure\n",
    "import xlwt  # necessario per esportare xls con pandas"
   ]
  },
  {
   "cell_type": "markdown",
   "metadata": {},
   "source": [
    "### LOAD FILES"
   ]
  },
  {
   "cell_type": "code",
   "execution_count": 88,
   "metadata": {},
   "outputs": [
    {
     "name": "stdout",
     "output_type": "stream",
     "text": [
      "['GEODATA_S-1048_RAW_20200107_MERGE.xls']\n",
      "['C:\\\\Users\\\\fpe\\\\JUPYTER\\\\datimacchina\\\\DATA\\\\20200107\\\\GEODATA_S-1048_RAW_20200107_MERGE.xls']\n",
      "file loadedGEODATA_S-1048_RAW_20200107_MERGE.xls\n",
      "\n",
      "Columns list:\n",
      "['Date', 'S-1048_ADVANCE_ADVANCE_NO [-]', 'Pressure excavation chamber 1 [bar]', 'Pressure excavation chamber 2 [bar]', 'Pressure excavation chamber 3 [bar]', 'Pressure excavation chamber 4 [bar]', 'Pressure excavation chamber 5 [bar]', 'Pressure excavation chamber 6 [bar]', 'Pressure excavation chamber 7 [bar]', 'Pressure excavation chamber 8 [bar]', 'Line 1 grout injection pressure [bar]', 'Line 1 grout injection flow [l/min]', 'Line 1 grout injection amount [l]', 'Line 2 grout injection pressure [bar]', 'Line 2 grout injection flow [l/min]', 'Line 2 grout injection amount [l]', 'Line 3 grout injection pressure [bar]', 'Line 3 grout injection flow [l/min]', 'Line 3 grout injection amount [l]', 'Line 4 grout injection pressure [bar]', 'Line 4 grout injection flow [l/min]', 'Line 4 grout injection amount [l]', 'Grout injection quantity calculated in m3 [m³]', 'Grout injection total quantity in m3 [m³]', 'Total amount of component A [l]', 'Total amount of component B [l]', 'Total advance force [kN]', 'Advance speed [mm/min]', 'Penetration [mm/rot]', 'Torque cutting wheel [MNm]', 'Contact force shield articulation [kN]', 'Specific energy MJ/m3 [MJ/m³]', 'Fill level working chamber [m]', 'Excavated bentonite [m³]', 'Air Flow in Normal m3/min [m³/min]', 'AET Mass [t]', 'AET Volume [m³]', 'FS0011 Pressure transducer screw conveyor pump 1 high pressure [bar]', 'FS0012 Pressure transducer screw conveyor pump 1 feed pressure [bar]', 'Screw Conveyor Front Pressure [bar]', 'Screw Conveyor Rear Pressure [bar]', 'Screw gate front open [Bit]', 'Screw gate front closed [Bit]', 'Screw gate 1 rear open [Bit]', 'Screw gate 1 rear closed [Bit]', 'Speed screw conveyor from gear sensor [rpm]', 'Torque screw conveyor calculated [-]', 'Slurry circuit P04 density [t/m³]', 'Density feed line [t/m³]', 'Density slurry line [t/m³]', 'Flow feed line [m³/h]', 'Flow slurry line [m³/h]', 'P0.1 feed pump operation [Bit]', 'P0.1 delivery pressure [bar]', 'P0.1 suction pressure [bar]', 'P0.1 Flow [m³/h]', 'P0.2 feed pump operation [Bit]', 'P0.2 delivery pressure [bar]', 'P0.2 suction pressure [bar]', 'P0.2 Flow [m³/h]', 'P0.3 feed pump operation [Bit]', 'P0.3 delivery pressure [bar]', 'P0.3 suction pressure [bar]', 'P0.3 Flow [m³/h]', 'P0.4 feed pump operation [Bit]', 'P0.4 delivery pressure [bar]', 'P0.4 suction pressure [bar]', 'P0.4 Flow [m³/h]', 'P1.1 feed pump operation [Bit]', 'P1.1 delivery pressure [bar]', 'P1.1 suction pressure [bar]', 'P1.2 feed pump operation [Bit]', 'P1.2 delivery pressure [bar]', 'P1.2 suction pressure [bar]', 'P2.1 feed pump operation [Bit]', 'P2.1 delivery pressure [bar]', 'P2.1 suction pressure [bar]', 'P2.2 feed pump operation [Bit]', 'P2.2 delivery pressure [bar]', 'P2.2 suction pressure [bar]', 'P2.3 feed pump operation [Bit]', 'P2.3 delivery pressure [bar]', 'P2.3 suction pressure [bar]', 'P2.4 feed pump operation [Bit]', 'P2.4 delivery pressure [bar]', 'P2.4 suction pressure [bar]', 'P2.5 feed pump operation [Bit]', 'P2.5 delivery pressure [bar]', 'P2.5 suction pressure [bar]', 'P2.6 feed pump operation [Bit]', 'P2.6 delivery pressure [bar]', 'P2.6 suction pressure [bar]', 'P2.7 feed pump operation [Bit]', 'P2.7 delivery pressure [bar]', 'P2.7 suction pressure [bar]', 'P3.8 delivery pressure [bar]', 'P3.8 pump operation [Bit]', 'Flow feed line [m³/h].1', 'Flow slurry line [m³/h].1', 'P0.1 Flow [m³/h].1', 'P0.2 Flow [m³/h].1', 'P0.3 Flow [m³/h].1', 'P0.4 Flow [m³/h].1', 'P0.5 flow [m³/h]', 'Slurry Circuit Flow Sensor, Position 2 [m³/h]', 'Slurry Circuit Flow Sensor, Position 3 [m³/h]', 'Slurry Circuit Flow Sensor, Position 4 [m³/h]', 'Slurry Circuit Flow Sensor, Position 5 [m³/h]', 'Slurry Circuit Flow Sensor, Position 6 [m³/h]', 'Slurry Circuit Flow Sensor, Position 7 [m³/h]', 'Slurry Circuit Flow Sensor, Position 8 [m³/h]', 'AET Net Stroke [mm]', 'Stroke thrust cylinder Gr. A [mm]', 'Stroke thrust cylinder Gr. B [mm]', 'Stroke thrust cylinder Gr. C [mm]', 'Stroke thrust cylinder Gr. D [mm]', 'Stroke thrust cylinder Gr. E [mm]']\n"
     ]
    }
   ],
   "source": [
    "path = os.getcwd()+'\\\\DATA\\\\20200107'\n",
    "\n",
    "files = []\n",
    "filespath = []\n",
    "# r=root, d=directories, f = files\n",
    "for r, d, f in os.walk(path):\n",
    "    for file in f:\n",
    "        if r'MERGE' in file:\n",
    "            files.append(file)\n",
    "            filespath.append(os.path.join(r, file))\n",
    "            \n",
    "# since there is only one file I need only the file name\n",
    "os.path.join(r, files[0])\n",
    "\n",
    "print(files)\n",
    "print(filespath)\n",
    "df = pd.read_excel(os.path.join(r, files[0]))\n",
    "print('file loaded'+files[0])\n",
    "print('\\nColumns list:')\n",
    "print(df.columns.tolist())"
   ]
  },
  {
   "cell_type": "code",
   "execution_count": null,
   "metadata": {},
   "outputs": [],
   "source": []
  },
  {
   "cell_type": "markdown",
   "metadata": {},
   "source": [
    "### CLEAN DATA AND CREATE NEW COLUMN"
   ]
  },
  {
   "cell_type": "code",
   "execution_count": 606,
   "metadata": {},
   "outputs": [],
   "source": [
    "#### Drop double columns ending by .1\n",
    "\n",
    "df.filter(regex='[.]1$')\n",
    "df = df[df.columns.drop(list(df.filter(regex='[.]1$')))]\n",
    "\n",
    "###  Create new columns\n",
    "\n",
    "#### First we create a column that can be detected as date\n",
    "\n",
    "df['datestamp']=pd.to_datetime(df.Date)\n",
    "df['timestamp']=df.datestamp.apply(lambda x: int(time.mktime(x.timetuple())))\n",
    "\n",
    "df.sort_values('timestamp',inplace=True)\n",
    "\n",
    "#### Then we find the position of relevant indicators  --> do not remove spaces before this \n",
    "\n",
    "# cerco la posizione delle colonne principali\n",
    " \n",
    "# regex  --> (?i) means case unsensible\n",
    "\n",
    "pos_filllev=int(df.columns.get_loc(df.filter(regex='(?i)fill.*lev.*work.*chamb').columns.tolist()[0]))\n",
    "pos_stroke=int(df.columns.get_loc(df.filter(regex='(?i)aet.*stroke').columns.tolist()[0]))\n",
    "pos_p01=int(df.columns.get_loc(df.filter(regex='^(?=.*(?i)P0.1)(?=.*(?i)Flow)(?=.*(?i)m³/h).*$').columns.tolist()[0]))\n",
    "pos_p02=int(df.columns.get_loc(df.filter(regex='^(?=.*(?i)P0.2)(?=.*(?i)Flow)(?=.*(?i)m³/h).*$').columns.tolist()[0]))\n",
    "pos_p03=int(df.columns.get_loc(df.filter(regex='^(?=.*(?i)P0.3)(?=.*(?i)Flow)(?=.*(?i)m³/h).*$').columns.tolist()[0]))\n",
    "pos_p04=int(df.columns.get_loc(df.filter(regex='^(?=.*(?i)P0.4)(?=.*(?i)Flow)(?=.*(?i)m³/h).*$').columns.tolist()[0]))\n",
    "pos_p05=int(df.columns.get_loc(df.filter(regex='^(?=.*(?i)P0.5)(?=.*(?i)Flow)(?=.*(?i)m³/h).*$').columns.tolist()[0]))\n",
    "pos_pos02=int(df.columns.get_loc(df.filter(regex='^(?=.*(?i)posit)(?=.*(?i)2)(?=.*(?i)m³/h).*$').columns.tolist()[0]))\n",
    "pos_pos03=int(df.columns.get_loc(df.filter(regex='^(?=.*(?i)posit)(?=.*(?i)3)(?=.*(?i)m³/h).*$').columns.tolist()[0]))\n",
    "pos_advspeed=int(df.columns.get_loc(df.filter(regex='(?i)Advance.*speed.*').columns.tolist()[0]))\n",
    "pos_torque=int(df.columns.get_loc(df.filter(regex='(?i)torque.*cutting.*wheel.*').columns.tolist()[0]))\n",
    "pos_feed=int(df.columns.get_loc(df.filter(regex='^(?=.*(?i)flow)(?=.*(?i)feed)(?=.*(?i)m³/h).*$').columns.tolist()[0]))\n",
    "pos_slurry=int(df.columns.get_loc(df.filter(regex='^(?=.*(?i)slurry)(?=.*(?i)line)(?=.*(?i)m³/h).*$').columns.tolist()[0]))\n",
    "pos_num=int(df.columns.get_loc(df.filter(regex='^(?=.*(?i)1048)(?=.*(?i)advance)(?=.*(?i)[-]).*$').columns.tolist()[0]))\n",
    "pos_prch01=int(df.columns.get_loc(df.filter(regex='^(?=.*(?i)chamb)(?=.*(?i)1)(?=.*(?i)bar).*$').columns.tolist()[0]))\n",
    "pos_prch02=int(df.columns.get_loc(df.filter(regex='^(?=.*(?i)chamb)(?=.*(?i)2)(?=.*(?i)bar).*$').columns.tolist()[0]))\n",
    "pos_prch03=int(df.columns.get_loc(df.filter(regex='^(?=.*(?i)chamb)(?=.*(?i)3)(?=.*(?i)bar).*$').columns.tolist()[0]))\n",
    "pos_prch04=int(df.columns.get_loc(df.filter(regex='^(?=.*(?i)chamb)(?=.*(?i)4)(?=.*(?i)bar).*$').columns.tolist()[0]))\n",
    "pos_prch05=int(df.columns.get_loc(df.filter(regex='^(?=.*(?i)chamb)(?=.*(?i)5)(?=.*(?i)bar).*$').columns.tolist()[0]))\n",
    "pos_prch06=int(df.columns.get_loc(df.filter(regex='^(?=.*(?i)chamb)(?=.*(?i)6)(?=.*(?i)bar).*$').columns.tolist()[0]))\n",
    "pos_prch07=int(df.columns.get_loc(df.filter(regex='^(?=.*(?i)chamb)(?=.*(?i)7)(?=.*(?i)bar).*$').columns.tolist()[0]))\n",
    "pos_prch08=int(df.columns.get_loc(df.filter(regex='^(?=.*(?i)chamb)(?=.*(?i)8)(?=.*(?i)bar).*$').columns.tolist()[0]))\n",
    "pos_date=int(df.columns.get_loc(df.filter(regex='datestamp').columns.tolist()[0]))\n",
    "pos_timestamp=int(df.columns.get_loc(df.filter(regex='timestamp').columns.tolist()[0]))\n",
    "# densities\n",
    "pos_dens_p04=int(df.columns.get_loc(df.filter(regex='^(?=.*(?i)dens)(?=.*(?i)p04)(?=.*(?i)t/m).*$').columns.tolist()[0]))\n",
    "pos_dens_slurry=int(df.columns.get_loc(df.filter(regex='^(?=.*(?i)dens)(?=.*(?i)slurr)(?=.*(?i)line)(?=.*(?i)t/m³).*$').columns.tolist()[0]))\n",
    "pos_dens_feed=int(df.columns.get_loc(df.filter(regex='^(?=.*(?i)dens)(?=.*(?i)feed)(?=.*(?i)line)(?=.*(?i)t/m³).*$').columns.tolist()[0]))\n",
    "# stroke cyl abcde\n",
    "pos_cy_a=int(df.columns.get_loc(df.filter(regex='^(?=.*(?i)strok)(?=.*(?i)cyl)(?=.*(?i) A ).*$').columns.tolist()[0]))\n",
    "pos_cy_b=int(df.columns.get_loc(df.filter(regex='^(?=.*(?i)strok)(?=.*(?i)cyl)(?=.*(?i) B ).*$').columns.tolist()[0]))\n",
    "pos_cy_c=int(df.columns.get_loc(df.filter(regex='^(?=.*(?i)strok)(?=.*(?i)cyl)(?=.*(?i) C ).*$').columns.tolist()[0]))\n",
    "pos_cy_d=int(df.columns.get_loc(df.filter(regex='^(?=.*(?i)strok)(?=.*(?i)cyl)(?=.*(?i) D ).*$').columns.tolist()[0]))\n",
    "pos_cy_e=int(df.columns.get_loc(df.filter(regex='^(?=.*(?i)strok)(?=.*(?i)cyl)(?=.*(?i) E ).*$').columns.tolist()[0]))\n",
    "\n",
    "col_list=df.columns.tolist()\n",
    "cl = col_list.copy()  # per chiamare la lista in maniera veloce"
   ]
  },
  {
   "cell_type": "code",
   "execution_count": 572,
   "metadata": {},
   "outputs": [],
   "source": [
    "# reinitialize the dataframe\n",
    "dfxls = df.copy()\n",
    "\n",
    "nw = 0.25 # indice dei vuoti\n",
    "rho = 2.10 # t/m3 terreno in sito\n",
    "\n",
    "## We create new columns\n",
    "\n",
    "#### Datestamp diff (aa-mm-gg hh-mm-ss)\n",
    "#### Datestamp diff [h]\n",
    "\n",
    "dfxls['datestamp_p'] = dfxls.datestamp.shift(1).copy()\n",
    "# Beign the first row == 0 we need to delete it _ but we will do it at the end otherwise we lose data\n",
    "#dfxls=dfxls.dropna().copy()\n",
    "\n",
    "dfxls['datestamp_diff']= dfxls['datestamp']-dfxls['datestamp_p']\n",
    "# dfxls['datestamp_diff2'] = dfxls['datestamp'].diff(periods=1).copy()  # stesso risultato come sopra\n",
    "\n",
    "dfxls['datestamp_diff[h]'] = dfxls['datestamp_diff'].astype('timedelta64[s]').fillna(0).copy()/3600\n",
    "\n",
    "#### Differenziali dpressure chambers loop sulle 8 celle di pressione\n",
    "\n",
    "for i in np.arange(1,9,1):\n",
    "    dfxls['dpress_ch{}'.format(i)] = dfxls[col_list[pos_prch01+i-1]].diff(periods=1).copy()\n",
    "\n",
    "#### Creo colonna stroke - delta stroke solo positivi - volumi teorici e volumi teorici cumulati        ['dVol_Teor[m³]']\n",
    "\n",
    "dfxls['stroke_diff[mm]'] = dfxls[col_list[pos_stroke]].diff(periods=1).fillna(0).copy()\n",
    "dfxls['stroke_diff_a[mm]'] = dfxls[col_list[pos_cy_a]].diff(periods=1).fillna(0).copy()\n",
    "dfxls['stroke_diff_b[mm]'] = dfxls[col_list[pos_cy_a]].diff(periods=1).fillna(0).copy()\n",
    "dfxls['stroke_diff_c[mm]'] = dfxls[col_list[pos_cy_a]].diff(periods=1).fillna(0).copy()\n",
    "dfxls['stroke_diff_d[mm]'] = dfxls[col_list[pos_cy_a]].diff(periods=1).fillna(0).copy()\n",
    "dfxls['stroke_diff_e[mm]'] = dfxls[col_list[pos_cy_a]].diff(periods=1).fillna(0).copy()\n",
    "\n",
    "\n",
    "# creazione indici di movimento\n",
    "def ff(row):\n",
    "    \n",
    "    if row['stroke_diff[mm]']>0 and row['stroke_diff_a[mm]']>0 and row['stroke_diff_b[mm]']>0 and\\\n",
    "       row['stroke_diff_c[mm]']>0 and row['stroke_diff_d[mm]']>0\\\n",
    "     and row['stroke_diff_e[mm]']>0:\n",
    "        return 1\n",
    "    else:\n",
    "        return 0\n",
    "\n",
    "dfxls['state1'] = dfxls.apply(ff, axis=1)     # 0 se stop 1 se tutti i jack sono in movimento\n",
    "dfxls['dstroke[mm]'] = dfxls['AET Net Stroke [mm]'].diff(periods=1).fillna(0)\n",
    "dfxls['state2'] = dfxls['dstroke[mm]'].map(lambda x: 1 if x>0 else 0) # 1 se dstroke avanza 0 se fermo o negativo\n",
    "\n",
    "\n",
    "\n",
    "#####  Volumi dallo stroke\n",
    "    \n",
    "Area_Cutter = 35.59\n",
    "dfxls['vol_teor_cum[m³]'] = dfxls.iloc[:,pos_stroke]/1000*Area_Cutter\n",
    "dfxls['vol_teor_cum_dry[m³]'] = dfxls['vol_teor_cum[m³]']*(1-nw)\n",
    "dfxls['dvol_teor[m³]'] = dfxls['vol_teor_cum[m³]'].diff(periods=1).fillna(0).map(lambda x: 0 if x<0 else x).copy()\n",
    "\n",
    "\n",
    "#### Calcolo di volumi dal Slurry-Feed * dt           ['dVol_bal_feed_slurry[m³]']\n",
    "\n",
    "# dfxls['feed_adj[m³/h]'] = dfxls[col_list[pos_feed]]-dfxls[col_list[pos_pos02]]-dfxls[col_list[pos_pos03]]  # incasina non togliere i sensori 2 e 3\n",
    "# dfxls['bal_feed_slurry[m³/h]']=dfxls[col_list[pos_slurry]]-dfxls['feed_adj[m³/h]']\n",
    "\n",
    "dfxls['bal_feed_slurry[m³/h]']=dfxls[col_list[pos_slurry]]-dfxls[col_list[pos_feed]]\n",
    "\n",
    "dfxls['dvol_bal_feed_slurry[m³]']=dfxls['bal_feed_slurry[m³/h]']*dfxls['datestamp_diff[h]']\n",
    "dfxls['dvol_bal_feed_slurry_cum[m³]']=dfxls['dvol_bal_feed_slurry[m³]'].cumsum().shift(-1).fillna(0)\n",
    "\n",
    "\n",
    "\n",
    "#### Calcolo di volumi dal Slurry-Feed * dt   METHOD E\n",
    "\n",
    "\n",
    "dfxls['dvol_calc_MthE[m³]']=(\n",
    "                            (dfxls[col_list[pos_slurry]]*\n",
    "                            (dfxls[col_list[pos_dens_slurry]]-1)/(rho-1))-\n",
    "                            (dfxls[col_list[pos_feed]]*\n",
    "                            (dfxls[col_list[pos_dens_feed]]-1)/(rho-1))\n",
    "                            )*dfxls['datestamp_diff[h]']\n",
    "\n",
    "dfxls['dvol_calc_MthE_cum[m³]']=dfxls['dvol_calc_MthE[m³]'].cumsum().shift(-1).fillna(0)\n",
    "\n",
    "\n",
    "#### Calcolo volumi dal fill level con formula polinomiale     ['dvol_work_chamb[m³]']\n",
    "\n",
    "def calcvolume(x):\n",
    "    vol=-0.113*x**5+0.1236*x**4+0.5462*x**3-0.1059*x**2+5.6112*x+11.794\n",
    "    if x > 0 : \n",
    "        return vol\n",
    "    elif x < 0 : \n",
    "        return vol\n",
    "    else :\n",
    "        return 0\n",
    "    \n",
    "dfxls['instant_volume[m³]'] = dfxls[col_list[pos_filllev]].map(lambda x: calcvolume(x))\n",
    "dfxls['dvol_work_chamb[m³]'] = dfxls['instant_volume[m³]'].diff(periods=1).fillna(0).copy()\n",
    "dfxls['dvol_work_chamb_cum[m³]'] = dfxls['dvol_work_chamb[m³]'].cumsum().shift(-1).fillna(0)\n",
    "\n",
    "#### Calcolo i balance istantanei e totali\n",
    "\n",
    "dfxls['dvol_calc[m³]'] = dfxls['dvol_work_chamb[m³]']+dfxls['dvol_bal_feed_slurry[m³]']\n",
    "\n",
    "dfxls['dvol_teor-calc[m³]'] = dfxls['dvol_teor[m³]']-dfxls['dvol_calc[m³]']\n",
    "\n",
    "\n",
    "\n",
    "\n",
    "\n",
    "#### Creo la colonna STATE (fulloper,stall_rotating,stall_stand)\n",
    "\n",
    "dfxls['state']=0\n",
    "f_min_torq25 = dfxls.iloc[:,pos_torque].describe()[4]\n",
    "f_min_adv25 = dfxls.iloc[:,pos_advspeed].describe()[4]\n",
    "\n",
    "dfxls.loc[(dfxls[col_list[pos_torque]]>0) & (dfxls[col_list[pos_advspeed]]>0),'state'] = 'fulloper'\n",
    "dfxls.loc[(dfxls[col_list[pos_torque]]!=0) & (dfxls[col_list[pos_advspeed]]==0),'state'] = 'stall_rotating'\n",
    "dfxls.loc[(dfxls[col_list[pos_torque]]==0) & (dfxls[col_list[pos_advspeed]]==0),'state'] = 'stall_stand'\n",
    "\n",
    "### CREATE col_list for fast individuation of columns\n",
    "\n",
    "col_list=dfxls.columns.tolist()\n",
    "\n",
    "col_list[111:]\n",
    "\n",
    "a = 'datestamp_diff'\n",
    "a.replace(\" \",'').split(\"[\")[0]\n",
    "\n",
    "ls0 = []\n",
    "ls1 = []\n",
    "for i in col_list[111:]:\n",
    "    \n",
    "    ls0.append('pos_{}'.format(i.replace(\" \",'').split(\"[\")[0]))\n",
    "    ls1.append(dfxls.columns.get_loc(i))\n",
    "    \n",
    "pos_dict = dict(zip(ls0,ls1))   "
   ]
  },
  {
   "cell_type": "markdown",
   "metadata": {},
   "source": [
    "### Modifiche aggiuntive\n",
    "- Correggo cambio concio colonna 'num_corr'\n",
    "- Creo colonna **'change'** False-True quando passo da:\n",
    "    - fermo( **'dstroke[mm]'** <=0 , **'state2'** =0)\n",
    "    - in movimento( **'dstroke[mm]'** >0 , **'state2'** =1)\n",
    "- Creo colonna **change** ovvero quando la macchina si ferma\n",
    "- Crea colonna **change2** ovvero quando la macchina riparte\n",
    "- Creo colonna **state3** basata su inizio fine processo\n",
    "- Creo colonna **num_corr** che è il numero di concio corretto\n",
    "- Calcolo i volumi cumulati:\n",
    "    - **'dvol_teor_cum_seg[m³]'**\n",
    "    - **'dvol_bal_feed_slurry_cum_seg[m³]'**\n",
    "    - **'dvol_work_chamb_cum_seg[m³]'**\n",
    "    - **'dvol_calc_cum_seg[m³]'**\n",
    "    - **'dvol_teor-calc_cum_seg[m³]'**\n",
    "    - **'dvol_calc_MthE_cum_seg[m³]'**"
   ]
  },
  {
   "cell_type": "code",
   "execution_count": 604,
   "metadata": {},
   "outputs": [],
   "source": [
    "# creo colonna change in base a 'state2'\n",
    "\n",
    "dfxls['change'] = dfxls['state2'].gt(dfxls['state2'].shift())\n",
    "dfxls['change2'] = dfxls['state2'].shift().gt(dfxls['state2'])\n",
    "\n",
    "dic_start = dfxls[dfxls['change']==True].groupby(col_list[pos_num]).agg({col_list[pos_timestamp]:min}).to_dict()\n",
    "dic_start = dic_start[list(dic_start.keys())[0]]\n",
    "\n",
    "dic_end = dfxls[dfxls['change2']==True].groupby(col_list[pos_num]).agg({col_list[pos_timestamp]:max}).to_dict()\n",
    "dic_end = dic_end[list(dic_end.keys())[0]]\n",
    "\n",
    "\n",
    "# creo colonna change in base a 'state3'   Inizio fine processo di avanzamento senza tener conto di stop intermedi\n",
    "\n",
    "def ffstate3(row):\n",
    "    try:\n",
    "        if row[col_list[pos_timestamp]]<dic_start[row[col_list[pos_num]]]:\n",
    "            return 0\n",
    "    except:\n",
    "        return 0\n",
    "    try:\n",
    "        if row[col_list[pos_timestamp]]>dic_start[row[col_list[pos_num]]]:\n",
    "            return 1\n",
    "    except:\n",
    "        return 0\n",
    "    try:\n",
    "        if row[col_list[pos_timestamp]]>dic_end[row[col_list[pos_num]]]:\n",
    "            return 0\n",
    "    except:\n",
    "        return 0\n",
    "\n",
    "dfxls['state3'] = 0\n",
    "dfxls['state3'] = dfxls.apply(ffstate3, axis=1)\n",
    "\n",
    "\n",
    "# creo colonna 'num_corr' \n",
    "\n",
    "dfxls.reset_index(drop=True)\n",
    "for index, row in dfxls.iterrows():\n",
    "    if index==0: numconcio = dfxls.iloc[0,pos_num]\n",
    "    dfxls.loc[index,'num_corr'] = numconcio\n",
    "    if index > 1 and row['dstroke[mm]']==0 and rowp['dstroke[mm]']>0 and row[col_list[pos_stroke]]>1500:\n",
    "        numconcio += 1\n",
    "        dfxls.loc[index,'num_corr'] = numconcio\n",
    "    rowp = row\n",
    "\n",
    "    \n",
    "## CALCOLO I VOLUMI CUMULATI     \n",
    "    \n",
    "# gr = dfxls[dfxls.state3==1].groupby('num_corr')\n",
    "gr = dfxls.groupby('num_corr')\n",
    "\n",
    "dfxls['dvol_teor_cum_seg[m³]'] = gr['dvol_teor[m³]'].cumsum().shift(-1).fillna(0)\n",
    "dfxls['dvol_bal_feed_slurry_cum_seg[m³]'] = gr['dvol_bal_feed_slurry[m³]'].cumsum().shift(-1).fillna(0)\n",
    "dfxls['dvol_work_chamb_cum_seg[m³]'] = gr['dvol_work_chamb[m³]'].cumsum().shift(-1).fillna(0)\n",
    "dfxls['dvol_calc_cum_seg[m³]'] = gr['dvol_calc[m³]'].cumsum().shift(-1).fillna(0)\n",
    "dfxls['dvol_teor-calc_cum_seg[m³]'] = gr['dvol_teor-calc[m³]'].cumsum().shift(-1).fillna(0)\n",
    "dfxls['dvol_calc_MthE_cum_seg[m³]'] = gr['dvol_calc_MthE[m³]'].cumsum().shift(-1).fillna(0)\n"
   ]
  },
  {
   "cell_type": "markdown",
   "metadata": {},
   "source": [
    "### Lista delle variabili create"
   ]
  },
  {
   "cell_type": "code",
   "execution_count": 608,
   "metadata": {},
   "outputs": [],
   "source": [
    "# 'vol_teor_cum[m³]'\n",
    "# 'dvol_teor[m³]'\n",
    "# 'dvol_bal_feed_slurry[m³]'    \n",
    "# 'dvol_work_chamb[m³]'\n",
    "# 'dvol_calc[m³]'\n",
    "# 'dvol_calc_MthE[m³]'\n",
    "# 'dvol_teor-calc[m³]'\n",
    "# 'dvol_teor_cum_seg[m³]'\n",
    "# 'dvol_bal_feed_slurry_cum_seg[m³]'\n",
    "# 'dvol_work_chamb_cum_seg[m³]'\n",
    "# 'dvol_calc_cum_seg[m³]'\n",
    "# 'dvol_teor-calc_cum_seg[m³]'\n",
    "# 'dvol_calc_MthE_cum_seg[m³]'"
   ]
  },
  {
   "cell_type": "code",
   "execution_count": 474,
   "metadata": {},
   "outputs": [],
   "source": [
    "dftemp =dfxls[dfxls['num_corr']==4205][[col_list[pos_stroke],col_list[pos_filllev],col_list[pos_slurry],col_list[pos_feed],col_list[pos_dens_feed],col_list[pos_dens_slurry]]]\n",
    "dftemp.to_excel('dftemp.xls')"
   ]
  },
  {
   "cell_type": "code",
   "execution_count": null,
   "metadata": {},
   "outputs": [],
   "source": []
  },
  {
   "cell_type": "code",
   "execution_count": null,
   "metadata": {},
   "outputs": [],
   "source": []
  },
  {
   "cell_type": "code",
   "execution_count": null,
   "metadata": {},
   "outputs": [],
   "source": []
  },
  {
   "cell_type": "code",
   "execution_count": null,
   "metadata": {},
   "outputs": [],
   "source": []
  },
  {
   "cell_type": "code",
   "execution_count": null,
   "metadata": {},
   "outputs": [],
   "source": []
  },
  {
   "cell_type": "code",
   "execution_count": null,
   "metadata": {},
   "outputs": [],
   "source": []
  },
  {
   "cell_type": "code",
   "execution_count": null,
   "metadata": {},
   "outputs": [],
   "source": []
  },
  {
   "cell_type": "code",
   "execution_count": null,
   "metadata": {},
   "outputs": [],
   "source": []
  },
  {
   "cell_type": "code",
   "execution_count": null,
   "metadata": {},
   "outputs": [],
   "source": []
  },
  {
   "cell_type": "code",
   "execution_count": null,
   "metadata": {},
   "outputs": [],
   "source": []
  },
  {
   "cell_type": "code",
   "execution_count": null,
   "metadata": {},
   "outputs": [],
   "source": []
  },
  {
   "cell_type": "code",
   "execution_count": null,
   "metadata": {},
   "outputs": [],
   "source": []
  },
  {
   "cell_type": "code",
   "execution_count": null,
   "metadata": {},
   "outputs": [],
   "source": []
  },
  {
   "cell_type": "code",
   "execution_count": 430,
   "metadata": {},
   "outputs": [
    {
     "data": {
      "text/plain": [
       "<matplotlib.legend.Legend at 0x17f2c7bbd30>"
      ]
     },
     "execution_count": 430,
     "metadata": {},
     "output_type": "execute_result"
    },
    {
     "data": {
      "image/png": "[encoded data removed]",
      "text/plain": [
       "<Figure size 432x288 with 1 Axes>"
      ]
     },
     "metadata": {
      "needs_background": "light"
     },
     "output_type": "display_data"
    }
   ],
   "source": [
    "plt.figure()\n",
    "(dfxls['dvol_teor[m³]']*dfxls['state2']).plot(c='m',label='teor')\n",
    "(dfxls['dvol_calc[m³]']*dfxls['state2']).plot(c='b',label='calc')\n",
    "(dfxls['dvol_bal_feed_slurry[m³]']*dfxls['state2']).plot(c='cyan',label='slurry')\n",
    "(dfxls['dvol_work_chamb[m³]']*dfxls['state2']).plot(c='y',label='workchamb')\n",
    "\n",
    "plt.xlim(1855,1940)\n",
    "plt.legend()"
   ]
  },
  {
   "cell_type": "code",
   "execution_count": 238,
   "metadata": {},
   "outputs": [],
   "source": [
    "dfreduced=dfxls.loc[:,[col_list[pos_num],col_list[pos_feed],col_list[pos_slurry],col_list[pos_filllev],'dvol_bal_feed_slurry[m³]','dvol_work_chamb[m³]','dvol_teor[m³]','dvol_calc[m³]','dvol_teor-calc[m³]']]"
   ]
  },
  {
   "cell_type": "code",
   "execution_count": 239,
   "metadata": {},
   "outputs": [
    {
     "data": {
      "text/html": [
       "<div>\n",
       "<style scoped>\n",
       "    .dataframe tbody tr th:only-of-type {\n",
       "        vertical-align: middle;\n",
       "    }\n",
       "\n",
       "    .dataframe tbody tr th {\n",
       "        vertical-align: top;\n",
       "    }\n",
       "\n",
       "    .dataframe thead th {\n",
       "        text-align: right;\n",
       "    }\n",
       "</style>\n",
       "<table border=\"1\" class=\"dataframe\">\n",
       "  <thead>\n",
       "    <tr style=\"text-align: right;\">\n",
       "      <th></th>\n",
       "      <th>Flow feed line [m³/h]</th>\n",
       "      <th>Flow slurry line [m³/h]</th>\n",
       "      <th>Fill level working chamber [m]</th>\n",
       "      <th>dvol_bal_feed_slurry[m³]</th>\n",
       "      <th>dvol_work_chamb[m³]</th>\n",
       "      <th>dvol_teor[m³]</th>\n",
       "      <th>dvol_calc[m³]</th>\n",
       "      <th>dvol_teor-calc[m³]</th>\n",
       "    </tr>\n",
       "    <tr>\n",
       "      <th>S-1048_ADVANCE_ADVANCE_NO [-]</th>\n",
       "      <th></th>\n",
       "      <th></th>\n",
       "      <th></th>\n",
       "      <th></th>\n",
       "      <th></th>\n",
       "      <th></th>\n",
       "      <th></th>\n",
       "      <th></th>\n",
       "    </tr>\n",
       "  </thead>\n",
       "  <tbody>\n",
       "    <tr>\n",
       "      <th>4201</th>\n",
       "      <td>445.576182</td>\n",
       "      <td>485.967922</td>\n",
       "      <td>0.600130</td>\n",
       "      <td>0.336598</td>\n",
       "      <td>0.019335</td>\n",
       "      <td>0.259140</td>\n",
       "      <td>0.355933</td>\n",
       "      <td>-0.096793</td>\n",
       "    </tr>\n",
       "    <tr>\n",
       "      <th>4202</th>\n",
       "      <td>937.706839</td>\n",
       "      <td>997.494151</td>\n",
       "      <td>0.599995</td>\n",
       "      <td>0.498228</td>\n",
       "      <td>-0.004388</td>\n",
       "      <td>0.328651</td>\n",
       "      <td>0.493839</td>\n",
       "      <td>-0.165188</td>\n",
       "    </tr>\n",
       "    <tr>\n",
       "      <th>4203</th>\n",
       "      <td>896.246789</td>\n",
       "      <td>945.491432</td>\n",
       "      <td>0.564637</td>\n",
       "      <td>0.410372</td>\n",
       "      <td>0.011195</td>\n",
       "      <td>0.295210</td>\n",
       "      <td>0.421568</td>\n",
       "      <td>-0.126358</td>\n",
       "    </tr>\n",
       "    <tr>\n",
       "      <th>4204</th>\n",
       "      <td>273.703806</td>\n",
       "      <td>294.288308</td>\n",
       "      <td>0.523942</td>\n",
       "      <td>0.171538</td>\n",
       "      <td>-0.007851</td>\n",
       "      <td>0.128105</td>\n",
       "      <td>0.163687</td>\n",
       "      <td>-0.035582</td>\n",
       "    </tr>\n",
       "    <tr>\n",
       "      <th>4205</th>\n",
       "      <td>119.339317</td>\n",
       "      <td>129.672903</td>\n",
       "      <td>0.550027</td>\n",
       "      <td>0.086113</td>\n",
       "      <td>0.000219</td>\n",
       "      <td>0.066980</td>\n",
       "      <td>0.086333</td>\n",
       "      <td>-0.019352</td>\n",
       "    </tr>\n",
       "    <tr>\n",
       "      <th>4206</th>\n",
       "      <td>274.896902</td>\n",
       "      <td>297.759495</td>\n",
       "      <td>0.416213</td>\n",
       "      <td>0.190522</td>\n",
       "      <td>0.000260</td>\n",
       "      <td>0.134953</td>\n",
       "      <td>0.190781</td>\n",
       "      <td>-0.055829</td>\n",
       "    </tr>\n",
       "    <tr>\n",
       "      <th>4207</th>\n",
       "      <td>73.510305</td>\n",
       "      <td>74.056947</td>\n",
       "      <td>0.509025</td>\n",
       "      <td>0.004555</td>\n",
       "      <td>-0.001086</td>\n",
       "      <td>0.000000</td>\n",
       "      <td>0.003470</td>\n",
       "      <td>-0.003470</td>\n",
       "    </tr>\n",
       "  </tbody>\n",
       "</table>\n",
       "</div>"
      ],
      "text/plain": [
       "                               Flow feed line [m³/h]  Flow slurry line [m³/h]  \\\n",
       "S-1048_ADVANCE_ADVANCE_NO [-]                                                   \n",
       "4201                                      445.576182               485.967922   \n",
       "4202                                      937.706839               997.494151   \n",
       "4203                                      896.246789               945.491432   \n",
       "4204                                      273.703806               294.288308   \n",
       "4205                                      119.339317               129.672903   \n",
       "4206                                      274.896902               297.759495   \n",
       "4207                                       73.510305                74.056947   \n",
       "\n",
       "                               Fill level working chamber [m]  \\\n",
       "S-1048_ADVANCE_ADVANCE_NO [-]                                   \n",
       "4201                                                 0.600130   \n",
       "4202                                                 0.599995   \n",
       "4203                                                 0.564637   \n",
       "4204                                                 0.523942   \n",
       "4205                                                 0.550027   \n",
       "4206                                                 0.416213   \n",
       "4207                                                 0.509025   \n",
       "\n",
       "                               dvol_bal_feed_slurry[m³]  dvol_work_chamb[m³]  \\\n",
       "S-1048_ADVANCE_ADVANCE_NO [-]                                                  \n",
       "4201                                           0.336598             0.019335   \n",
       "4202                                           0.498228            -0.004388   \n",
       "4203                                           0.410372             0.011195   \n",
       "4204                                           0.171538            -0.007851   \n",
       "4205                                           0.086113             0.000219   \n",
       "4206                                           0.190522             0.000260   \n",
       "4207                                           0.004555            -0.001086   \n",
       "\n",
       "                               dvol_teor[m³]  dvol_calc[m³]  \\\n",
       "S-1048_ADVANCE_ADVANCE_NO [-]                                 \n",
       "4201                                0.259140       0.355933   \n",
       "4202                                0.328651       0.493839   \n",
       "4203                                0.295210       0.421568   \n",
       "4204                                0.128105       0.163687   \n",
       "4205                                0.066980       0.086333   \n",
       "4206                                0.134953       0.190781   \n",
       "4207                                0.000000       0.003470   \n",
       "\n",
       "                               dvol_teor-calc[m³]  \n",
       "S-1048_ADVANCE_ADVANCE_NO [-]                      \n",
       "4201                                    -0.096793  \n",
       "4202                                    -0.165188  \n",
       "4203                                    -0.126358  \n",
       "4204                                    -0.035582  \n",
       "4205                                    -0.019352  \n",
       "4206                                    -0.055829  \n",
       "4207                                    -0.003470  "
      ]
     },
     "execution_count": 239,
     "metadata": {},
     "output_type": "execute_result"
    }
   ],
   "source": [
    "dfreduced.groupby(col_list[pos_num]).agg(np.average)"
   ]
  },
  {
   "cell_type": "code",
   "execution_count": null,
   "metadata": {},
   "outputs": [],
   "source": [
    "dfxls.loc[:,[col_list[pos_num],col_list[pos_feed],col_list[pos_slurry],col_list[pos_filllev],'dvol_bal_feed_slurry[m³]','dvol_work_chamb[m³]','dvol_teor[m³]','dvol_calc[m³]','dvol_teor-calc[m³]']]"
   ]
  },
  {
   "cell_type": "code",
   "execution_count": 514,
   "metadata": {},
   "outputs": [
    {
     "data": {
      "text/html": [
       "<div>\n",
       "<style scoped>\n",
       "    .dataframe tbody tr th:only-of-type {\n",
       "        vertical-align: middle;\n",
       "    }\n",
       "\n",
       "    .dataframe tbody tr th {\n",
       "        vertical-align: top;\n",
       "    }\n",
       "\n",
       "    .dataframe thead th {\n",
       "        text-align: right;\n",
       "    }\n",
       "</style>\n",
       "<table border=\"1\" class=\"dataframe\">\n",
       "  <thead>\n",
       "    <tr style=\"text-align: right;\">\n",
       "      <th></th>\n",
       "      <th>AET Net Stroke [mm]</th>\n",
       "      <th>S-1048_ADVANCE_ADVANCE_NO [-]</th>\n",
       "      <th>change2</th>\n",
       "      <th>change</th>\n",
       "    </tr>\n",
       "  </thead>\n",
       "  <tbody>\n",
       "    <tr>\n",
       "      <th>199</th>\n",
       "      <td>1587</td>\n",
       "      <td>4202</td>\n",
       "      <td>True</td>\n",
       "      <td>False</td>\n",
       "    </tr>\n",
       "    <tr>\n",
       "      <th>369</th>\n",
       "      <td>1612</td>\n",
       "      <td>4202</td>\n",
       "      <td>True</td>\n",
       "      <td>False</td>\n",
       "    </tr>\n",
       "    <tr>\n",
       "      <th>566</th>\n",
       "      <td>1588</td>\n",
       "      <td>4203</td>\n",
       "      <td>True</td>\n",
       "      <td>False</td>\n",
       "    </tr>\n",
       "    <tr>\n",
       "      <th>962</th>\n",
       "      <td>1618</td>\n",
       "      <td>4205</td>\n",
       "      <td>True</td>\n",
       "      <td>False</td>\n",
       "    </tr>\n",
       "    <tr>\n",
       "      <th>1868</th>\n",
       "      <td>214</td>\n",
       "      <td>4205</td>\n",
       "      <td>True</td>\n",
       "      <td>False</td>\n",
       "    </tr>\n",
       "    <tr>\n",
       "      <th>1932</th>\n",
       "      <td>1601</td>\n",
       "      <td>4205</td>\n",
       "      <td>True</td>\n",
       "      <td>False</td>\n",
       "    </tr>\n",
       "    <tr>\n",
       "      <th>2349</th>\n",
       "      <td>1601</td>\n",
       "      <td>4206</td>\n",
       "      <td>True</td>\n",
       "      <td>False</td>\n",
       "    </tr>\n",
       "  </tbody>\n",
       "</table>\n",
       "</div>"
      ],
      "text/plain": [
       "      AET Net Stroke [mm]  S-1048_ADVANCE_ADVANCE_NO [-]  change2  change\n",
       "199                  1587                           4202     True   False\n",
       "369                  1612                           4202     True   False\n",
       "566                  1588                           4203     True   False\n",
       "962                  1618                           4205     True   False\n",
       "1868                  214                           4205     True   False\n",
       "1932                 1601                           4205     True   False\n",
       "2349                 1601                           4206     True   False"
      ]
     },
     "execution_count": 514,
     "metadata": {},
     "output_type": "execute_result"
    }
   ],
   "source": [
    "dfxls[dfxls['change2']==True][[col_list[pos_stroke],col_list[pos_num],'change2','change']]"
   ]
  },
  {
   "cell_type": "code",
   "execution_count": 515,
   "metadata": {},
   "outputs": [
    {
     "data": {
      "text/html": [
       "<div>\n",
       "<style scoped>\n",
       "    .dataframe tbody tr th:only-of-type {\n",
       "        vertical-align: middle;\n",
       "    }\n",
       "\n",
       "    .dataframe tbody tr th {\n",
       "        vertical-align: top;\n",
       "    }\n",
       "\n",
       "    .dataframe thead th {\n",
       "        text-align: right;\n",
       "    }\n",
       "</style>\n",
       "<table border=\"1\" class=\"dataframe\">\n",
       "  <thead>\n",
       "    <tr style=\"text-align: right;\">\n",
       "      <th></th>\n",
       "      <th>AET Net Stroke [mm]</th>\n",
       "    </tr>\n",
       "    <tr>\n",
       "      <th>S-1048_ADVANCE_ADVANCE_NO [-]</th>\n",
       "      <th></th>\n",
       "    </tr>\n",
       "  </thead>\n",
       "  <tbody>\n",
       "    <tr>\n",
       "      <th>4201</th>\n",
       "      <td>38</td>\n",
       "    </tr>\n",
       "    <tr>\n",
       "      <th>4202</th>\n",
       "      <td>38</td>\n",
       "    </tr>\n",
       "    <tr>\n",
       "      <th>4203</th>\n",
       "      <td>38</td>\n",
       "    </tr>\n",
       "    <tr>\n",
       "      <th>4204</th>\n",
       "      <td>25</td>\n",
       "    </tr>\n",
       "    <tr>\n",
       "      <th>4205</th>\n",
       "      <td>29</td>\n",
       "    </tr>\n",
       "    <tr>\n",
       "      <th>4206</th>\n",
       "      <td>40</td>\n",
       "    </tr>\n",
       "  </tbody>\n",
       "</table>\n",
       "</div>"
      ],
      "text/plain": [
       "                               AET Net Stroke [mm]\n",
       "S-1048_ADVANCE_ADVANCE_NO [-]                     \n",
       "4201                                            38\n",
       "4202                                            38\n",
       "4203                                            38\n",
       "4204                                            25\n",
       "4205                                            29\n",
       "4206                                            40"
      ]
     },
     "execution_count": 515,
     "metadata": {},
     "output_type": "execute_result"
    }
   ],
   "source": [
    "dfxls[dfxls['change']==True].groupby(col_list[pos_num]).agg({col_list[pos_stroke]:min})"
   ]
  },
  {
   "cell_type": "code",
   "execution_count": 345,
   "metadata": {},
   "outputs": [
    {
     "data": {
      "text/plain": [
       "S-1048_ADVANCE_ADVANCE_NO [-]\n",
       "4201    AxesSubplot(0.125,0.125;0.775x0.755)\n",
       "4202    AxesSubplot(0.125,0.125;0.775x0.755)\n",
       "4203    AxesSubplot(0.125,0.125;0.775x0.755)\n",
       "4204    AxesSubplot(0.125,0.125;0.775x0.755)\n",
       "4205    AxesSubplot(0.125,0.125;0.775x0.755)\n",
       "4206    AxesSubplot(0.125,0.125;0.775x0.755)\n",
       "4207    AxesSubplot(0.125,0.125;0.775x0.755)\n",
       "Name: AET Net Stroke [mm], dtype: object"
      ]
     },
     "execution_count": 345,
     "metadata": {},
     "output_type": "execute_result"
    },
    {
     "data": {
      "image/png": "[encoded data removed]",
      "text/plain": [
       "<Figure size 432x288 with 1 Axes>"
      ]
     },
     "metadata": {
      "needs_background": "light"
     },
     "output_type": "display_data"
    }
   ],
   "source": [
    "dfxls.groupby(col_list[pos_num])[col_list[pos_stroke]].plot()"
   ]
  },
  {
   "cell_type": "code",
   "execution_count": null,
   "metadata": {},
   "outputs": [],
   "source": []
  },
  {
   "cell_type": "code",
   "execution_count": 403,
   "metadata": {},
   "outputs": [],
   "source": []
  },
  {
   "cell_type": "code",
   "execution_count": 575,
   "metadata": {},
   "outputs": [
    {
     "data": {
      "text/plain": [
       "<matplotlib.legend.Legend at 0x17f2ca0e470>"
      ]
     },
     "execution_count": 575,
     "metadata": {},
     "output_type": "execute_result"
    },
    {
     "data": {
      "image/png": "[encoded data removed]",
      "text/plain": [
       "<Figure size 432x288 with 1 Axes>"
      ]
     },
     "metadata": {
      "needs_background": "light"
     },
     "output_type": "display_data"
    }
   ],
   "source": [
    "dfxls.groupby('num_corr')[col_list[pos_stroke]].plot()\n",
    "plt.legend()"
   ]
  },
  {
   "cell_type": "code",
   "execution_count": null,
   "metadata": {},
   "outputs": [],
   "source": []
  },
  {
   "cell_type": "code",
   "execution_count": null,
   "metadata": {},
   "outputs": [],
   "source": []
  },
  {
   "cell_type": "code",
   "execution_count": null,
   "metadata": {},
   "outputs": [],
   "source": []
  },
  {
   "cell_type": "code",
   "execution_count": null,
   "metadata": {},
   "outputs": [],
   "source": [
    "# prima metti a posto il numero di anello"
   ]
  },
  {
   "cell_type": "code",
   "execution_count": 408,
   "metadata": {},
   "outputs": [],
   "source": []
  },
  {
   "cell_type": "code",
   "execution_count": null,
   "metadata": {},
   "outputs": [],
   "source": [
    "# used_g = df.groupby('user')['used']\n",
    "# df['new'] = used_g.cumcount() - used_g.transform(lambda x: (x.values).argmax())"
   ]
  },
  {
   "cell_type": "code",
   "execution_count": 409,
   "metadata": {},
   "outputs": [],
   "source": [
    "dfxls['dvol_bal_feed_slurry_cum_seg[m³]'] = gr.cumsum().shift(-1).fillna(0)"
   ]
  },
  {
   "cell_type": "code",
   "execution_count": 410,
   "metadata": {},
   "outputs": [
    {
     "data": {
      "text/plain": [
       "<matplotlib.axes._subplots.AxesSubplot at 0x17f0b1e5eb8>"
      ]
     },
     "execution_count": 410,
     "metadata": {},
     "output_type": "execute_result"
    },
    {
     "data": {
      "image/png": "[encoded data removed]",
      "text/plain": [
       "<Figure size 432x288 with 1 Axes>"
      ]
     },
     "metadata": {
      "needs_background": "light"
     },
     "output_type": "display_data"
    }
   ],
   "source": [
    "dfxls['dvol_bal_feed_slurry_cum_seg[m³]'].plot()"
   ]
  },
  {
   "cell_type": "code",
   "execution_count": 473,
   "metadata": {},
   "outputs": [
    {
     "data": {
      "text/plain": [
       "<matplotlib.legend.Legend at 0x17ec366d898>"
      ]
     },
     "execution_count": 473,
     "metadata": {},
     "output_type": "execute_result"
    },
    {
     "data": {
      "image/png": "[encoded data removed]",
      "text/plain": [
       "<Figure size 432x288 with 1 Axes>"
      ]
     },
     "metadata": {
      "needs_background": "light"
     },
     "output_type": "display_data"
    }
   ],
   "source": [
    "plt.figure()\n",
    "(dfxls['dvol_teor[m³]']*dfxls['state2']).plot(c='m',label='teor')\n",
    "(dfxls['dvol_calc[m³]']*dfxls['state2']).plot(c='b',label='calc')\n",
    "(dfxls['dvol_bal_feed_slurry[m³]']*dfxls['state2']).plot(c='cyan',label='slurry')\n",
    "(dfxls['dvol_work_chamb[m³]']*dfxls['state2']).plot(c='y',label='workchamb')\n",
    "(dfxls['dvol_calc_MthE[m³]']).plot(c='g',label='MethE')\n",
    "plt.xlim(1855,1940)\n",
    "plt.legend()"
   ]
  },
  {
   "cell_type": "code",
   "execution_count": 472,
   "metadata": {},
   "outputs": [
    {
     "data": {
      "text/plain": [
       "<matplotlib.legend.Legend at 0x17ed9679978>"
      ]
     },
     "execution_count": 472,
     "metadata": {},
     "output_type": "execute_result"
    },
    {
     "data": {
      "image/png": "[encoded data removed]",
      "text/plain": [
       "<Figure size 432x288 with 1 Axes>"
      ]
     },
     "metadata": {
      "needs_background": "light"
     },
     "output_type": "display_data"
    }
   ],
   "source": [
    "plt.figure()\n",
    "(dfxls['dvol_teor_cum_seg[m³]']).plot(c='m',label='teor')\n",
    "(dfxls['dvol_calc_cum_seg[m³]']).plot(c='b',label='calc')\n",
    "(dfxls['dvol_bal_feed_slurry_cum_seg[m³]']).plot(c='cyan',label='slurry')\n",
    "(dfxls['dvol_work_chamb_cum_seg[m³]']).plot(c='y',label='workchamb')\n",
    "(dfxls['dvol_calc_MthE_cum_seg[m³]']).plot(c='g',label='MethE')\n",
    "plt.xlim(1858,1930)\n",
    "plt.legend()"
   ]
  },
  {
   "cell_type": "code",
   "execution_count": 427,
   "metadata": {},
   "outputs": [
    {
     "data": {
      "text/plain": [
       "<matplotlib.legend.Legend at 0x17f2ba53f98>"
      ]
     },
     "execution_count": 427,
     "metadata": {},
     "output_type": "execute_result"
    },
    {
     "data": {
      "image/png": "[encoded data removed]",
      "text/plain": [
       "<Figure size 432x288 with 1 Axes>"
      ]
     },
     "metadata": {
      "needs_background": "light"
     },
     "output_type": "display_data"
    }
   ],
   "source": [
    "# 'vol_teor_cum[m³]'\n",
    "# #\n",
    "# 'dvol_teor[m³]'\n",
    "# 'dvol_bal_feed_slurry[m³]'    \n",
    "# 'dvol_work_chamb[m³]'\n",
    "# #\n",
    "# 'dvol_calc[m³]'\n",
    "# 'dvol_teor-calc[m³]'\n",
    "\n",
    "\n",
    "# dfxls['dvol_teor_cum_seg[m³]'].plot()\n",
    "dfxls['dvol_bal_feed_slurry_cum_seg[m³]'].plot()\n",
    "dfxls['dvol_work_chamb_cum_seg[m³]'].plot()\n",
    "# dfxls['dvol_calc_cum_seg[m³]'].plot()\n",
    "# dfxls['dvol_teor-calc_cum_seg[m³]'].plot()\n",
    "\n",
    "plt.legend()"
   ]
  },
  {
   "cell_type": "code",
   "execution_count": 612,
   "metadata": {},
   "outputs": [
    {
     "data": {
      "text/plain": [
       "<matplotlib.legend.Legend at 0x17f0a038fd0>"
      ]
     },
     "execution_count": 612,
     "metadata": {},
     "output_type": "execute_result"
    },
    {
     "data": {
      "image/png": "[encoded data removed]",
      "text/plain": [
       "<Figure size 1440x720 with 1 Axes>"
      ]
     },
     "metadata": {
      "needs_background": "light"
     },
     "output_type": "display_data"
    }
   ],
   "source": [
    "plt.figure(figsize=(20,10))\n",
    "(dfxls['dvol_teor_cum_seg[m³]']).plot(c='m',label='teor')\n",
    "(dfxls['dvol_calc_cum_seg[m³]']).plot(c='b',label='calc')\n",
    "(dfxls['dvol_bal_feed_slurry_cum_seg[m³]']).plot(c='cyan',label='slurry')\n",
    "(dfxls['dvol_work_chamb_cum_seg[m³]']).plot(c='y',label='workchamb')\n",
    "(dfxls['dvol_calc_MthE_cum_seg[m³]']).plot(c='g',label='MethE')\n",
    "# plt.xlim(1858,1930)\n",
    "plt.xlim(0,1950)\n",
    "plt.legend()"
   ]
  },
  {
   "cell_type": "code",
   "execution_count": 615,
   "metadata": {},
   "outputs": [
    {
     "data": {
      "text/html": [
       "<div>\n",
       "<style scoped>\n",
       "    .dataframe tbody tr th:only-of-type {\n",
       "        vertical-align: middle;\n",
       "    }\n",
       "\n",
       "    .dataframe tbody tr th {\n",
       "        vertical-align: top;\n",
       "    }\n",
       "\n",
       "    .dataframe thead th {\n",
       "        text-align: right;\n",
       "    }\n",
       "</style>\n",
       "<table border=\"1\" class=\"dataframe\">\n",
       "  <thead>\n",
       "    <tr style=\"text-align: right;\">\n",
       "      <th></th>\n",
       "      <th>AET Net Stroke [mm]</th>\n",
       "      <th>AET Net Stroke [mm]</th>\n",
       "      <th>S-1048_ADVANCE_ADVANCE_NO [-]</th>\n",
       "      <th>Fill level working chamber [m]</th>\n",
       "      <th>Flow feed line [m³/h]</th>\n",
       "      <th>Flow slurry line [m³/h]</th>\n",
       "      <th>dvol_calc_cum_seg[m³]</th>\n",
       "      <th>dvol_teor_cum_seg[m³]</th>\n",
       "      <th>dvol_calc_MthE_cum_seg[m³]</th>\n",
       "    </tr>\n",
       "  </thead>\n",
       "  <tbody>\n",
       "    <tr>\n",
       "      <th>962</th>\n",
       "      <td>1618</td>\n",
       "      <td>1618</td>\n",
       "      <td>4205</td>\n",
       "      <td>0.512</td>\n",
       "      <td>1017.506</td>\n",
       "      <td>1005.281</td>\n",
       "      <td>0.151774</td>\n",
       "      <td>0.00000</td>\n",
       "      <td>0.281110</td>\n",
       "    </tr>\n",
       "    <tr>\n",
       "      <th>963</th>\n",
       "      <td>1618</td>\n",
       "      <td>1618</td>\n",
       "      <td>4205</td>\n",
       "      <td>0.553</td>\n",
       "      <td>997.179</td>\n",
       "      <td>979.601</td>\n",
       "      <td>0.214046</td>\n",
       "      <td>0.00000</td>\n",
       "      <td>0.457913</td>\n",
       "    </tr>\n",
       "    <tr>\n",
       "      <th>964</th>\n",
       "      <td>1618</td>\n",
       "      <td>1618</td>\n",
       "      <td>4205</td>\n",
       "      <td>0.569</td>\n",
       "      <td>1008.319</td>\n",
       "      <td>1004.196</td>\n",
       "      <td>0.223081</td>\n",
       "      <td>0.00000</td>\n",
       "      <td>0.601315</td>\n",
       "    </tr>\n",
       "    <tr>\n",
       "      <th>965</th>\n",
       "      <td>1618</td>\n",
       "      <td>1618</td>\n",
       "      <td>4205</td>\n",
       "      <td>0.615</td>\n",
       "      <td>1029.297</td>\n",
       "      <td>996.745</td>\n",
       "      <td>0.058369</td>\n",
       "      <td>0.00000</td>\n",
       "      <td>0.752806</td>\n",
       "    </tr>\n",
       "    <tr>\n",
       "      <th>966</th>\n",
       "      <td>1618</td>\n",
       "      <td>1618</td>\n",
       "      <td>4205</td>\n",
       "      <td>0.662</td>\n",
       "      <td>1054.326</td>\n",
       "      <td>999.711</td>\n",
       "      <td>0.155094</td>\n",
       "      <td>0.00000</td>\n",
       "      <td>0.900020</td>\n",
       "    </tr>\n",
       "    <tr>\n",
       "      <th>...</th>\n",
       "      <td>...</td>\n",
       "      <td>...</td>\n",
       "      <td>...</td>\n",
       "      <td>...</td>\n",
       "      <td>...</td>\n",
       "      <td>...</td>\n",
       "      <td>...</td>\n",
       "      <td>...</td>\n",
       "      <td>...</td>\n",
       "    </tr>\n",
       "    <tr>\n",
       "      <th>1927</th>\n",
       "      <td>1506</td>\n",
       "      <td>1506</td>\n",
       "      <td>4205</td>\n",
       "      <td>0.358</td>\n",
       "      <td>979.456</td>\n",
       "      <td>1081.597</td>\n",
       "      <td>72.075261</td>\n",
       "      <td>54.16798</td>\n",
       "      <td>37.321123</td>\n",
       "    </tr>\n",
       "    <tr>\n",
       "      <th>1928</th>\n",
       "      <td>1530</td>\n",
       "      <td>1530</td>\n",
       "      <td>4205</td>\n",
       "      <td>0.334</td>\n",
       "      <td>959.201</td>\n",
       "      <td>1083.623</td>\n",
       "      <td>72.991611</td>\n",
       "      <td>55.02214</td>\n",
       "      <td>37.529453</td>\n",
       "    </tr>\n",
       "    <tr>\n",
       "      <th>1929</th>\n",
       "      <td>1554</td>\n",
       "      <td>1554</td>\n",
       "      <td>4205</td>\n",
       "      <td>0.340</td>\n",
       "      <td>970.341</td>\n",
       "      <td>1076.172</td>\n",
       "      <td>74.273237</td>\n",
       "      <td>55.87630</td>\n",
       "      <td>37.622132</td>\n",
       "    </tr>\n",
       "    <tr>\n",
       "      <th>1930</th>\n",
       "      <td>1578</td>\n",
       "      <td>1578</td>\n",
       "      <td>4205</td>\n",
       "      <td>0.484</td>\n",
       "      <td>961.733</td>\n",
       "      <td>1014.902</td>\n",
       "      <td>74.971002</td>\n",
       "      <td>56.69487</td>\n",
       "      <td>37.889374</td>\n",
       "    </tr>\n",
       "    <tr>\n",
       "      <th>1931</th>\n",
       "      <td>1601</td>\n",
       "      <td>1601</td>\n",
       "      <td>4205</td>\n",
       "      <td>0.515</td>\n",
       "      <td>947.917</td>\n",
       "      <td>1009.549</td>\n",
       "      <td>0.385361</td>\n",
       "      <td>0.00000</td>\n",
       "      <td>0.084002</td>\n",
       "    </tr>\n",
       "  </tbody>\n",
       "</table>\n",
       "<p>970 rows × 9 columns</p>\n",
       "</div>"
      ],
      "text/plain": [
       "      AET Net Stroke [mm]  AET Net Stroke [mm]  S-1048_ADVANCE_ADVANCE_NO [-]  \\\n",
       "962                  1618                 1618                           4205   \n",
       "963                  1618                 1618                           4205   \n",
       "964                  1618                 1618                           4205   \n",
       "965                  1618                 1618                           4205   \n",
       "966                  1618                 1618                           4205   \n",
       "...                   ...                  ...                            ...   \n",
       "1927                 1506                 1506                           4205   \n",
       "1928                 1530                 1530                           4205   \n",
       "1929                 1554                 1554                           4205   \n",
       "1930                 1578                 1578                           4205   \n",
       "1931                 1601                 1601                           4205   \n",
       "\n",
       "      Fill level working chamber [m]  Flow feed line [m³/h]  \\\n",
       "962                            0.512               1017.506   \n",
       "963                            0.553                997.179   \n",
       "964                            0.569               1008.319   \n",
       "965                            0.615               1029.297   \n",
       "966                            0.662               1054.326   \n",
       "...                              ...                    ...   \n",
       "1927                           0.358                979.456   \n",
       "1928                           0.334                959.201   \n",
       "1929                           0.340                970.341   \n",
       "1930                           0.484                961.733   \n",
       "1931                           0.515                947.917   \n",
       "\n",
       "      Flow slurry line [m³/h]  dvol_calc_cum_seg[m³]  dvol_teor_cum_seg[m³]  \\\n",
       "962                  1005.281               0.151774                0.00000   \n",
       "963                   979.601               0.214046                0.00000   \n",
       "964                  1004.196               0.223081                0.00000   \n",
       "965                   996.745               0.058369                0.00000   \n",
       "966                   999.711               0.155094                0.00000   \n",
       "...                       ...                    ...                    ...   \n",
       "1927                 1081.597              72.075261               54.16798   \n",
       "1928                 1083.623              72.991611               55.02214   \n",
       "1929                 1076.172              74.273237               55.87630   \n",
       "1930                 1014.902              74.971002               56.69487   \n",
       "1931                 1009.549               0.385361                0.00000   \n",
       "\n",
       "      dvol_calc_MthE_cum_seg[m³]  \n",
       "962                     0.281110  \n",
       "963                     0.457913  \n",
       "964                     0.601315  \n",
       "965                     0.752806  \n",
       "966                     0.900020  \n",
       "...                          ...  \n",
       "1927                   37.321123  \n",
       "1928                   37.529453  \n",
       "1929                   37.622132  \n",
       "1930                   37.889374  \n",
       "1931                    0.084002  \n",
       "\n",
       "[970 rows x 9 columns]"
      ]
     },
     "execution_count": 615,
     "metadata": {},
     "output_type": "execute_result"
    }
   ],
   "source": [
    "dfxls[dfxls.num_corr==4205][[cl[pos_stroke],cl[pos_stroke],cl[pos_num],cl[pos_filllev],cl[pos_feed],cl[pos_slurry],'dvol_calc_cum_seg[m³]','dvol_teor_cum_seg[m³]','dvol_calc_MthE_cum_seg[m³]']]"
   ]
  },
  {
   "cell_type": "code",
   "execution_count": null,
   "metadata": {},
   "outputs": [],
   "source": [
    "# 'vol_teor_cum[m³]'\n",
    "# 'dvol_teor[m³]'\n",
    "# 'dvol_bal_feed_slurry[m³]'    \n",
    "# 'dvol_work_chamb[m³]'\n",
    "# 'dvol_calc[m³]'\n",
    "# 'dvol_calc_MthE[m³]'\n",
    "# 'dvol_teor-calc[m³]'\n",
    "# 'dvol_teor_cum_seg[m³]'\n",
    "# 'dvol_bal_feed_slurry_cum_seg[m³]'\n",
    "# 'dvol_work_chamb_cum_seg[m³]'\n",
    "# 'dvol_calc_cum_seg[m³]'\n",
    "# 'dvol_teor-calc_cum_seg[m³]'\n",
    "# 'dvol_calc_MthE_cum_seg[m³]'"
   ]
  },
  {
   "cell_type": "code",
   "execution_count": null,
   "metadata": {},
   "outputs": [],
   "source": []
  }
 ],
 "metadata": {
  "kernelspec": {
   "display_name": "Python 3",
   "language": "python",
   "name": "python3"
  },
  "language_info": {
   "codemirror_mode": {
    "name": "ipython",
    "version": 3
   },
   "file_extension": ".py",
   "mimetype": "text/x-python",
   "name": "python",
   "nbconvert_exporter": "python",
   "pygments_lexer": "ipython3",
   "version": "3.7.1"
  }
 },
 "nbformat": 4,
 "nbformat_minor": 4
}
